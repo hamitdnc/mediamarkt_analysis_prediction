{
 "cells": [
  {
   "cell_type": "code",
   "execution_count": 1101,
   "metadata": {},
   "outputs": [],
   "source": [
    "import numpy as np\n",
    "import pandas as pd\n",
    "from pandas import Series, DataFrame\n",
    "import matplotlib.pyplot as plt\n",
    "import seaborn as sns\n",
    "import warnings\n",
    "warnings.filterwarnings('ignore')"
   ]
  },
  {
   "cell_type": "code",
   "execution_count": 1102,
   "metadata": {},
   "outputs": [],
   "source": [
    "df = pd.read_excel(r\"C:\\Users\\Hamit_DNCAcc\\DSMay22\\Project2_Selenium\\wasmachines.xlsx\")"
   ]
  },
  {
   "cell_type": "code",
   "execution_count": 1103,
   "metadata": {},
   "outputs": [
    {
     "data": {
      "text/html": [
       "<div>\n",
       "<style scoped>\n",
       "    .dataframe tbody tr th:only-of-type {\n",
       "        vertical-align: middle;\n",
       "    }\n",
       "\n",
       "    .dataframe tbody tr th {\n",
       "        vertical-align: top;\n",
       "    }\n",
       "\n",
       "    .dataframe thead th {\n",
       "        text-align: right;\n",
       "    }\n",
       "</style>\n",
       "<table border=\"1\" class=\"dataframe\">\n",
       "  <thead>\n",
       "    <tr style=\"text-align: right;\">\n",
       "      <th></th>\n",
       "      <th>Unnamed: 0</th>\n",
       "      <th>Brand</th>\n",
       "      <th>Price</th>\n",
       "      <th>Vulgewicht wassen</th>\n",
       "      <th>Type apparaat</th>\n",
       "      <th>Type belading</th>\n",
       "      <th>Soort apparaat</th>\n",
       "      <th>Volume centrifugeren</th>\n",
       "      <th>Bediening</th>\n",
       "      <th>Aantal programma’s</th>\n",
       "      <th>...</th>\n",
       "      <th>Off-mode (W)</th>\n",
       "      <th>Programme duration in h:min (Half)</th>\n",
       "      <th>Programme duration in h:min (Quarter)</th>\n",
       "      <th>Remaining moisture content (Quarter)</th>\n",
       "      <th>Spin speed (Half)</th>\n",
       "      <th>Spin speed (Quarter)</th>\n",
       "      <th>Standby mode (W)</th>\n",
       "      <th>Energy Efficiency Index wash+dry (EEIWD)</th>\n",
       "      <th>Temperatuurbereik</th>\n",
       "      <th>BetterWay</th>\n",
       "    </tr>\n",
       "  </thead>\n",
       "  <tbody>\n",
       "    <tr>\n",
       "      <th>0</th>\n",
       "      <td>0</td>\n",
       "      <td>MIELE</td>\n",
       "      <td>1149</td>\n",
       "      <td>8 kg</td>\n",
       "      <td>Wasmachine</td>\n",
       "      <td>Voorlader</td>\n",
       "      <td>Vrijstaand</td>\n",
       "      <td>70 dB(A)</td>\n",
       "      <td>Mechanisch + Elektronisch</td>\n",
       "      <td>14.0</td>\n",
       "      <td>...</td>\n",
       "      <td>NaN</td>\n",
       "      <td>NaN</td>\n",
       "      <td>NaN</td>\n",
       "      <td>NaN</td>\n",
       "      <td>NaN</td>\n",
       "      <td>NaN</td>\n",
       "      <td>NaN</td>\n",
       "      <td>NaN</td>\n",
       "      <td>NaN</td>\n",
       "      <td>NaN</td>\n",
       "    </tr>\n",
       "    <tr>\n",
       "      <th>1</th>\n",
       "      <td>1</td>\n",
       "      <td>SHARP</td>\n",
       "      <td>399</td>\n",
       "      <td>8 kg</td>\n",
       "      <td>Wasmachine</td>\n",
       "      <td>Voorlader</td>\n",
       "      <td>Vrijstaand</td>\n",
       "      <td>75 dB(A)</td>\n",
       "      <td>Mechanisch + Elektronisch</td>\n",
       "      <td>15.0</td>\n",
       "      <td>...</td>\n",
       "      <td>NaN</td>\n",
       "      <td>NaN</td>\n",
       "      <td>NaN</td>\n",
       "      <td>NaN</td>\n",
       "      <td>NaN</td>\n",
       "      <td>NaN</td>\n",
       "      <td>NaN</td>\n",
       "      <td>NaN</td>\n",
       "      <td>NaN</td>\n",
       "      <td>NaN</td>\n",
       "    </tr>\n",
       "    <tr>\n",
       "      <th>2</th>\n",
       "      <td>2</td>\n",
       "      <td>BEKO</td>\n",
       "      <td>399</td>\n",
       "      <td>8 kg</td>\n",
       "      <td>Wasmachine</td>\n",
       "      <td>Voorlader</td>\n",
       "      <td>Vrijstaand</td>\n",
       "      <td>72 dB(A)</td>\n",
       "      <td>Mechanisch + Elektronisch</td>\n",
       "      <td>15.0</td>\n",
       "      <td>...</td>\n",
       "      <td>NaN</td>\n",
       "      <td>NaN</td>\n",
       "      <td>NaN</td>\n",
       "      <td>NaN</td>\n",
       "      <td>NaN</td>\n",
       "      <td>NaN</td>\n",
       "      <td>NaN</td>\n",
       "      <td>NaN</td>\n",
       "      <td>NaN</td>\n",
       "      <td>NaN</td>\n",
       "    </tr>\n",
       "    <tr>\n",
       "      <th>3</th>\n",
       "      <td>3</td>\n",
       "      <td>SAMSUNG</td>\n",
       "      <td>549</td>\n",
       "      <td>8 kg</td>\n",
       "      <td>Was-droogcombinatie</td>\n",
       "      <td>Voorlader</td>\n",
       "      <td>Vrijstaand</td>\n",
       "      <td>72 dB(A)</td>\n",
       "      <td>Elektronisch</td>\n",
       "      <td>14.0</td>\n",
       "      <td>...</td>\n",
       "      <td>NaN</td>\n",
       "      <td>NaN</td>\n",
       "      <td>NaN</td>\n",
       "      <td>NaN</td>\n",
       "      <td>NaN</td>\n",
       "      <td>NaN</td>\n",
       "      <td>NaN</td>\n",
       "      <td>NaN</td>\n",
       "      <td>NaN</td>\n",
       "      <td>NaN</td>\n",
       "    </tr>\n",
       "    <tr>\n",
       "      <th>4</th>\n",
       "      <td>4</td>\n",
       "      <td>BOSCH</td>\n",
       "      <td>649</td>\n",
       "      <td>9 kg</td>\n",
       "      <td>Wasmachine</td>\n",
       "      <td>Voorlader</td>\n",
       "      <td>Vrijstaand</td>\n",
       "      <td>72 dB(A)</td>\n",
       "      <td>Mechanisch + Elektronisch</td>\n",
       "      <td>15.0</td>\n",
       "      <td>...</td>\n",
       "      <td>NaN</td>\n",
       "      <td>NaN</td>\n",
       "      <td>NaN</td>\n",
       "      <td>NaN</td>\n",
       "      <td>NaN</td>\n",
       "      <td>NaN</td>\n",
       "      <td>NaN</td>\n",
       "      <td>NaN</td>\n",
       "      <td>NaN</td>\n",
       "      <td>NaN</td>\n",
       "    </tr>\n",
       "  </tbody>\n",
       "</table>\n",
       "<p>5 rows × 119 columns</p>\n",
       "</div>"
      ],
      "text/plain": [
       "   Unnamed: 0    Brand  Price Vulgewicht wassen        Type apparaat  \\\n",
       "0           0    MIELE   1149              8 kg           Wasmachine   \n",
       "1           1    SHARP    399              8 kg           Wasmachine   \n",
       "2           2     BEKO    399              8 kg           Wasmachine   \n",
       "3           3  SAMSUNG    549              8 kg  Was-droogcombinatie   \n",
       "4           4    BOSCH    649              9 kg           Wasmachine   \n",
       "\n",
       "  Type belading Soort apparaat Volume centrifugeren  \\\n",
       "0     Voorlader     Vrijstaand             70 dB(A)   \n",
       "1     Voorlader     Vrijstaand             75 dB(A)   \n",
       "2     Voorlader     Vrijstaand             72 dB(A)   \n",
       "3     Voorlader     Vrijstaand             72 dB(A)   \n",
       "4     Voorlader     Vrijstaand             72 dB(A)   \n",
       "\n",
       "                   Bediening  Aantal programma’s  ... Off-mode (W)  \\\n",
       "0  Mechanisch + Elektronisch                14.0  ...          NaN   \n",
       "1  Mechanisch + Elektronisch                15.0  ...          NaN   \n",
       "2  Mechanisch + Elektronisch                15.0  ...          NaN   \n",
       "3               Elektronisch                14.0  ...          NaN   \n",
       "4  Mechanisch + Elektronisch                15.0  ...          NaN   \n",
       "\n",
       "  Programme duration in h:min (Half) Programme duration in h:min (Quarter)  \\\n",
       "0                                NaN                                   NaN   \n",
       "1                                NaN                                   NaN   \n",
       "2                                NaN                                   NaN   \n",
       "3                                NaN                                   NaN   \n",
       "4                                NaN                                   NaN   \n",
       "\n",
       "  Remaining moisture content (Quarter) Spin speed (Half) Spin speed (Quarter)  \\\n",
       "0                                  NaN               NaN                  NaN   \n",
       "1                                  NaN               NaN                  NaN   \n",
       "2                                  NaN               NaN                  NaN   \n",
       "3                                  NaN               NaN                  NaN   \n",
       "4                                  NaN               NaN                  NaN   \n",
       "\n",
       "  Standby mode (W) Energy Efficiency Index wash+dry (EEIWD) Temperatuurbereik  \\\n",
       "0              NaN                                      NaN               NaN   \n",
       "1              NaN                                      NaN               NaN   \n",
       "2              NaN                                      NaN               NaN   \n",
       "3              NaN                                      NaN               NaN   \n",
       "4              NaN                                      NaN               NaN   \n",
       "\n",
       "  BetterWay  \n",
       "0       NaN  \n",
       "1       NaN  \n",
       "2       NaN  \n",
       "3       NaN  \n",
       "4       NaN  \n",
       "\n",
       "[5 rows x 119 columns]"
      ]
     },
     "execution_count": 1103,
     "metadata": {},
     "output_type": "execute_result"
    }
   ],
   "source": [
    "df.head()"
   ]
  },
  {
   "cell_type": "code",
   "execution_count": 1104,
   "metadata": {},
   "outputs": [
    {
     "data": {
      "text/plain": [
       "Index(['Unnamed: 0', 'Brand', 'Price', 'Vulgewicht wassen', 'Type apparaat',\n",
       "       'Type belading', 'Soort apparaat', 'Volume centrifugeren', 'Bediening',\n",
       "       'Aantal programma’s',\n",
       "       ...\n",
       "       'Off-mode (W)', 'Programme duration in h:min (Half)',\n",
       "       'Programme duration in h:min (Quarter)',\n",
       "       'Remaining moisture content (Quarter)', 'Spin speed (Half)',\n",
       "       'Spin speed (Quarter)', 'Standby mode (W)',\n",
       "       'Energy Efficiency Index wash+dry (EEIWD)', 'Temperatuurbereik',\n",
       "       'BetterWay'],\n",
       "      dtype='object', length=119)"
      ]
     },
     "execution_count": 1104,
     "metadata": {},
     "output_type": "execute_result"
    }
   ],
   "source": [
    "df.columns"
   ]
  },
  {
   "cell_type": "code",
   "execution_count": 1105,
   "metadata": {},
   "outputs": [
    {
     "name": "stdout",
     "output_type": "stream",
     "text": [
      "<class 'pandas.core.frame.DataFrame'>\n",
      "RangeIndex: 157 entries, 0 to 156\n",
      "Data columns (total 56 columns):\n",
      " #   Column                                            Non-Null Count  Dtype  \n",
      "---  ------                                            --------------  -----  \n",
      " 0   Unnamed: 0                                        157 non-null    int64  \n",
      " 1   Brand                                             157 non-null    object \n",
      " 2   Price                                             157 non-null    int64  \n",
      " 3   Vulgewicht wassen                                 157 non-null    object \n",
      " 4   Type apparaat                                     157 non-null    object \n",
      " 5   Type belading                                     157 non-null    object \n",
      " 6   Soort apparaat                                    156 non-null    object \n",
      " 7   Volume centrifugeren                              138 non-null    object \n",
      " 8   Bediening                                         146 non-null    object \n",
      " 9   Aantal programma’s                                149 non-null    float64\n",
      " 10  Programma's                                       156 non-null    object \n",
      " 11  Koude was                                         139 non-null    object \n",
      " 12  Spoelstop                                         117 non-null    object \n",
      " 13  Stoomfunctie                                      133 non-null    object \n",
      " 14  Antikreukfunctie                                  148 non-null    object \n",
      " 15  Automatische dosering                             147 non-null    object \n",
      " 16  Beladingsherkenning                               152 non-null    object \n",
      " 17  Overige kenmerken                                 147 non-null    object \n",
      " 18  Vuilherkenning                                    133 non-null    object \n",
      " 19  Balanscontrole                                    142 non-null    object \n",
      " 20  Trommelmateriaal                                  155 non-null    object \n",
      " 21  Deur opent naar                                   143 non-null    object \n",
      " 22  Kinderbeveiliging                                 143 non-null    object \n",
      " 23  Binnenverlichting                                 149 non-null    object \n",
      " 24  Te verbinden met app                              143 non-null    object \n",
      " 25  Overstroombeveiliging                             156 non-null    object \n",
      " 26  Koolborstelloze motor                             153 non-null    object \n",
      " 27  Bedieningselementen                               155 non-null    object \n",
      " 28  Display                                           130 non-null    object \n",
      " 29  Resttijdindicatie                                 152 non-null    object \n",
      " 30  Instelbare starttijd                              157 non-null    object \n",
      " 31  Signaal bij einde programma                       143 non-null    object \n",
      " 32  Afmetingen (B x H x D)                            157 non-null    object \n",
      " 33  Kleur                                             157 non-null    object \n",
      " 34  Kleur (basic)                                     157 non-null    object \n",
      " 35  Afneembaar werkblad                               140 non-null    object \n",
      " 36  Hoogte                                            157 non-null    object \n",
      " 37  Breedte                                           157 non-null    object \n",
      " 38  Diepte                                            157 non-null    object \n",
      " 39  Diepte bij geopende deur (90°)                    116 non-null    object \n",
      " 40  Verstelbare poten                                 134 non-null    object \n",
      " 41  Lengte aansluitkabel                              153 non-null    object \n",
      " 42  Gewicht                                           157 non-null    object \n",
      " 43  Verpakkingsinhoud                                 157 non-null    object \n",
      " 44  Fabrieksgarantie                                  144 non-null    object \n",
      " 45  Aanvullende garantie-informatie                   107 non-null    object \n",
      " 46  Energie-efficiëntieklasse (EU 2017/1369)          146 non-null    object \n",
      " 47  EU Energy Efficiency Scale (EU 2017/1369)         141 non-null    object \n",
      " 48  Energieverbruik per 100 cycli                     109 non-null    object \n",
      " 49  Aantal toeren per minuut (nominale capaciteit)    132 non-null    object \n",
      " 50  Centrifuge-efficiëntieklasse (EU 2017/1369)       104 non-null    object \n",
      " 51  Programmaduur wassen                              105 non-null    object \n",
      " 52  Geluidsniveauklasse centrifugeren (EU 2017/1369)  109 non-null    object \n",
      " 53  Diameter deuropening                              106 non-null    object \n",
      " 54  Inhoud trommel                                    139 non-null    object \n",
      " 55  Manufacturer Part Number (MPN)                    123 non-null    object \n",
      "dtypes: float64(1), int64(2), object(53)\n",
      "memory usage: 68.8+ KB\n"
     ]
    }
   ],
   "source": [
    "for sutun in df.columns:\n",
    "    if df[sutun].isnull().sum()>len(df.index)*39/100: #%39 dan fazla boş veri varsa\n",
    "        df.drop(sutun, inplace=True, axis = 1)\n",
    "\n",
    "df.info()"
   ]
  },
  {
   "cell_type": "code",
   "execution_count": 1106,
   "metadata": {},
   "outputs": [
    {
     "data": {
      "text/html": [
       "<div>\n",
       "<style scoped>\n",
       "    .dataframe tbody tr th:only-of-type {\n",
       "        vertical-align: middle;\n",
       "    }\n",
       "\n",
       "    .dataframe tbody tr th {\n",
       "        vertical-align: top;\n",
       "    }\n",
       "\n",
       "    .dataframe thead th {\n",
       "        text-align: right;\n",
       "    }\n",
       "</style>\n",
       "<table border=\"1\" class=\"dataframe\">\n",
       "  <thead>\n",
       "    <tr style=\"text-align: right;\">\n",
       "      <th></th>\n",
       "      <th>Unnamed: 0</th>\n",
       "      <th>Brand</th>\n",
       "      <th>Price</th>\n",
       "      <th>Vulgewicht wassen</th>\n",
       "      <th>Type apparaat</th>\n",
       "      <th>Type belading</th>\n",
       "      <th>Soort apparaat</th>\n",
       "      <th>Volume centrifugeren</th>\n",
       "      <th>Bediening</th>\n",
       "      <th>Aantal programma’s</th>\n",
       "      <th>...</th>\n",
       "      <th>Energie-efficiëntieklasse (EU 2017/1369)</th>\n",
       "      <th>EU Energy Efficiency Scale (EU 2017/1369)</th>\n",
       "      <th>Energieverbruik per 100 cycli</th>\n",
       "      <th>Aantal toeren per minuut (nominale capaciteit)</th>\n",
       "      <th>Centrifuge-efficiëntieklasse (EU 2017/1369)</th>\n",
       "      <th>Programmaduur wassen</th>\n",
       "      <th>Geluidsniveauklasse centrifugeren (EU 2017/1369)</th>\n",
       "      <th>Diameter deuropening</th>\n",
       "      <th>Inhoud trommel</th>\n",
       "      <th>Manufacturer Part Number (MPN)</th>\n",
       "    </tr>\n",
       "  </thead>\n",
       "  <tbody>\n",
       "    <tr>\n",
       "      <th>0</th>\n",
       "      <td>0</td>\n",
       "      <td>MIELE</td>\n",
       "      <td>1149</td>\n",
       "      <td>8 kg</td>\n",
       "      <td>Wasmachine</td>\n",
       "      <td>Voorlader</td>\n",
       "      <td>Vrijstaand</td>\n",
       "      <td>70 dB(A)</td>\n",
       "      <td>Mechanisch + Elektronisch</td>\n",
       "      <td>14.0</td>\n",
       "      <td>...</td>\n",
       "      <td>A</td>\n",
       "      <td>A-G</td>\n",
       "      <td>47 kWh</td>\n",
       "      <td>1400 rpm</td>\n",
       "      <td>B</td>\n",
       "      <td>03:39</td>\n",
       "      <td>A</td>\n",
       "      <td>NaN</td>\n",
       "      <td>NaN</td>\n",
       "      <td>NaN</td>\n",
       "    </tr>\n",
       "    <tr>\n",
       "      <th>1</th>\n",
       "      <td>1</td>\n",
       "      <td>SHARP</td>\n",
       "      <td>399</td>\n",
       "      <td>8 kg</td>\n",
       "      <td>Wasmachine</td>\n",
       "      <td>Voorlader</td>\n",
       "      <td>Vrijstaand</td>\n",
       "      <td>75 dB(A)</td>\n",
       "      <td>Mechanisch + Elektronisch</td>\n",
       "      <td>15.0</td>\n",
       "      <td>...</td>\n",
       "      <td>A</td>\n",
       "      <td>A-G</td>\n",
       "      <td>47 kWh</td>\n",
       "      <td>1400 rpm</td>\n",
       "      <td>B</td>\n",
       "      <td>03:06</td>\n",
       "      <td>B</td>\n",
       "      <td>33 cm</td>\n",
       "      <td>55 l</td>\n",
       "      <td>ESNFB814CWABX</td>\n",
       "    </tr>\n",
       "    <tr>\n",
       "      <th>2</th>\n",
       "      <td>2</td>\n",
       "      <td>BEKO</td>\n",
       "      <td>399</td>\n",
       "      <td>8 kg</td>\n",
       "      <td>Wasmachine</td>\n",
       "      <td>Voorlader</td>\n",
       "      <td>Vrijstaand</td>\n",
       "      <td>72 dB(A)</td>\n",
       "      <td>Mechanisch + Elektronisch</td>\n",
       "      <td>15.0</td>\n",
       "      <td>...</td>\n",
       "      <td>C</td>\n",
       "      <td>A-G</td>\n",
       "      <td>62 kWh</td>\n",
       "      <td>1400 rpm</td>\n",
       "      <td>B</td>\n",
       "      <td>03:38</td>\n",
       "      <td>A</td>\n",
       "      <td>34 cm</td>\n",
       "      <td>55 l</td>\n",
       "      <td>WTV8814MMC1</td>\n",
       "    </tr>\n",
       "    <tr>\n",
       "      <th>3</th>\n",
       "      <td>3</td>\n",
       "      <td>SAMSUNG</td>\n",
       "      <td>549</td>\n",
       "      <td>8 kg</td>\n",
       "      <td>Was-droogcombinatie</td>\n",
       "      <td>Voorlader</td>\n",
       "      <td>Vrijstaand</td>\n",
       "      <td>72 dB(A)</td>\n",
       "      <td>Elektronisch</td>\n",
       "      <td>14.0</td>\n",
       "      <td>...</td>\n",
       "      <td>E</td>\n",
       "      <td>A-G</td>\n",
       "      <td>NaN</td>\n",
       "      <td>1400 rpm</td>\n",
       "      <td>NaN</td>\n",
       "      <td>NaN</td>\n",
       "      <td>NaN</td>\n",
       "      <td>NaN</td>\n",
       "      <td>54 l</td>\n",
       "      <td>WD80TA049BE/EN</td>\n",
       "    </tr>\n",
       "    <tr>\n",
       "      <th>4</th>\n",
       "      <td>4</td>\n",
       "      <td>BOSCH</td>\n",
       "      <td>649</td>\n",
       "      <td>9 kg</td>\n",
       "      <td>Wasmachine</td>\n",
       "      <td>Voorlader</td>\n",
       "      <td>Vrijstaand</td>\n",
       "      <td>72 dB(A)</td>\n",
       "      <td>Mechanisch + Elektronisch</td>\n",
       "      <td>15.0</td>\n",
       "      <td>...</td>\n",
       "      <td>C</td>\n",
       "      <td>A-G</td>\n",
       "      <td>66 kWh</td>\n",
       "      <td>1400 rpm</td>\n",
       "      <td>B</td>\n",
       "      <td>03:37</td>\n",
       "      <td>A</td>\n",
       "      <td>32 cm</td>\n",
       "      <td>63 l</td>\n",
       "      <td>WAU28S70NL</td>\n",
       "    </tr>\n",
       "  </tbody>\n",
       "</table>\n",
       "<p>5 rows × 56 columns</p>\n",
       "</div>"
      ],
      "text/plain": [
       "   Unnamed: 0    Brand  Price Vulgewicht wassen        Type apparaat  \\\n",
       "0           0    MIELE   1149              8 kg           Wasmachine   \n",
       "1           1    SHARP    399              8 kg           Wasmachine   \n",
       "2           2     BEKO    399              8 kg           Wasmachine   \n",
       "3           3  SAMSUNG    549              8 kg  Was-droogcombinatie   \n",
       "4           4    BOSCH    649              9 kg           Wasmachine   \n",
       "\n",
       "  Type belading Soort apparaat Volume centrifugeren  \\\n",
       "0     Voorlader     Vrijstaand             70 dB(A)   \n",
       "1     Voorlader     Vrijstaand             75 dB(A)   \n",
       "2     Voorlader     Vrijstaand             72 dB(A)   \n",
       "3     Voorlader     Vrijstaand             72 dB(A)   \n",
       "4     Voorlader     Vrijstaand             72 dB(A)   \n",
       "\n",
       "                   Bediening  Aantal programma’s  ...  \\\n",
       "0  Mechanisch + Elektronisch                14.0  ...   \n",
       "1  Mechanisch + Elektronisch                15.0  ...   \n",
       "2  Mechanisch + Elektronisch                15.0  ...   \n",
       "3               Elektronisch                14.0  ...   \n",
       "4  Mechanisch + Elektronisch                15.0  ...   \n",
       "\n",
       "  Energie-efficiëntieklasse (EU 2017/1369)  \\\n",
       "0                                        A   \n",
       "1                                        A   \n",
       "2                                        C   \n",
       "3                                        E   \n",
       "4                                        C   \n",
       "\n",
       "  EU Energy Efficiency Scale (EU 2017/1369) Energieverbruik per 100 cycli  \\\n",
       "0                                       A-G                        47 kWh   \n",
       "1                                       A-G                        47 kWh   \n",
       "2                                       A-G                        62 kWh   \n",
       "3                                       A-G                           NaN   \n",
       "4                                       A-G                        66 kWh   \n",
       "\n",
       "  Aantal toeren per minuut (nominale capaciteit)  \\\n",
       "0                                       1400 rpm   \n",
       "1                                       1400 rpm   \n",
       "2                                       1400 rpm   \n",
       "3                                       1400 rpm   \n",
       "4                                       1400 rpm   \n",
       "\n",
       "  Centrifuge-efficiëntieklasse (EU 2017/1369) Programmaduur wassen  \\\n",
       "0                                           B                03:39   \n",
       "1                                           B                03:06   \n",
       "2                                           B                03:38   \n",
       "3                                         NaN                  NaN   \n",
       "4                                           B                03:37   \n",
       "\n",
       "  Geluidsniveauklasse centrifugeren (EU 2017/1369) Diameter deuropening  \\\n",
       "0                                                A                  NaN   \n",
       "1                                                B                33 cm   \n",
       "2                                                A                34 cm   \n",
       "3                                              NaN                  NaN   \n",
       "4                                                A                32 cm   \n",
       "\n",
       "  Inhoud trommel Manufacturer Part Number (MPN)  \n",
       "0            NaN                            NaN  \n",
       "1           55 l                  ESNFB814CWABX  \n",
       "2           55 l                    WTV8814MMC1  \n",
       "3           54 l                 WD80TA049BE/EN  \n",
       "4           63 l                     WAU28S70NL  \n",
       "\n",
       "[5 rows x 56 columns]"
      ]
     },
     "execution_count": 1106,
     "metadata": {},
     "output_type": "execute_result"
    }
   ],
   "source": [
    "df.head()"
   ]
  },
  {
   "cell_type": "code",
   "execution_count": 1107,
   "metadata": {},
   "outputs": [
    {
     "data": {
      "text/plain": [
       "Vrijstaand                  154\n",
       "Standaard  (60 cm breed)      1\n",
       "Standaard (60 cm breed)       1\n",
       "Name: Soort apparaat, dtype: int64"
      ]
     },
     "execution_count": 1107,
     "metadata": {},
     "output_type": "execute_result"
    }
   ],
   "source": [
    "df['Soort apparaat'].value_counts() #cihaz tipi - hepsi ayni oldugu icin siliyorum"
   ]
  },
  {
   "cell_type": "code",
   "execution_count": 1108,
   "metadata": {},
   "outputs": [],
   "source": [
    "df.drop(\"Soort apparaat\", inplace=True, axis = 1)"
   ]
  },
  {
   "cell_type": "code",
   "execution_count": 1109,
   "metadata": {},
   "outputs": [],
   "source": [
    "#df.drop('Software-updates vanuit fabrikant', inplace=True, axis = 1)"
   ]
  },
  {
   "cell_type": "code",
   "execution_count": 1110,
   "metadata": {},
   "outputs": [
    {
     "data": {
      "text/plain": [
       "72 dB(A)    41\n",
       "75 dB(A)    17\n",
       "70 dB(A)    15\n",
       "76 dB(A)    15\n",
       "71 dB(A)    15\n",
       "73 dB(A)     9\n",
       "74 dB(A)     7\n",
       "68 dB(A)     6\n",
       "78 dB(A)     5\n",
       "81 dB(A)     2\n",
       "69 dB(A)     2\n",
       "77 dB(A)     1\n",
       "67 dB(A)     1\n",
       "40 dB(A)     1\n",
       "85 dB(A)     1\n",
       "Name: Volume centrifugeren, dtype: int64"
      ]
     },
     "execution_count": 1110,
     "metadata": {},
     "output_type": "execute_result"
    }
   ],
   "source": [
    "df['Volume centrifugeren'].value_counts()   #Ses, bunu int ye dönüştürmemiz lazım"
   ]
  },
  {
   "cell_type": "code",
   "execution_count": 1111,
   "metadata": {},
   "outputs": [],
   "source": [
    "#General functions\n",
    "import re\n",
    "def get_numbers_by_regex(text):\n",
    "    #text = re.findall(r'\\d+',text)\n",
    "    return float(text.split(\" \")[0])"
   ]
  },
  {
   "cell_type": "code",
   "execution_count": 1112,
   "metadata": {},
   "outputs": [],
   "source": [
    "df['Volume centrifugeren'] = df['Volume centrifugeren'].apply(lambda x: get_numbers_by_regex(str(x)))"
   ]
  },
  {
   "cell_type": "code",
   "execution_count": 1113,
   "metadata": {},
   "outputs": [
    {
     "data": {
      "text/plain": [
       "72.0    41\n",
       "75.0    17\n",
       "70.0    15\n",
       "76.0    15\n",
       "71.0    15\n",
       "73.0     9\n",
       "74.0     7\n",
       "68.0     6\n",
       "78.0     5\n",
       "81.0     2\n",
       "69.0     2\n",
       "77.0     1\n",
       "67.0     1\n",
       "40.0     1\n",
       "85.0     1\n",
       "Name: Volume centrifugeren, dtype: int64"
      ]
     },
     "execution_count": 1113,
     "metadata": {},
     "output_type": "execute_result"
    }
   ],
   "source": [
    "df['Volume centrifugeren'].value_counts()"
   ]
  },
  {
   "cell_type": "code",
   "execution_count": 1114,
   "metadata": {},
   "outputs": [
    {
     "data": {
      "text/plain": [
       "0      70.0\n",
       "1      75.0\n",
       "2      72.0\n",
       "3      72.0\n",
       "4      72.0\n",
       "       ... \n",
       "152    70.0\n",
       "153     NaN\n",
       "154    70.0\n",
       "155    71.0\n",
       "156     NaN\n",
       "Name: Volume centrifugeren, Length: 157, dtype: float64"
      ]
     },
     "execution_count": 1114,
     "metadata": {},
     "output_type": "execute_result"
    }
   ],
   "source": [
    "df[\"Volume centrifugeren\"]"
   ]
  },
  {
   "cell_type": "code",
   "execution_count": 1115,
   "metadata": {},
   "outputs": [],
   "source": [
    "import numpy as np\n",
    "df['Volume centrifugeren'] = df['Volume centrifugeren'].apply(lambda x: np.random.randint(70,76) if np.isnan(x) else x)"
   ]
  },
  {
   "cell_type": "code",
   "execution_count": 1116,
   "metadata": {},
   "outputs": [
    {
     "data": {
      "text/plain": [
       "0      70.0\n",
       "1      75.0\n",
       "2      72.0\n",
       "3      72.0\n",
       "4      72.0\n",
       "       ... \n",
       "152    70.0\n",
       "153    70.0\n",
       "154    70.0\n",
       "155    71.0\n",
       "156    73.0\n",
       "Name: Volume centrifugeren, Length: 157, dtype: float64"
      ]
     },
     "execution_count": 1116,
     "metadata": {},
     "output_type": "execute_result"
    }
   ],
   "source": [
    "df['Volume centrifugeren']"
   ]
  },
  {
   "cell_type": "code",
   "execution_count": 1117,
   "metadata": {},
   "outputs": [
    {
     "data": {
      "text/plain": [
       "Elektronisch                 68\n",
       "Mechanisch + Elektronisch    67\n",
       "Mechanisch                   11\n",
       "Name: Bediening, dtype: int64"
      ]
     },
     "execution_count": 1117,
     "metadata": {},
     "output_type": "execute_result"
    }
   ],
   "source": [
    "df['Bediening'].value_counts()   #servis. garantili urunler olduklari icin servisin cok onemli oldugunu dusunmuyorum"
   ]
  },
  {
   "cell_type": "code",
   "execution_count": 1118,
   "metadata": {},
   "outputs": [],
   "source": [
    "df.drop('Bediening', inplace=True, axis = 1)"
   ]
  },
  {
   "cell_type": "code",
   "execution_count": 1119,
   "metadata": {},
   "outputs": [
    {
     "data": {
      "text/plain": [
       "15.0    42\n",
       "14.0    36\n",
       "10.0    12\n",
       "22.0     8\n",
       "16.0     8\n",
       "13.0     8\n",
       "19.0     6\n",
       "11.0     6\n",
       "24.0     5\n",
       "12.0     4\n",
       "18.0     3\n",
       "21.0     3\n",
       "23.0     3\n",
       "27.0     1\n",
       "25.0     1\n",
       "8.0      1\n",
       "17.0     1\n",
       "32.0     1\n",
       "Name: Aantal programma’s, dtype: int64"
      ]
     },
     "execution_count": 1119,
     "metadata": {},
     "output_type": "execute_result"
    }
   ],
   "source": [
    "df['Aantal programma’s'].value_counts()    #program sayısı."
   ]
  },
  {
   "cell_type": "code",
   "execution_count": 1120,
   "metadata": {},
   "outputs": [
    {
     "data": {
      "text/plain": [
       "<AxesSubplot:xlabel='Aantal programma’s', ylabel='Count'>"
      ]
     },
     "execution_count": 1120,
     "metadata": {},
     "output_type": "execute_result"
    },
    {
     "data": {
      "image/png": "[encoded data removed]",
      "text/plain": [
       "<Figure size 432x288 with 1 Axes>"
      ]
     },
     "metadata": {
      "needs_background": "light"
     },
     "output_type": "display_data"
    }
   ],
   "source": [
    "import seaborn as sns\n",
    "sns.histplot(data = df['Aantal programma’s'], kde=True)"
   ]
  },
  {
   "cell_type": "code",
   "execution_count": 1121,
   "metadata": {},
   "outputs": [],
   "source": [
    "df['Aantal programma’s'] = df['Aantal programma’s'].apply(lambda x: np.random.uniform(10,25) if np.isnan(x) else x)"
   ]
  },
  {
   "cell_type": "code",
   "execution_count": 1122,
   "metadata": {},
   "outputs": [
    {
     "data": {
      "text/plain": [
       "<AxesSubplot:xlabel='Aantal programma’s', ylabel='Count'>"
      ]
     },
     "execution_count": 1122,
     "metadata": {},
     "output_type": "execute_result"
    },
    {
     "data": {
      "image/png": "[encoded data removed]",
      "text/plain": [
       "<Figure size 432x288 with 1 Axes>"
      ]
     },
     "metadata": {
      "needs_background": "light"
     },
     "output_type": "display_data"
    }
   ],
   "source": [
    "sns.histplot(data = df['Aantal programma’s'], kde=True)"
   ]
  },
  {
   "cell_type": "code",
   "execution_count": 1123,
   "metadata": {},
   "outputs": [
    {
     "data": {
      "text/plain": [
       "Programma fijne was, Programma kreukherstellend, Programma witte-/bonte was, Wol-handwasprogramma                                                                                                                                                              23\n",
       "Katoen, eco, super speed, snelle was, intens koud, hygiëne steam, kleur, wol, outdoor, beddengoed, synthetisch, fijne was, denim, baby care, active wear, stille was, shirts, handdoeken etc.                                                                   7\n",
       "Sport, Eco, Kreukherstellend                                                                                                                                                                                                                                    4\n",
       "Auto, Katoen 90 graden, Katoen 60 graden, Katoen 40 graden, Katoen 30 graden, Katoen 20 graden, Mix 40 graden, Mix 30 graden, Trommelreiniging, Spoelen, Centrifugeren en afpompen, Eco, Extra kort, Wol, Stoom overhemden, Stoom allergie                      3\n",
       "Katoen, Eco 40-60, Synthetisch, Mini/Mini14', Gemengd, Wol/Handwas, Fijne was, Centrifugeren+Afpompen, Afspoelen, Donskleding, Buiten/Sport (Goretex), Donkere was/Jeans, Vlekken, Overhemden, Hygiëne+                                                         3\n",
       "                                                                                                                                                                                                                                                               ..\n",
       "Eco, kreukherstellend, fijne was, sport etc.                                                                                                                                                                                                                    1\n",
       "Eco 40-60, Katoen, Synthetisch, Fijne was, Wol\\zijde, Anti-allergie, 20min 3Kg, Outdoor, Strijkvrij, Centrifugeren/pompen                                                                                                                                       1\n",
       "Gemengde was, Witte was, Katoen, Eco 40-60, Sport, Dekbedden, Steam Refresh, Centrifugeren & afpompen, Spoelen & centrifugeren, Snel'30, 20 graden, Wol, Fijne was, Synthetisch                                                                                 1\n",
       "Eco 40-60, Katoen, Synthetica, Fijne was, Wol/zijde, Outdoor, 20min - 3kg, Dekbed, Strijkvrij, Centrifugeren/pompen, Anti-allergie stoom                                                                                                                        1\n",
       "Programma fijne was, Programma kreukherstellend, Programma witte-/bonte was, Wol-handwasprogramma, Trommel reiniging met geheugenfunctie, Jeans / Donkere was, Afpompen/Centrifugeren, Snel/Mix, Sport, Spoelen, Dekens, SuperKort 15/30 min., Hygiëne Plus     1\n",
       "Name: Programma's, Length: 103, dtype: int64"
      ]
     },
     "execution_count": 1123,
     "metadata": {},
     "output_type": "execute_result"
    }
   ],
   "source": [
    "df[\"Programma's\"].value_counts()  #program tipleri çok çeşitli"
   ]
  },
  {
   "cell_type": "code",
   "execution_count": 1124,
   "metadata": {},
   "outputs": [],
   "source": [
    "df.drop(\"Programma's\", inplace=True, axis = 1)"
   ]
  },
  {
   "cell_type": "code",
   "execution_count": 1125,
   "metadata": {},
   "outputs": [
    {
     "data": {
      "text/plain": [
       "Ja     112\n",
       "Nee     27\n",
       "Name: Koude was, dtype: int64"
      ]
     },
     "execution_count": 1125,
     "metadata": {},
     "output_type": "execute_result"
    }
   ],
   "source": [
    "df[\"Koude was\"].value_counts()   #soguk yikama     "
   ]
  },
  {
   "cell_type": "code",
   "execution_count": 1126,
   "metadata": {},
   "outputs": [
    {
     "data": {
      "text/plain": [
       "Ja     102\n",
       "Nee     15\n",
       "Name: Spoelstop, dtype: int64"
      ]
     },
     "execution_count": 1126,
     "metadata": {},
     "output_type": "execute_result"
    }
   ],
   "source": [
    "df[\"Spoelstop\"].value_counts()   #durulamada durdurma"
   ]
  },
  {
   "cell_type": "code",
   "execution_count": 1127,
   "metadata": {},
   "outputs": [
    {
     "data": {
      "text/plain": [
       "Nee    72\n",
       "Ja     61\n",
       "Name: Stoomfunctie, dtype: int64"
      ]
     },
     "execution_count": 1127,
     "metadata": {},
     "output_type": "execute_result"
    }
   ],
   "source": [
    "df[\"Stoomfunctie\"].value_counts()  #buhar fonksiyonu"
   ]
  },
  {
   "cell_type": "code",
   "execution_count": 1128,
   "metadata": {},
   "outputs": [
    {
     "data": {
      "text/plain": [
       "Ja     108\n",
       "Nee     40\n",
       "Name: Antikreukfunctie, dtype: int64"
      ]
     },
     "execution_count": 1128,
     "metadata": {},
     "output_type": "execute_result"
    }
   ],
   "source": [
    "df[\"Antikreukfunctie\"].value_counts()   #kirisik onleme islemi"
   ]
  },
  {
   "cell_type": "code",
   "execution_count": 1129,
   "metadata": {},
   "outputs": [
    {
     "data": {
      "text/plain": [
       "Nee    109\n",
       "Ja      38\n",
       "Name: Automatische dosering, dtype: int64"
      ]
     },
     "execution_count": 1129,
     "metadata": {},
     "output_type": "execute_result"
    }
   ],
   "source": [
    "df[\"Automatische dosering\"].value_counts()  #Otomatik dozajlama"
   ]
  },
  {
   "cell_type": "code",
   "execution_count": 1130,
   "metadata": {},
   "outputs": [
    {
     "data": {
      "text/plain": [
       "Ja     131\n",
       "Nee     21\n",
       "Name: Beladingsherkenning, dtype: int64"
      ]
     },
     "execution_count": 1130,
     "metadata": {},
     "output_type": "execute_result"
    }
   ],
   "source": [
    "df[\"Beladingsherkenning\"].value_counts()  #yuk tanima"
   ]
  },
  {
   "cell_type": "code",
   "execution_count": 1131,
   "metadata": {},
   "outputs": [
    {
     "data": {
      "text/plain": [
       "Demo-programma, Vlekkentabel                                                                                                                      12\n",
       "Demo-programma                                                                                                                                     9\n",
       "Steam, Eco Bubble, Bubble Soak, Aquastop, Aquasensor, Digital Inverter Motor, Ceramic Heater                                                       5\n",
       "PowerWash 2.0, CapDosing, SoftCare-trommel                                                                                                         3\n",
       "Demo-programma, vlekkentabel                                                                                                                       3\n",
       "                                                                                                                                                  ..\n",
       "EcoSilence Drive motor                                                                                                                             1\n",
       "ProSense-technologie, AutoDose, ÖKOInverter-motor                                                                                                  1\n",
       "FreshCare+ Stoom, 6th Sense met Clean+, Aquastop, Steam Refresh                                                                                    1\n",
       "Quick Drive,Super Speed, Auto Optimal Wash, Wifi, Steam, Eco Bubble, Bubble Soak, Aquastop, Aquasensor, Digital Inverter Motor, Ceramic Heater     1\n",
       "Anti Vlekken systeem: 4 speciale vlekkenprogramma's (boter/slaolie, bloed, rode wijn, gras), toepasbaar op de standaard programma's                1\n",
       "Name: Overige kenmerken, Length: 102, dtype: int64"
      ]
     },
     "execution_count": 1131,
     "metadata": {},
     "output_type": "execute_result"
    }
   ],
   "source": [
    "df[\"Overige kenmerken\"].value_counts()  #diger ozellikler - tum ozellikler diger sutunlarda var"
   ]
  },
  {
   "cell_type": "code",
   "execution_count": 1132,
   "metadata": {},
   "outputs": [],
   "source": [
    "df.drop(\"Overige kenmerken\", inplace=True, axis = 1)"
   ]
  },
  {
   "cell_type": "code",
   "execution_count": 1133,
   "metadata": {},
   "outputs": [
    {
     "data": {
      "text/plain": [
       "Nee    82\n",
       "Ja     51\n",
       "Name: Vuilherkenning, dtype: int64"
      ]
     },
     "execution_count": 1133,
     "metadata": {},
     "output_type": "execute_result"
    }
   ],
   "source": [
    "df[\"Vuilherkenning\"].value_counts()               #kir tanima"
   ]
  },
  {
   "cell_type": "code",
   "execution_count": 1134,
   "metadata": {},
   "outputs": [
    {
     "data": {
      "text/plain": [
       "Ja     122\n",
       "Nee     20\n",
       "Name: Balanscontrole, dtype: int64"
      ]
     },
     "execution_count": 1134,
     "metadata": {},
     "output_type": "execute_result"
    }
   ],
   "source": [
    "df[\"Balanscontrole\"].value_counts()        #Denge kontrolü"
   ]
  },
  {
   "cell_type": "code",
   "execution_count": 1135,
   "metadata": {},
   "outputs": [
    {
     "data": {
      "text/plain": [
       "Roestvrij staal         88\n",
       "Inox                    37\n",
       "Kunststof               18\n",
       "RVS                      4\n",
       "Roestvrijstaal           3\n",
       "INOX                     2\n",
       "Roestvaststaal (RVS)     1\n",
       "waveTrommel              1\n",
       "Roestvaststaal           1\n",
       "Name: Trommelmateriaal, dtype: int64"
      ]
     },
     "execution_count": 1135,
     "metadata": {},
     "output_type": "execute_result"
    }
   ],
   "source": [
    "df[\"Trommelmateriaal\"].value_counts()"
   ]
  },
  {
   "cell_type": "code",
   "execution_count": 1136,
   "metadata": {},
   "outputs": [
    {
     "data": {
      "text/plain": [
       "Links     125\n",
       "Rechts     13\n",
       "Boven       5\n",
       "Name: Deur opent naar, dtype: int64"
      ]
     },
     "execution_count": 1136,
     "metadata": {},
     "output_type": "execute_result"
    }
   ],
   "source": [
    "df[\"Deur opent naar\"].value_counts()         #kapinin acilis sekli sirasiyla: sol, sag, yukardan "
   ]
  },
  {
   "cell_type": "code",
   "execution_count": 1137,
   "metadata": {},
   "outputs": [],
   "source": [
    "df.drop(\"Deur opent naar\", inplace=True, axis = 1)"
   ]
  },
  {
   "cell_type": "code",
   "execution_count": 1138,
   "metadata": {},
   "outputs": [
    {
     "data": {
      "text/plain": [
       "Ja     141\n",
       "Nee      2\n",
       "Name: Kinderbeveiliging, dtype: int64"
      ]
     },
     "execution_count": 1138,
     "metadata": {},
     "output_type": "execute_result"
    }
   ],
   "source": [
    "df[\"Kinderbeveiliging\"].value_counts()    #cocuk kilidi"
   ]
  },
  {
   "cell_type": "code",
   "execution_count": 1139,
   "metadata": {},
   "outputs": [
    {
     "data": {
      "text/plain": [
       "Nee    122\n",
       "Ja      27\n",
       "Name: Binnenverlichting, dtype: int64"
      ]
     },
     "execution_count": 1139,
     "metadata": {},
     "output_type": "execute_result"
    }
   ],
   "source": [
    "df[\"Binnenverlichting\"].value_counts()  #ic mekan aydinlatmasi"
   ]
  },
  {
   "cell_type": "code",
   "execution_count": 1140,
   "metadata": {},
   "outputs": [
    {
     "data": {
      "text/plain": [
       "Nee    83\n",
       "Ja     60\n",
       "Name: Te verbinden met app, dtype: int64"
      ]
     },
     "execution_count": 1140,
     "metadata": {},
     "output_type": "execute_result"
    }
   ],
   "source": [
    "df[\"Te verbinden met app\"].value_counts()   #telefon uygulamasindan baglanti"
   ]
  },
  {
   "cell_type": "code",
   "execution_count": 1141,
   "metadata": {},
   "outputs": [
    {
     "data": {
      "text/plain": [
       "Ja                              126\n",
       "Nee                               7\n",
       "AQUASTOP                          7\n",
       "AquaSecure                        6\n",
       "AquaStop®                         4\n",
       "Meervoudige waterbeveiliging      3\n",
       "ja                                1\n",
       "Watercontrol-systeem              1\n",
       "aquaSecure                        1\n",
       "Name: Overstroombeveiliging, dtype: int64"
      ]
     },
     "execution_count": 1141,
     "metadata": {},
     "output_type": "execute_result"
    }
   ],
   "source": [
    "df[\"Overstroombeveiliging\"].value_counts()   #su akimindan korunma"
   ]
  },
  {
   "cell_type": "code",
   "execution_count": 1142,
   "metadata": {},
   "outputs": [],
   "source": [
    "df[\"Overstroombeveiliging\"] = df[\"Overstroombeveiliging\"].apply(lambda x : \"Nee\" if x== \"Nee\" else \"Ja\")"
   ]
  },
  {
   "cell_type": "code",
   "execution_count": 1143,
   "metadata": {},
   "outputs": [
    {
     "data": {
      "text/plain": [
       "Ja     150\n",
       "Nee      7\n",
       "Name: Overstroombeveiliging, dtype: int64"
      ]
     },
     "execution_count": 1143,
     "metadata": {},
     "output_type": "execute_result"
    }
   ],
   "source": [
    "df[\"Overstroombeveiliging\"].value_counts()  "
   ]
  },
  {
   "cell_type": "code",
   "execution_count": 1144,
   "metadata": {},
   "outputs": [
    {
     "data": {
      "text/plain": [
       "Ja     144\n",
       "Nee      9\n",
       "Name: Koolborstelloze motor, dtype: int64"
      ]
     },
     "execution_count": 1144,
     "metadata": {},
     "output_type": "execute_result"
    }
   ],
   "source": [
    "df[\"Koolborstelloze motor\"].value_counts()   #fircasiz motor"
   ]
  },
  {
   "cell_type": "code",
   "execution_count": 1145,
   "metadata": {},
   "outputs": [
    {
     "data": {
      "text/plain": [
       "Draaiknop, tiptoetsen                                    39\n",
       "Draaiknop, druktoetsen, tiptoetsen                       24\n",
       "Draaiknop, druktoetsen                                   23\n",
       "Digitale indicatie, Drukknoppen, LCD                     19\n",
       "Digitale indicatie, LCD                                  12\n",
       "Draaiknop + druktoetsen                                   5\n",
       "Digitale indicatie, drukknoppen, LCD                      4\n",
       "Draaiknop,  tiptoetsen                                    3\n",
       "Druktoetsen                                               3\n",
       "Touchscreen, draaiknop                                    3\n",
       "Tiptoetsen                                                2\n",
       "Digitale indicatie, LCD, VoiceControl                     2\n",
       "Draaiknop, TouchControl toetsen                           2\n",
       "Druktoetsen, draaiknop                                    2\n",
       "Tiptoetsen, draaiknop                                     1\n",
       "Draaiknoppen, druktoetsen                                 1\n",
       "eenknopsbediening                                         1\n",
       "Ja                                                        1\n",
       "Drukknoppen                                               1\n",
       "Knop & Touch                                              1\n",
       "Digitale indicatie, Drukknoppen, LCD, Programmakiezer     1\n",
       "Draaiknop en tiptoetsen                                   1\n",
       "knop + touch                                              1\n",
       "Draaiknop, TouchControl-toetsen                           1\n",
       "Draaiknop                                                 1\n",
       "Voice Control, Home Connect, Afstandsbediening, LCD       1\n",
       "Name: Bedieningselementen, dtype: int64"
      ]
     },
     "execution_count": 1145,
     "metadata": {},
     "output_type": "execute_result"
    }
   ],
   "source": [
    "df[\"Bedieningselementen\"].value_counts()     #kontroller - hepsinde farkli kontroller oldugu icin bu cok isimize yaramaz"
   ]
  },
  {
   "cell_type": "code",
   "execution_count": 1146,
   "metadata": {},
   "outputs": [],
   "source": [
    "df.drop(\"Bedieningselementen\", inplace=True, axis = 1)"
   ]
  },
  {
   "cell_type": "code",
   "execution_count": 1147,
   "metadata": {},
   "outputs": [
    {
     "data": {
      "text/plain": [
       "Ja                   125\n",
       "Nee                    3\n",
       "Elektronisch           1\n",
       "Groot led-display      1\n",
       "Name: Display, dtype: int64"
      ]
     },
     "execution_count": 1147,
     "metadata": {},
     "output_type": "execute_result"
    }
   ],
   "source": [
    "df[\"Display\"].value_counts()   #bu ozellik hemen hemen hepsinde olugu icin cok etki etmiyor"
   ]
  },
  {
   "cell_type": "code",
   "execution_count": 1148,
   "metadata": {},
   "outputs": [],
   "source": [
    "df.drop(\"Display\", inplace=True, axis = 1)"
   ]
  },
  {
   "cell_type": "code",
   "execution_count": 1149,
   "metadata": {},
   "outputs": [
    {
     "data": {
      "text/plain": [
       "Ja     147\n",
       "Nee      5\n",
       "Name: Resttijdindicatie, dtype: int64"
      ]
     },
     "execution_count": 1149,
     "metadata": {},
     "output_type": "execute_result"
    }
   ],
   "source": [
    "df[\"Resttijdindicatie\"].value_counts()      #bu ozellik hemen hemen hepsinde olugu icin cok etki etmiyor"
   ]
  },
  {
   "cell_type": "code",
   "execution_count": 1150,
   "metadata": {},
   "outputs": [],
   "source": [
    "df.drop(\"Resttijdindicatie\", inplace=True, axis = 1)"
   ]
  },
  {
   "cell_type": "code",
   "execution_count": 1151,
   "metadata": {},
   "outputs": [
    {
     "data": {
      "text/plain": [
       "Ja         132\n",
       "Continu     21\n",
       "Nee          3\n",
       "24 uur       1\n",
       "Name: Instelbare starttijd, dtype: int64"
      ]
     },
     "execution_count": 1151,
     "metadata": {},
     "output_type": "execute_result"
    }
   ],
   "source": [
    "df[\"Instelbare starttijd\"].value_counts()   #ayarlanabilir baslangic zamani "
   ]
  },
  {
   "cell_type": "code",
   "execution_count": 1152,
   "metadata": {},
   "outputs": [],
   "source": [
    "df[\"Instelbare starttijd\"] = df[\"Instelbare starttijd\"].apply(lambda x: \"Nee\" if x==\"Nee\" else \"Ja\")"
   ]
  },
  {
   "cell_type": "code",
   "execution_count": 1153,
   "metadata": {},
   "outputs": [
    {
     "data": {
      "text/plain": [
       "Ja     154\n",
       "Nee      3\n",
       "Name: Instelbare starttijd, dtype: int64"
      ]
     },
     "execution_count": 1153,
     "metadata": {},
     "output_type": "execute_result"
    }
   ],
   "source": [
    "df[\"Instelbare starttijd\"].value_counts()"
   ]
  },
  {
   "cell_type": "code",
   "execution_count": 1154,
   "metadata": {},
   "outputs": [
    {
     "data": {
      "text/plain": [
       "Ja     130\n",
       "Nee     13\n",
       "Name: Signaal bij einde programma, dtype: int64"
      ]
     },
     "execution_count": 1154,
     "metadata": {},
     "output_type": "execute_result"
    }
   ],
   "source": [
    "df[\"Signaal bij einde programma\"].value_counts()    #makine durdugunda sinyal vermesi - hemen hemen hepsinde var bu yuzden siliyorum"
   ]
  },
  {
   "cell_type": "code",
   "execution_count": 1155,
   "metadata": {},
   "outputs": [],
   "source": [
    "df.drop(\"Signaal bij einde programma\", inplace=True, axis = 1)  "
   ]
  },
  {
   "cell_type": "code",
   "execution_count": 1156,
   "metadata": {},
   "outputs": [
    {
     "data": {
      "text/plain": [
       "59.8 x 84.8 x 59 cm            19\n",
       "59.8 cm x 84.8 cm x 59 cm      18\n",
       "60 cm x 85 cm x 55 cm           8\n",
       "59.8 cm x 84.5 cm x 59 cm       8\n",
       "60 cm x 85 cm x 60 cm           7\n",
       "59.6 cm x 85 cm x 63.6 cm       6\n",
       "60 cm x 89 cm x 60 cm           5\n",
       "60 cm x 85 cm x 56.5 cm         5\n",
       "60 cm x 85 cm x 66 cm           4\n",
       "60 cm x 84 cm x 64 cm           4\n",
       "60 cm x 84 cm x 59 cm           4\n",
       "60 cm x 85 cm x 56 cm           4\n",
       "59.8 x 84.8 x 58.8 cm           4\n",
       "59.8 cm x 84.8 cm x 55 cm       3\n",
       "59.5 cm x 84.5 cm x 63 cm       3\n",
       "60 x 85 x 57.5 cm               3\n",
       "40 cm x 90 cm x 60 cm           3\n",
       "60 cm x 84 cm x 55 cm           3\n",
       "59.7 x 84.7 x 63.1 cm           3\n",
       "60 cm x 85 cm x 63.6 cm         2\n",
       "59.5 cm x 85 cm x 60 cm         2\n",
       "60 cm x 85 cm x 61 cm           2\n",
       "59.8 cm x 84.8 cm x 54.6 cm     2\n",
       "59.5 cm x 84.5 cm x 57.5 cm     2\n",
       "60.0 cm x 85.0 cm x 61.0 cm     1\n",
       "60 cm x 48 cm x 54.2 cm         1\n",
       "66 cm x 89 cm x 70.5 cm         1\n",
       "59.8 x 84.8 x 62.2 cm           1\n",
       "70 cm x 99 cm x 77 cm           1\n",
       "65 cm x 87 cm x 62 cm           1\n",
       "60 cm x 85 cm x 54.5 cm         1\n",
       "60 cm x 86 cm x 68 cm           1\n",
       "60 cm x 84 cm x 60 cm           1\n",
       "60 cm x 85 cm x 57.5 cm         1\n",
       "64 cm x 11.5 cm x 69 cm         1\n",
       "59.5 cm x 85 cm x 55 cm         1\n",
       "59.5 cm x 36.4 cm x 65.9 cm     1\n",
       "59.9 cm x 84.5 cm x 60.7 cm     1\n",
       "60 cm x 84 cm x 49 cm           1\n",
       "60.0 cm x 85.0 cm x 54.0 cm     1\n",
       "59.7 cm x 84.5 cm x 58.2 cm     1\n",
       "60 cm x 84 cm x 54.2 cm         1\n",
       "60 cm x 84.5 cm x 50 cm         1\n",
       "59.5 cm x 85 cm x 46 cm         1\n",
       "59.7 cm x 84.5 cm x 52.7 cm     1\n",
       "59.5 cm x 85 cm x 54 cm         1\n",
       "49 cm x 87 cm x 69 cm           1\n",
       "59.7 cm x 84.8 cm x 54.7 cm     1\n",
       "59.7 cm x 84.7 cm x 63.1 cm     1\n",
       "45.9 cm x 90 cm x 60.1 cm       1\n",
       "59.6 x 85 x 63.6 cm             1\n",
       "60 cm x 89 cm x 55 cm           1\n",
       "59.5 cm x 85 cm x 49 cm         1\n",
       "59.7 cm x 84.5 cm x 55.7 cm     1\n",
       "60 cm x 85 cm x 56.5 mm         1\n",
       "60 cm x 84 cm x 67 cm           1\n",
       "56 cm x 85 cm x 60 cm           1\n",
       "Name: Afmetingen (B x H x D), dtype: int64"
      ]
     },
     "execution_count": 1156,
     "metadata": {},
     "output_type": "execute_result"
    }
   ],
   "source": [
    "df[\"Afmetingen (B x H x D)\"].value_counts()  #boyutlar - hacim olarak hesaplanabilir\n"
   ]
  },
  {
   "cell_type": "code",
   "execution_count": 1157,
   "metadata": {},
   "outputs": [
    {
     "data": {
      "text/plain": [
       "Wit              151\n",
       "Zwart              3\n",
       "Grijs              2\n",
       "Wit en zilver      1\n",
       "Name: Kleur, dtype: int64"
      ]
     },
     "execution_count": 1157,
     "metadata": {},
     "output_type": "execute_result"
    }
   ],
   "source": [
    "df[\"Kleur\"].value_counts()    #renkler "
   ]
  },
  {
   "cell_type": "code",
   "execution_count": 1158,
   "metadata": {},
   "outputs": [],
   "source": [
    "df.drop(\"Kleur\", inplace=True, axis = 1)  "
   ]
  },
  {
   "cell_type": "code",
   "execution_count": 1159,
   "metadata": {},
   "outputs": [
    {
     "data": {
      "text/plain": [
       "Wit      151\n",
       "Zwart      4\n",
       "Grijs      2\n",
       "Name: Kleur (basic), dtype: int64"
      ]
     },
     "execution_count": 1159,
     "metadata": {},
     "output_type": "execute_result"
    }
   ],
   "source": [
    "df[\"Kleur (basic)\"].value_counts()   #basic renkler"
   ]
  },
  {
   "cell_type": "code",
   "execution_count": 1160,
   "metadata": {},
   "outputs": [
    {
     "data": {
      "text/plain": [
       "85 cm      51\n",
       "84.8 cm    33\n",
       "84.5 cm    18\n",
       "84 cm      15\n",
       "848 mm     14\n",
       "89 cm       7\n",
       "84.7 cm     4\n",
       "90 cm       4\n",
       "87 cm       2\n",
       "85.0 cm     2\n",
       "11.5 cm     1\n",
       "48 cm       1\n",
       "99 cm       1\n",
       "850 mm      1\n",
       "36.4 cm     1\n",
       "87.5 cm     1\n",
       "86 cm       1\n",
       "Name: Hoogte, dtype: int64"
      ]
     },
     "execution_count": 1160,
     "metadata": {},
     "output_type": "execute_result"
    }
   ],
   "source": [
    "df[\"Hoogte\"].value_counts()   #yukseklik"
   ]
  },
  {
   "cell_type": "code",
   "execution_count": 1161,
   "metadata": {},
   "outputs": [],
   "source": [
    "df.drop(\"Hoogte\", inplace=True, axis = 1)  "
   ]
  },
  {
   "cell_type": "code",
   "execution_count": 1162,
   "metadata": {},
   "outputs": [
    {
     "data": {
      "text/plain": [
       "60 cm      62\n",
       "59.8 cm    40\n",
       "598 mm     14\n",
       "59.5 cm    12\n",
       "59.7 cm     8\n",
       "59.6 cm     6\n",
       "40 cm       3\n",
       "60.0 cm     2\n",
       "59.9 cm     1\n",
       "65 cm       1\n",
       "70 cm       1\n",
       "64 cm       1\n",
       "67.5 cm     1\n",
       "66 cm       1\n",
       "596 mm      1\n",
       "45.9 cm     1\n",
       "49 cm       1\n",
       "56 cm       1\n",
       "Name: Breedte, dtype: int64"
      ]
     },
     "execution_count": 1162,
     "metadata": {},
     "output_type": "execute_result"
    }
   ],
   "source": [
    "df[\"Breedte\"].value_counts()   #genislik"
   ]
  },
  {
   "cell_type": "code",
   "execution_count": 1163,
   "metadata": {},
   "outputs": [],
   "source": [
    "df.drop(\"Breedte\", inplace=True, axis = 1)  "
   ]
  },
  {
   "cell_type": "code",
   "execution_count": 1164,
   "metadata": {},
   "outputs": [
    {
     "data": {
      "text/plain": [
       "59 cm      35\n",
       "60 cm      21\n",
       "55 cm      16\n",
       "590 mm     13\n",
       "63.6 cm     8\n",
       "66 cm       6\n",
       "56.5 cm     5\n",
       "64 cm       5\n",
       "56 cm       4\n",
       "57.5 cm     4\n",
       "63 cm       3\n",
       "58.8 cm     3\n",
       "63.1 cm     2\n",
       "54.2 cm     2\n",
       "61 cm       2\n",
       "54.6 cm     2\n",
       "69 cm       2\n",
       "49 cm       2\n",
       "70.5 cm     1\n",
       "54.5 cm     1\n",
       "62.2 cm     1\n",
       "588 mm      1\n",
       "60.7 cm     1\n",
       "77 cm       1\n",
       "61.0 cm     1\n",
       "62 cm       1\n",
       "65.9 cm     1\n",
       "52.7 cm     1\n",
       "54.0 cm     1\n",
       "58.2 cm     1\n",
       "67 cm       1\n",
       "54 cm       1\n",
       "56.5 mm     1\n",
       "55.7 cm     1\n",
       "50 cm       1\n",
       "636 mm      1\n",
       "60.1 cm     1\n",
       "54.7 cm     1\n",
       "46 cm       1\n",
       "68 cm       1\n",
       "Name: Diepte, dtype: int64"
      ]
     },
     "execution_count": 1164,
     "metadata": {},
     "output_type": "execute_result"
    }
   ],
   "source": [
    "df[\"Diepte\"].value_counts()   #derinlik"
   ]
  },
  {
   "cell_type": "code",
   "execution_count": 1165,
   "metadata": {},
   "outputs": [],
   "source": [
    "df.drop(\"Diepte\", inplace=True, axis = 1)  "
   ]
  },
  {
   "cell_type": "code",
   "execution_count": 1166,
   "metadata": {},
   "outputs": [],
   "source": [
    "df.drop(\"Diepte bij geopende deur (90°)\", inplace=True, axis = 1)  "
   ]
  },
  {
   "cell_type": "code",
   "execution_count": 1167,
   "metadata": {},
   "outputs": [
    {
     "data": {
      "text/plain": [
       "Ja                    112\n",
       "Ja - alleen voorin     15\n",
       "Nee                     7\n",
       "Name: Verstelbare poten, dtype: int64"
      ]
     },
     "execution_count": 1167,
     "metadata": {},
     "output_type": "execute_result"
    }
   ],
   "source": [
    "df[\"Verstelbare poten\"].value_counts()     #ayarlanabilir boyut"
   ]
  },
  {
   "cell_type": "code",
   "execution_count": 1168,
   "metadata": {},
   "outputs": [],
   "source": [
    "df[\"Verstelbare poten\"] = df[\"Verstelbare poten\"].apply(lambda x: \"Nee\" if x ==\"Nee\" else \"Ja\")"
   ]
  },
  {
   "cell_type": "code",
   "execution_count": 1169,
   "metadata": {},
   "outputs": [
    {
     "data": {
      "text/plain": [
       "Ja     150\n",
       "Nee      7\n",
       "Name: Verstelbare poten, dtype: int64"
      ]
     },
     "execution_count": 1169,
     "metadata": {},
     "output_type": "execute_result"
    }
   ],
   "source": [
    "df[\"Verstelbare poten\"].value_counts() "
   ]
  },
  {
   "cell_type": "code",
   "execution_count": 1170,
   "metadata": {},
   "outputs": [
    {
     "data": {
      "text/plain": [
       "1.5 m     58\n",
       "1.6 m     32\n",
       "160 cm    23\n",
       "1.8 m      8\n",
       "1.2 m      8\n",
       "1.75 m     6\n",
       "2 m        5\n",
       "1.45 m     4\n",
       "1.4 m      3\n",
       "1.55 m     2\n",
       "1.5 cm     1\n",
       "200 cm     1\n",
       "210 cm     1\n",
       "1.65 m     1\n",
       "Name: Lengte aansluitkabel, dtype: int64"
      ]
     },
     "execution_count": 1170,
     "metadata": {},
     "output_type": "execute_result"
    }
   ],
   "source": [
    "df[\"Lengte aansluitkabel\"].value_counts() "
   ]
  },
  {
   "cell_type": "code",
   "execution_count": 1171,
   "metadata": {},
   "outputs": [],
   "source": [
    "df.drop(\"Lengte aansluitkabel\", inplace=True, axis = 1)   #kablo uzunlugu"
   ]
  },
  {
   "cell_type": "code",
   "execution_count": 1172,
   "metadata": {},
   "outputs": [
    {
     "data": {
      "text/plain": [
       "0            108\n",
       "73.5 kg        6\n",
       "74.5 kg        5\n",
       "70 kg          4\n",
       "0 g            3\n",
       "70.5 kg        2\n",
       "66 kg          2\n",
       "76 kg          2\n",
       "71 kg          2\n",
       "40.1 kg        1\n",
       "67.9 kg        1\n",
       "73 kg          1\n",
       "91 kg          1\n",
       "41 kg          1\n",
       "82.2 kg        1\n",
       "72.303 kg      1\n",
       "87             1\n",
       "63 kg          1\n",
       "66.3 kg        1\n",
       "73.503 kg      1\n",
       "67 kg          1\n",
       "10.3 kg        1\n",
       "72.5 kg        1\n",
       "84.9 kg        1\n",
       "45 kg          1\n",
       "60 kg          1\n",
       "83 kg          1\n",
       "65 kg          1\n",
       "80.0 kg        1\n",
       "34.2 kg        1\n",
       "20.6 kg        1\n",
       "70.4 kg        1\n",
       "Name: Gewicht, dtype: int64"
      ]
     },
     "execution_count": 1172,
     "metadata": {},
     "output_type": "execute_result"
    }
   ],
   "source": [
    "df[\"Gewicht\"].value_counts()      #114 tane 0 oldugu icin bunu siliyorum"
   ]
  },
  {
   "cell_type": "code",
   "execution_count": 1173,
   "metadata": {},
   "outputs": [],
   "source": [
    "df.drop(\"Gewicht\", inplace=True, axis = 1)"
   ]
  },
  {
   "cell_type": "code",
   "execution_count": 1174,
   "metadata": {},
   "outputs": [
    {
     "data": {
      "text/plain": [
       "Wasmachine, aanvoerslang, afvoerslang en een gebruikershandleiding                                        112\n",
       "Wasmachine                                                                                                  8\n",
       "Was-droogcombinatie, aanvoerslang, afvoerslang en een gebruikershandleiding                                 6\n",
       "Wasmachine, aanvoerslang, afvoerslang, gebruikershandleiding                                                5\n",
       "Wasmachine, aanvoer- en afvoerslang en een gebruikershandleiding                                            4\n",
       "Wasmachine, aanvoerslang, afvoerslang, energielabel en een gebruikershandleiding                            3\n",
       "Wasmachine, Gebruiksaanwijzing                                                                              2\n",
       "Wasmachine en een gebruikershandleiding                                                                     2\n",
       "Wasmachine, handleiding                                                                                     2\n",
       "Bovenlader, aanvoerslang, afvoerslang en een gebruiksaanwijzing                                             2\n",
       "Wasmachine, handleiding, energielabel                                                                       1\n",
       "Wasmachine, aanvoerslang, afvoerslang, 3 caps, UltraPhase 1, UltraPhase 2 en een gebruikershandleiding      1\n",
       "L7WB86GW DualSense                                                                                          1\n",
       "Wasmachine, aanvoerslang, afvoerslang, handleiding                                                          1\n",
       "Wasmachine, aanvoerslang en een afvoerslang                                                                 1\n",
       "Wasmachine, toevoerslang, afvoerslang en een gebruikershandleiding                                          1\n",
       "Wasmachine, handleiding, aanvoerslang, afvoerslang, energie label                                           1\n",
       "Wasmachine, aanvoerslang, stelsleutel en een gebruikershandleiding.                                         1\n",
       "Wasmachine, aanvoerslag, afvoerslang en een gebruikershandleiding                                           1\n",
       "Wasmachine, waterslang aansluiting, spanner sleutel pootjes, handleiding                                    1\n",
       "Wasmachine, afvoerslang, aanvoerslang en een gebruikershandleiding                                          1\n",
       "Name: Verpakkingsinhoud, dtype: int64"
      ]
     },
     "execution_count": 1174,
     "metadata": {},
     "output_type": "execute_result"
    }
   ],
   "source": [
    "df[\"Verpakkingsinhoud\"].value_counts()    #gerek yok - paket icerikleri"
   ]
  },
  {
   "cell_type": "code",
   "execution_count": 1175,
   "metadata": {},
   "outputs": [],
   "source": [
    "df.drop(\"Verpakkingsinhoud\", inplace=True, axis = 1)"
   ]
  },
  {
   "cell_type": "code",
   "execution_count": 1176,
   "metadata": {},
   "outputs": [
    {
     "data": {
      "text/plain": [
       "2 jaar     142\n",
       "10 jaar      2\n",
       "Name: Fabrieksgarantie, dtype: int64"
      ]
     },
     "execution_count": 1176,
     "metadata": {},
     "output_type": "execute_result"
    }
   ],
   "source": [
    "df[\"Fabrieksgarantie\"].value_counts()     #uretici garantisi"
   ]
  },
  {
   "cell_type": "code",
   "execution_count": 1177,
   "metadata": {},
   "outputs": [],
   "source": [
    "df['Fabrieksgarantie'] = df['Fabrieksgarantie'].apply(lambda x: get_numbers_by_regex(str(x)))"
   ]
  },
  {
   "cell_type": "code",
   "execution_count": 1178,
   "metadata": {},
   "outputs": [
    {
     "data": {
      "text/plain": [
       "2.0     142\n",
       "10.0      2\n",
       "Name: Fabrieksgarantie, dtype: int64"
      ]
     },
     "execution_count": 1178,
     "metadata": {},
     "output_type": "execute_result"
    }
   ],
   "source": [
    "df[\"Fabrieksgarantie\"].value_counts()"
   ]
  },
  {
   "cell_type": "code",
   "execution_count": 1179,
   "metadata": {},
   "outputs": [],
   "source": [
    "df['Fabrieksgarantie'] = df['Fabrieksgarantie'].apply(lambda x: 2 if np.isnan(x) else x)"
   ]
  },
  {
   "cell_type": "code",
   "execution_count": 1180,
   "metadata": {},
   "outputs": [
    {
     "data": {
      "text/plain": [
       "2.0     155\n",
       "10.0      2\n",
       "Name: Fabrieksgarantie, dtype: int64"
      ]
     },
     "execution_count": 1180,
     "metadata": {},
     "output_type": "execute_result"
    }
   ],
   "source": [
    "df[\"Fabrieksgarantie\"].value_counts()"
   ]
  },
  {
   "cell_type": "code",
   "execution_count": 1181,
   "metadata": {},
   "outputs": [
    {
     "data": {
      "text/plain": [
       "Geen aanvullende garantie-informatie                                                                72\n",
       "10 jaar motorgarantie                                                                               24\n",
       "10 jaar garantie op de motor                                                                         3\n",
       "Geen aanvullende garantie informatie                                                                 2\n",
       "10 jaar motorgarantie (enkel op onderdelen)                                                          1\n",
       "10 jaar motorgarantie na registratie, en dankzij aquaStop levenslange garantie tegen waterschade     1\n",
       "10 jaar onderdelen garantie op de motor                                                              1\n",
       "Na registratie 10 jaar motorgarantie en levenslange garantie tegen waterschade.                      1\n",
       "10 jaar garantie op motor                                                                            1\n",
       "10 jaar motorgarantie na registratie, levenslange garantie tegen waterschade                         1\n",
       "Name: Aanvullende garantie-informatie, dtype: int64"
      ]
     },
     "execution_count": 1181,
     "metadata": {},
     "output_type": "execute_result"
    }
   ],
   "source": [
    "df[\"Aanvullende garantie-informatie\"].value_counts()"
   ]
  },
  {
   "cell_type": "code",
   "execution_count": 1182,
   "metadata": {},
   "outputs": [],
   "source": [
    "df.drop(\"Aanvullende garantie-informatie\", inplace=True, axis = 1)"
   ]
  },
  {
   "cell_type": "code",
   "execution_count": 1183,
   "metadata": {},
   "outputs": [
    {
     "data": {
      "text/plain": [
       "A    61\n",
       "C    34\n",
       "B    22\n",
       "D    17\n",
       "E    11\n",
       "F     1\n",
       "Name: Energie-efficiëntieklasse (EU 2017/1369), dtype: int64"
      ]
     },
     "execution_count": 1183,
     "metadata": {},
     "output_type": "execute_result"
    }
   ],
   "source": [
    "df[\"Energie-efficiëntieklasse (EU 2017/1369)\"].value_counts()   "
   ]
  },
  {
   "cell_type": "code",
   "execution_count": 1184,
   "metadata": {},
   "outputs": [
    {
     "data": {
      "text/plain": [
       "A-G    141\n",
       "Name: EU Energy Efficiency Scale (EU 2017/1369), dtype: int64"
      ]
     },
     "execution_count": 1184,
     "metadata": {},
     "output_type": "execute_result"
    }
   ],
   "source": [
    "df[\"EU Energy Efficiency Scale (EU 2017/1369)\"].value_counts()"
   ]
  },
  {
   "cell_type": "code",
   "execution_count": 1185,
   "metadata": {},
   "outputs": [
    {
     "data": {
      "text/plain": [
       "49 kWh      14\n",
       "47 kWh      11\n",
       "69 kWh      11\n",
       "48 kWh       9\n",
       "66 kWh       9\n",
       "62 kWh       7\n",
       "55 kWh       5\n",
       "63 kWh       5\n",
       "65 kWh       4\n",
       "54 kWh       4\n",
       "77 kWh       4\n",
       "51 kWh       3\n",
       "57 kWh       3\n",
       "58 kWh       2\n",
       "78 kWh       2\n",
       "59 kWh       2\n",
       "53 kWh       2\n",
       "46 kWh       1\n",
       "49.0 kWh     1\n",
       "61 kWh       1\n",
       "101 kWh      1\n",
       "88 kWh       1\n",
       "67 kWh       1\n",
       "44.3 kWh     1\n",
       "252 kWh      1\n",
       "50 kWh       1\n",
       "68 kWh       1\n",
       "52 kWh       1\n",
       "73 kWh       1\n",
       "Name: Energieverbruik per 100 cycli, dtype: int64"
      ]
     },
     "execution_count": 1185,
     "metadata": {},
     "output_type": "execute_result"
    }
   ],
   "source": [
    "df[\"Energieverbruik per 100 cycli\"].value_counts()"
   ]
  },
  {
   "cell_type": "code",
   "execution_count": 1186,
   "metadata": {},
   "outputs": [],
   "source": [
    "df['Energieverbruik per 100 cycli'] = df['Energieverbruik per 100 cycli'].apply(lambda x: get_numbers_by_regex(str(x)))"
   ]
  },
  {
   "cell_type": "code",
   "execution_count": 1187,
   "metadata": {},
   "outputs": [
    {
     "data": {
      "text/plain": [
       "49.0     15\n",
       "47.0     11\n",
       "69.0     11\n",
       "66.0      9\n",
       "48.0      9\n",
       "62.0      7\n",
       "55.0      5\n",
       "63.0      5\n",
       "77.0      4\n",
       "65.0      4\n",
       "54.0      4\n",
       "51.0      3\n",
       "57.0      3\n",
       "58.0      2\n",
       "59.0      2\n",
       "53.0      2\n",
       "78.0      2\n",
       "61.0      1\n",
       "101.0     1\n",
       "88.0      1\n",
       "46.0      1\n",
       "67.0      1\n",
       "44.3      1\n",
       "252.0     1\n",
       "50.0      1\n",
       "68.0      1\n",
       "52.0      1\n",
       "73.0      1\n",
       "Name: Energieverbruik per 100 cycli, dtype: int64"
      ]
     },
     "execution_count": 1187,
     "metadata": {},
     "output_type": "execute_result"
    }
   ],
   "source": [
    "df[\"Energieverbruik per 100 cycli\"].value_counts()"
   ]
  },
  {
   "cell_type": "code",
   "execution_count": 1188,
   "metadata": {},
   "outputs": [
    {
     "data": {
      "text/plain": [
       "<AxesSubplot:xlabel='Energieverbruik per 100 cycli', ylabel='Count'>"
      ]
     },
     "execution_count": 1188,
     "metadata": {},
     "output_type": "execute_result"
    },
    {
     "data": {
      "image/png": "[encoded data removed]",
      "text/plain": [
       "<Figure size 432x288 with 1 Axes>"
      ]
     },
     "metadata": {
      "needs_background": "light"
     },
     "output_type": "display_data"
    }
   ],
   "source": [
    "import seaborn as sns\n",
    "sns.histplot(data = df['Energieverbruik per 100 cycli'], kde=True)"
   ]
  },
  {
   "cell_type": "code",
   "execution_count": 1189,
   "metadata": {},
   "outputs": [],
   "source": [
    "df['Energieverbruik per 100 cycli'] = df['Energieverbruik per 100 cycli'].apply(lambda x: np.random.uniform(45,85) if np.isnan(x) else x)"
   ]
  },
  {
   "cell_type": "code",
   "execution_count": 1190,
   "metadata": {},
   "outputs": [
    {
     "data": {
      "text/plain": [
       "<AxesSubplot:xlabel='Energieverbruik per 100 cycli', ylabel='Count'>"
      ]
     },
     "execution_count": 1190,
     "metadata": {},
     "output_type": "execute_result"
    },
    {
     "data": {
      "image/png": "[encoded data removed]",
      "text/plain": [
       "<Figure size 432x288 with 1 Axes>"
      ]
     },
     "metadata": {
      "needs_background": "light"
     },
     "output_type": "display_data"
    }
   ],
   "source": [
    "sns.histplot(data = df['Energieverbruik per 100 cycli'], kde=True)"
   ]
  },
  {
   "cell_type": "code",
   "execution_count": 1191,
   "metadata": {},
   "outputs": [
    {
     "data": {
      "text/plain": [
       "1400 rpm    95\n",
       "1600 rpm    27\n",
       "1200 rpm     4\n",
       "1351 rpm     3\n",
       "1000 rpm     1\n",
       "1300 rpm     1\n",
       "1100 rpm     1\n",
       "Name: Aantal toeren per minuut (nominale capaciteit), dtype: int64"
      ]
     },
     "execution_count": 1191,
     "metadata": {},
     "output_type": "execute_result"
    }
   ],
   "source": [
    "df[\"Aantal toeren per minuut (nominale capaciteit)\"].value_counts()"
   ]
  },
  {
   "cell_type": "code",
   "execution_count": 1192,
   "metadata": {},
   "outputs": [],
   "source": [
    "df['Aantal toeren per minuut (nominale capaciteit)'] = df['Aantal toeren per minuut (nominale capaciteit)'].apply(lambda x: get_numbers_by_regex(str(x)))"
   ]
  },
  {
   "cell_type": "code",
   "execution_count": 1193,
   "metadata": {},
   "outputs": [
    {
     "data": {
      "text/plain": [
       "1400.0    95\n",
       "1600.0    27\n",
       "1200.0     4\n",
       "1351.0     3\n",
       "1000.0     1\n",
       "1300.0     1\n",
       "1100.0     1\n",
       "Name: Aantal toeren per minuut (nominale capaciteit), dtype: int64"
      ]
     },
     "execution_count": 1193,
     "metadata": {},
     "output_type": "execute_result"
    }
   ],
   "source": [
    "df[\"Aantal toeren per minuut (nominale capaciteit)\"].value_counts()"
   ]
  },
  {
   "cell_type": "code",
   "execution_count": 1194,
   "metadata": {},
   "outputs": [
    {
     "data": {
      "text/plain": [
       "<AxesSubplot:xlabel='Aantal toeren per minuut (nominale capaciteit)', ylabel='Count'>"
      ]
     },
     "execution_count": 1194,
     "metadata": {},
     "output_type": "execute_result"
    },
    {
     "data": {
      "image/png": "[encoded data removed]",
      "text/plain": [
       "<Figure size 432x288 with 1 Axes>"
      ]
     },
     "metadata": {
      "needs_background": "light"
     },
     "output_type": "display_data"
    }
   ],
   "source": [
    "sns.histplot(data = df['Aantal toeren per minuut (nominale capaciteit)'], kde=True)"
   ]
  },
  {
   "cell_type": "code",
   "execution_count": 1195,
   "metadata": {},
   "outputs": [],
   "source": [
    "df['Aantal toeren per minuut (nominale capaciteit)'] = df['Aantal toeren per minuut (nominale capaciteit)'].apply(lambda x: np.random.randint(12,16)*100 if np.isnan(x) else x)"
   ]
  },
  {
   "cell_type": "code",
   "execution_count": 1196,
   "metadata": {},
   "outputs": [
    {
     "data": {
      "text/plain": [
       "<AxesSubplot:xlabel='Aantal toeren per minuut (nominale capaciteit)', ylabel='Count'>"
      ]
     },
     "execution_count": 1196,
     "metadata": {},
     "output_type": "execute_result"
    },
    {
     "data": {
      "image/png": "[encoded data removed]",
      "text/plain": [
       "<Figure size 432x288 with 1 Axes>"
      ]
     },
     "metadata": {
      "needs_background": "light"
     },
     "output_type": "display_data"
    }
   ],
   "source": [
    "sns.histplot(data = df['Aantal toeren per minuut (nominale capaciteit)'], kde=True)"
   ]
  },
  {
   "cell_type": "code",
   "execution_count": 1197,
   "metadata": {},
   "outputs": [
    {
     "data": {
      "text/plain": [
       "1400.0    102\n",
       "1600.0     27\n",
       "1300.0     14\n",
       "1500.0      5\n",
       "1200.0      4\n",
       "1351.0      3\n",
       "1000.0      1\n",
       "1100.0      1\n",
       "Name: Aantal toeren per minuut (nominale capaciteit), dtype: int64"
      ]
     },
     "execution_count": 1197,
     "metadata": {},
     "output_type": "execute_result"
    }
   ],
   "source": [
    "df['Aantal toeren per minuut (nominale capaciteit)'].value_counts()"
   ]
  },
  {
   "cell_type": "code",
   "execution_count": 1198,
   "metadata": {},
   "outputs": [
    {
     "data": {
      "text/plain": [
       "B    90\n",
       "A    13\n",
       "C     1\n",
       "Name: Centrifuge-efficiëntieklasse (EU 2017/1369), dtype: int64"
      ]
     },
     "execution_count": 1198,
     "metadata": {},
     "output_type": "execute_result"
    }
   ],
   "source": [
    "df[\"Centrifuge-efficiëntieklasse (EU 2017/1369)\"].value_counts()"
   ]
  },
  {
   "cell_type": "code",
   "execution_count": 1199,
   "metadata": {},
   "outputs": [],
   "source": [
    "df.drop(\"Centrifuge-efficiëntieklasse (EU 2017/1369)\", inplace=True, axis = 1)"
   ]
  },
  {
   "cell_type": "code",
   "execution_count": 1200,
   "metadata": {},
   "outputs": [
    {
     "data": {
      "text/plain": [
       "03:38    10\n",
       "03:37     9\n",
       "03:20     9\n",
       "03:48     6\n",
       "03:47     5\n",
       "3:40      5\n",
       "03:19     5\n",
       "03:29     4\n",
       "03:25     3\n",
       "03:44     3\n",
       "3:59      3\n",
       "03:58     3\n",
       "03:30     3\n",
       "3:25      3\n",
       "03:35     3\n",
       "03:40     3\n",
       "03:39     2\n",
       "03:27     2\n",
       "3:48      2\n",
       "3:30      2\n",
       "03:09     2\n",
       "04:00     1\n",
       "02:40     1\n",
       "03:59     1\n",
       "03:28     1\n",
       "01:45     1\n",
       "4:00      1\n",
       "3:38      1\n",
       "3:20      1\n",
       "02:05     1\n",
       "03:08     1\n",
       "02:59     1\n",
       "3:50      1\n",
       "03:55     1\n",
       "02:48     1\n",
       "03:06     1\n",
       "3:37      1\n",
       "02:10     1\n",
       "1:13      1\n",
       "Name: Programmaduur wassen, dtype: int64"
      ]
     },
     "execution_count": 1200,
     "metadata": {},
     "output_type": "execute_result"
    }
   ],
   "source": [
    "df[\"Programmaduur wassen\"].value_counts()"
   ]
  },
  {
   "cell_type": "code",
   "execution_count": 1201,
   "metadata": {},
   "outputs": [
    {
     "data": {
      "text/plain": [
       "A    53\n",
       "B    48\n",
       "C     5\n",
       "D     3\n",
       "Name: Geluidsniveauklasse centrifugeren (EU 2017/1369), dtype: int64"
      ]
     },
     "execution_count": 1201,
     "metadata": {},
     "output_type": "execute_result"
    }
   ],
   "source": [
    "df[\"Geluidsniveauklasse centrifugeren (EU 2017/1369)\"].value_counts()"
   ]
  },
  {
   "cell_type": "code",
   "execution_count": 1202,
   "metadata": {},
   "outputs": [],
   "source": [
    "df.drop(\"Geluidsniveauklasse centrifugeren (EU 2017/1369)\", inplace=True, axis = 1)"
   ]
  },
  {
   "cell_type": "code",
   "execution_count": 1203,
   "metadata": {},
   "outputs": [],
   "source": [
    "df.drop(\"Diameter deuropening\", inplace = True, axis = 1)"
   ]
  },
  {
   "cell_type": "code",
   "execution_count": 1204,
   "metadata": {},
   "outputs": [
    {
     "data": {
      "text/plain": [
       "63 l      30\n",
       "55 l      18\n",
       "70 l      13\n",
       "65 l      12\n",
       "68 l      12\n",
       "61 l       8\n",
       "69 l       6\n",
       "54 l       5\n",
       "67 l       5\n",
       "59 l       5\n",
       "64 l       4\n",
       "53 l       3\n",
       "42 l       3\n",
       "48 l       3\n",
       "52 l       2\n",
       "68.6 l     1\n",
       "47 l       1\n",
       "66 l       1\n",
       "51 l       1\n",
       "72 l       1\n",
       "58 l       1\n",
       "43 l       1\n",
       "81 l       1\n",
       "127 l      1\n",
       "62 l       1\n",
       "Name: Inhoud trommel, dtype: int64"
      ]
     },
     "execution_count": 1204,
     "metadata": {},
     "output_type": "execute_result"
    }
   ],
   "source": [
    "df[\"Inhoud trommel\"].value_counts()"
   ]
  },
  {
   "cell_type": "code",
   "execution_count": 1205,
   "metadata": {},
   "outputs": [],
   "source": [
    "df['Inhoud trommel'] = df['Inhoud trommel'].apply(lambda x: get_numbers_by_regex(str(x)))"
   ]
  },
  {
   "cell_type": "code",
   "execution_count": 1206,
   "metadata": {},
   "outputs": [
    {
     "data": {
      "text/plain": [
       "63.0     30\n",
       "55.0     18\n",
       "70.0     13\n",
       "65.0     12\n",
       "68.0     12\n",
       "61.0      8\n",
       "69.0      6\n",
       "54.0      5\n",
       "67.0      5\n",
       "59.0      5\n",
       "64.0      4\n",
       "53.0      3\n",
       "42.0      3\n",
       "48.0      3\n",
       "52.0      2\n",
       "68.6      1\n",
       "47.0      1\n",
       "66.0      1\n",
       "51.0      1\n",
       "72.0      1\n",
       "58.0      1\n",
       "43.0      1\n",
       "81.0      1\n",
       "127.0     1\n",
       "62.0      1\n",
       "Name: Inhoud trommel, dtype: int64"
      ]
     },
     "execution_count": 1206,
     "metadata": {},
     "output_type": "execute_result"
    }
   ],
   "source": [
    "df[\"Inhoud trommel\"].value_counts()"
   ]
  },
  {
   "cell_type": "code",
   "execution_count": 1207,
   "metadata": {},
   "outputs": [
    {
     "data": {
      "text/plain": [
       "<AxesSubplot:xlabel='Inhoud trommel', ylabel='Count'>"
      ]
     },
     "execution_count": 1207,
     "metadata": {},
     "output_type": "execute_result"
    },
    {
     "data": {
      "image/png": "[encoded data removed]",
      "text/plain": [
       "<Figure size 432x288 with 1 Axes>"
      ]
     },
     "metadata": {
      "needs_background": "light"
     },
     "output_type": "display_data"
    }
   ],
   "source": [
    "import seaborn as sns\n",
    "sns.histplot(data = df['Inhoud trommel'], kde=True)"
   ]
  },
  {
   "cell_type": "code",
   "execution_count": 1208,
   "metadata": {},
   "outputs": [],
   "source": [
    "df['Inhoud trommel'] = df['Inhoud trommel'].apply(lambda x: np.random.randint(45,75) if np.isnan(x) else x)"
   ]
  },
  {
   "cell_type": "code",
   "execution_count": 1209,
   "metadata": {},
   "outputs": [
    {
     "data": {
      "text/plain": [
       "63.0     32\n",
       "55.0     20\n",
       "65.0     13\n",
       "70.0     13\n",
       "68.0     12\n",
       "61.0     10\n",
       "54.0      6\n",
       "69.0      6\n",
       "67.0      5\n",
       "64.0      5\n",
       "48.0      5\n",
       "59.0      5\n",
       "53.0      4\n",
       "42.0      3\n",
       "46.0      2\n",
       "66.0      2\n",
       "52.0      2\n",
       "49.0      1\n",
       "68.6      1\n",
       "47.0      1\n",
       "51.0      1\n",
       "43.0      1\n",
       "60.0      1\n",
       "72.0      1\n",
       "58.0      1\n",
       "81.0      1\n",
       "74.0      1\n",
       "127.0     1\n",
       "62.0      1\n",
       "Name: Inhoud trommel, dtype: int64"
      ]
     },
     "execution_count": 1209,
     "metadata": {},
     "output_type": "execute_result"
    }
   ],
   "source": [
    "df[\"Inhoud trommel\"].value_counts()"
   ]
  },
  {
   "cell_type": "code",
   "execution_count": 1210,
   "metadata": {},
   "outputs": [
    {
     "data": {
      "text/plain": [
       "<AxesSubplot:xlabel='Inhoud trommel', ylabel='Count'>"
      ]
     },
     "execution_count": 1210,
     "metadata": {},
     "output_type": "execute_result"
    },
    {
     "data": {
      "image/png": "[encoded data removed]",
      "text/plain": [
       "<Figure size 432x288 with 1 Axes>"
      ]
     },
     "metadata": {
      "needs_background": "light"
     },
     "output_type": "display_data"
    }
   ],
   "source": [
    "import seaborn as sns\n",
    "sns.histplot(data = df['Inhoud trommel'], kde=True)"
   ]
  },
  {
   "cell_type": "code",
   "execution_count": 1211,
   "metadata": {},
   "outputs": [
    {
     "data": {
      "text/plain": [
       "ESNFB814CWABX       1\n",
       "WAV28KH7NL          1\n",
       "WAU28T00NL          1\n",
       "WM14N205NL          1\n",
       "WAV28EH7NL          1\n",
       "                   ..\n",
       "914 913 568         1\n",
       "WAU28U00NL          1\n",
       "11CD0301NL          1\n",
       "TDLR 7221BS BX/N    1\n",
       "WAXH2M71NL          1\n",
       "Name: Manufacturer Part Number (MPN), Length: 123, dtype: int64"
      ]
     },
     "execution_count": 1211,
     "metadata": {},
     "output_type": "execute_result"
    }
   ],
   "source": [
    "df[\"Manufacturer Part Number (MPN)\"].value_counts()"
   ]
  },
  {
   "cell_type": "code",
   "execution_count": 1212,
   "metadata": {},
   "outputs": [],
   "source": [
    "df.drop(\"Manufacturer Part Number (MPN)\", inplace=True, axis = 1)"
   ]
  },
  {
   "cell_type": "code",
   "execution_count": 1213,
   "metadata": {},
   "outputs": [],
   "source": [
    "#df.drop(\"Koude was\", inplace=True, axis = 1)      #soguk yikama\n",
    "#df.drop(\"Spoelstop\", inplace=True, axis = 1)      #durulama\n",
    "#df.drop(\"Stoomfunctie\", inplace=True, axis = 1)      #durulama"
   ]
  },
  {
   "cell_type": "code",
   "execution_count": 1214,
   "metadata": {},
   "outputs": [
    {
     "name": "stdout",
     "output_type": "stream",
     "text": [
      "<class 'pandas.core.frame.DataFrame'>\n",
      "RangeIndex: 157 entries, 0 to 156\n",
      "Data columns (total 34 columns):\n",
      " #   Column                                          Non-Null Count  Dtype  \n",
      "---  ------                                          --------------  -----  \n",
      " 0   Unnamed: 0                                      157 non-null    int64  \n",
      " 1   Brand                                           157 non-null    object \n",
      " 2   Price                                           157 non-null    int64  \n",
      " 3   Vulgewicht wassen                               157 non-null    object \n",
      " 4   Type apparaat                                   157 non-null    object \n",
      " 5   Type belading                                   157 non-null    object \n",
      " 6   Volume centrifugeren                            157 non-null    float64\n",
      " 7   Aantal programma’s                              157 non-null    float64\n",
      " 8   Koude was                                       139 non-null    object \n",
      " 9   Spoelstop                                       117 non-null    object \n",
      " 10  Stoomfunctie                                    133 non-null    object \n",
      " 11  Antikreukfunctie                                148 non-null    object \n",
      " 12  Automatische dosering                           147 non-null    object \n",
      " 13  Beladingsherkenning                             152 non-null    object \n",
      " 14  Vuilherkenning                                  133 non-null    object \n",
      " 15  Balanscontrole                                  142 non-null    object \n",
      " 16  Trommelmateriaal                                155 non-null    object \n",
      " 17  Kinderbeveiliging                               143 non-null    object \n",
      " 18  Binnenverlichting                               149 non-null    object \n",
      " 19  Te verbinden met app                            143 non-null    object \n",
      " 20  Overstroombeveiliging                           157 non-null    object \n",
      " 21  Koolborstelloze motor                           153 non-null    object \n",
      " 22  Instelbare starttijd                            157 non-null    object \n",
      " 23  Afmetingen (B x H x D)                          157 non-null    object \n",
      " 24  Kleur (basic)                                   157 non-null    object \n",
      " 25  Afneembaar werkblad                             140 non-null    object \n",
      " 26  Verstelbare poten                               157 non-null    object \n",
      " 27  Fabrieksgarantie                                157 non-null    float64\n",
      " 28  Energie-efficiëntieklasse (EU 2017/1369)        146 non-null    object \n",
      " 29  EU Energy Efficiency Scale (EU 2017/1369)       141 non-null    object \n",
      " 30  Energieverbruik per 100 cycli                   157 non-null    float64\n",
      " 31  Aantal toeren per minuut (nominale capaciteit)  157 non-null    float64\n",
      " 32  Programmaduur wassen                            105 non-null    object \n",
      " 33  Inhoud trommel                                  157 non-null    float64\n",
      "dtypes: float64(6), int64(2), object(26)\n",
      "memory usage: 41.8+ KB\n"
     ]
    }
   ],
   "source": [
    "df.info()"
   ]
  },
  {
   "cell_type": "code",
   "execution_count": 1215,
   "metadata": {},
   "outputs": [
    {
     "data": {
      "text/plain": [
       "9 kg       68\n",
       "8 kg       40\n",
       "7 kg       20\n",
       "10 kg      19\n",
       "10.5 kg     3\n",
       "6 kg        2\n",
       "12 kg       2\n",
       "5 kg        1\n",
       "2 kg        1\n",
       "17 kg       1\n",
       "Name: Vulgewicht wassen, dtype: int64"
      ]
     },
     "execution_count": 1215,
     "metadata": {},
     "output_type": "execute_result"
    }
   ],
   "source": [
    "df[\"Vulgewicht wassen\"].value_counts()"
   ]
  },
  {
   "cell_type": "code",
   "execution_count": 1216,
   "metadata": {},
   "outputs": [],
   "source": [
    "df['Vulgewicht wassen'] = df['Vulgewicht wassen'].apply(lambda x: get_numbers_by_regex(str(x)))"
   ]
  },
  {
   "cell_type": "code",
   "execution_count": 1217,
   "metadata": {},
   "outputs": [
    {
     "data": {
      "text/plain": [
       "9.0     68\n",
       "8.0     40\n",
       "7.0     20\n",
       "10.0    19\n",
       "10.5     3\n",
       "6.0      2\n",
       "12.0     2\n",
       "5.0      1\n",
       "2.0      1\n",
       "17.0     1\n",
       "Name: Vulgewicht wassen, dtype: int64"
      ]
     },
     "execution_count": 1217,
     "metadata": {},
     "output_type": "execute_result"
    }
   ],
   "source": [
    "df[\"Vulgewicht wassen\"].value_counts()"
   ]
  },
  {
   "cell_type": "code",
   "execution_count": 1218,
   "metadata": {},
   "outputs": [
    {
     "data": {
      "text/plain": [
       "Wasmachine                148\n",
       "Was-droogcombinatie         7\n",
       "Vrijstaande wasmachine      1\n",
       "Wasser/droger               1\n",
       "Name: Type apparaat, dtype: int64"
      ]
     },
     "execution_count": 1218,
     "metadata": {},
     "output_type": "execute_result"
    }
   ],
   "source": [
    "df[\"Type apparaat\"].value_counts()"
   ]
  },
  {
   "cell_type": "code",
   "execution_count": 1219,
   "metadata": {},
   "outputs": [
    {
     "data": {
      "text/plain": [
       "Voorlader     151\n",
       "Bovenlader      6\n",
       "Name: Type belading, dtype: int64"
      ]
     },
     "execution_count": 1219,
     "metadata": {},
     "output_type": "execute_result"
    }
   ],
   "source": [
    "df[\"Type belading\"].value_counts()   "
   ]
  },
  {
   "cell_type": "code",
   "execution_count": 1220,
   "metadata": {},
   "outputs": [],
   "source": [
    "list_of_properties = [\"Koude was\", \"Spoelstop\", \"Stoomfunctie\", \"Antikreukfunctie\", \"Automatische dosering\", \"Beladingsherkenning\",\n",
    "                     \"Vuilherkenning\", \"Balanscontrole\", \"Kinderbeveiliging\", \"Binnenverlichting\", \"Te verbinden met app\", \"Koolborstelloze motor\",\n",
    "                     \"Afneembaar werkblad\", \"Verstelbare poten\", \"Overstroombeveiliging\", \"Instelbare starttijd\"]\n",
    "for property_ in list_of_properties:\n",
    "    df[property_] = df[property_].apply(lambda x: 1 if x ==\"Ja\" else 0)"
   ]
  },
  {
   "cell_type": "code",
   "execution_count": 1221,
   "metadata": {},
   "outputs": [
    {
     "name": "stdout",
     "output_type": "stream",
     "text": [
      "<class 'pandas.core.frame.DataFrame'>\n",
      "RangeIndex: 157 entries, 0 to 156\n",
      "Data columns (total 34 columns):\n",
      " #   Column                                          Non-Null Count  Dtype  \n",
      "---  ------                                          --------------  -----  \n",
      " 0   Unnamed: 0                                      157 non-null    int64  \n",
      " 1   Brand                                           157 non-null    object \n",
      " 2   Price                                           157 non-null    int64  \n",
      " 3   Vulgewicht wassen                               157 non-null    float64\n",
      " 4   Type apparaat                                   157 non-null    object \n",
      " 5   Type belading                                   157 non-null    object \n",
      " 6   Volume centrifugeren                            157 non-null    float64\n",
      " 7   Aantal programma’s                              157 non-null    float64\n",
      " 8   Koude was                                       157 non-null    int64  \n",
      " 9   Spoelstop                                       157 non-null    int64  \n",
      " 10  Stoomfunctie                                    157 non-null    int64  \n",
      " 11  Antikreukfunctie                                157 non-null    int64  \n",
      " 12  Automatische dosering                           157 non-null    int64  \n",
      " 13  Beladingsherkenning                             157 non-null    int64  \n",
      " 14  Vuilherkenning                                  157 non-null    int64  \n",
      " 15  Balanscontrole                                  157 non-null    int64  \n",
      " 16  Trommelmateriaal                                155 non-null    object \n",
      " 17  Kinderbeveiliging                               157 non-null    int64  \n",
      " 18  Binnenverlichting                               157 non-null    int64  \n",
      " 19  Te verbinden met app                            157 non-null    int64  \n",
      " 20  Overstroombeveiliging                           157 non-null    int64  \n",
      " 21  Koolborstelloze motor                           157 non-null    int64  \n",
      " 22  Instelbare starttijd                            157 non-null    int64  \n",
      " 23  Afmetingen (B x H x D)                          157 non-null    object \n",
      " 24  Kleur (basic)                                   157 non-null    object \n",
      " 25  Afneembaar werkblad                             157 non-null    int64  \n",
      " 26  Verstelbare poten                               157 non-null    int64  \n",
      " 27  Fabrieksgarantie                                157 non-null    float64\n",
      " 28  Energie-efficiëntieklasse (EU 2017/1369)        146 non-null    object \n",
      " 29  EU Energy Efficiency Scale (EU 2017/1369)       141 non-null    object \n",
      " 30  Energieverbruik per 100 cycli                   157 non-null    float64\n",
      " 31  Aantal toeren per minuut (nominale capaciteit)  157 non-null    float64\n",
      " 32  Programmaduur wassen                            105 non-null    object \n",
      " 33  Inhoud trommel                                  157 non-null    float64\n",
      "dtypes: float64(7), int64(18), object(9)\n",
      "memory usage: 41.8+ KB\n"
     ]
    }
   ],
   "source": [
    "df.info()"
   ]
  },
  {
   "cell_type": "code",
   "execution_count": 1222,
   "metadata": {},
   "outputs": [],
   "source": [
    "def func_for_afmetingen(text):\n",
    "    text_numbers = []\n",
    "    text_list = text.strip().split(\"x\")\n",
    "    \n",
    "    for text in text_list:\n",
    "        text=text.strip()\n",
    "        text_l = text.split(\" \")[0].strip()\n",
    "        text_numbers.append(text_l)\n",
    "        \n",
    "    return float(text_numbers[0])*float(text_numbers[1])*float(text_numbers[2])\n",
    "\n",
    "df[\"size\"] = df[\"Afmetingen (B x H x D)\"].apply(lambda x: func_for_afmetingen(x))\n",
    "df.drop(\"Afmetingen (B x H x D)\",inplace=True,axis=1)"
   ]
  },
  {
   "cell_type": "code",
   "execution_count": 1223,
   "metadata": {},
   "outputs": [
    {
     "data": {
      "text/plain": [
       "Voorlader     151\n",
       "Bovenlader      6\n",
       "Name: Type belading, dtype: int64"
      ]
     },
     "execution_count": 1223,
     "metadata": {},
     "output_type": "execute_result"
    }
   ],
   "source": [
    "df[\"Type belading\"].value_counts()"
   ]
  },
  {
   "cell_type": "code",
   "execution_count": 1224,
   "metadata": {},
   "outputs": [
    {
     "data": {
      "text/plain": [
       "'Voorlader'"
      ]
     },
     "execution_count": 1224,
     "metadata": {},
     "output_type": "execute_result"
    }
   ],
   "source": [
    "df[\"Type belading\"][0]"
   ]
  },
  {
   "cell_type": "code",
   "execution_count": 1225,
   "metadata": {},
   "outputs": [],
   "source": [
    "list_of_properties = [\"Koude was\", \"Spoelstop\", \"Stoomfunctie\", \"Antikreukfunctie\", \n",
    "                      \"Automatische dosering\", \"Beladingsherkenning\", \"Vuilherkenning\", \n",
    "                      \"Balanscontrole\", \"Kinderbeveiliging\", \"Binnenverlichting\", \"Te verbinden met app\", \n",
    "                      \"Koolborstelloze motor\", \"Afneembaar werkblad\", \"Verstelbare poten\", \"Overstroombeveiliging\", \n",
    "                      \"Instelbare starttijd\"]\n",
    "all_properties = []\n",
    "for i in range(0,len(df)):\n",
    "    all_properties_number=0\n",
    "    for j in list_of_properties:         \n",
    "        all_properties_number = all_properties_number + df[j][i]\n",
    "    all_properties.append(all_properties_number)\n",
    "\n",
    "df[\"all_properties\"] = all_properties           "
   ]
  },
  {
   "cell_type": "code",
   "execution_count": 1226,
   "metadata": {},
   "outputs": [
    {
     "data": {
      "text/plain": [
       "9     38\n",
       "11    23\n",
       "12    22\n",
       "10    21\n",
       "13    17\n",
       "8     13\n",
       "7      7\n",
       "3      5\n",
       "14     5\n",
       "15     2\n",
       "5      2\n",
       "4      1\n",
       "6      1\n",
       "Name: all_properties, dtype: int64"
      ]
     },
     "execution_count": 1226,
     "metadata": {},
     "output_type": "execute_result"
    }
   ],
   "source": [
    "df[\"all_properties\"].value_counts()"
   ]
  },
  {
   "cell_type": "code",
   "execution_count": 1227,
   "metadata": {},
   "outputs": [
    {
     "name": "stdout",
     "output_type": "stream",
     "text": [
      "<class 'pandas.core.frame.DataFrame'>\n",
      "RangeIndex: 157 entries, 0 to 156\n",
      "Data columns (total 19 columns):\n",
      " #   Column                                          Non-Null Count  Dtype  \n",
      "---  ------                                          --------------  -----  \n",
      " 0   Unnamed: 0                                      157 non-null    int64  \n",
      " 1   Brand                                           157 non-null    object \n",
      " 2   Price                                           157 non-null    int64  \n",
      " 3   Vulgewicht wassen                               157 non-null    float64\n",
      " 4   Type apparaat                                   157 non-null    object \n",
      " 5   Type belading                                   157 non-null    object \n",
      " 6   Volume centrifugeren                            157 non-null    float64\n",
      " 7   Aantal programma’s                              157 non-null    float64\n",
      " 8   Trommelmateriaal                                155 non-null    object \n",
      " 9   Kleur (basic)                                   157 non-null    object \n",
      " 10  Fabrieksgarantie                                157 non-null    float64\n",
      " 11  Energie-efficiëntieklasse (EU 2017/1369)        146 non-null    object \n",
      " 12  EU Energy Efficiency Scale (EU 2017/1369)       141 non-null    object \n",
      " 13  Energieverbruik per 100 cycli                   157 non-null    float64\n",
      " 14  Aantal toeren per minuut (nominale capaciteit)  157 non-null    float64\n",
      " 15  Programmaduur wassen                            105 non-null    object \n",
      " 16  Inhoud trommel                                  157 non-null    float64\n",
      " 17  size                                            157 non-null    float64\n",
      " 18  all_properties                                  157 non-null    int64  \n",
      "dtypes: float64(8), int64(3), object(8)\n",
      "memory usage: 23.4+ KB\n"
     ]
    }
   ],
   "source": [
    "#dropping the properties because we dont need those columns anymore\n",
    "list_of_properties = [\"Koude was\", \"Spoelstop\", \"Stoomfunctie\", \"Antikreukfunctie\", \n",
    "                      \"Automatische dosering\", \"Beladingsherkenning\", \"Vuilherkenning\", \n",
    "                      \"Balanscontrole\", \"Kinderbeveiliging\", \"Binnenverlichting\", \"Te verbinden met app\", \n",
    "                      \"Koolborstelloze motor\", \"Afneembaar werkblad\", \"Verstelbare poten\", \"Overstroombeveiliging\", \n",
    "                      \"Instelbare starttijd\"]\n",
    "for i in list_of_properties:\n",
    "    df.drop(i,inplace=True,axis=1)\n",
    "    \n",
    "df.info()"
   ]
  },
  {
   "cell_type": "code",
   "execution_count": 1228,
   "metadata": {
    "scrolled": true
   },
   "outputs": [
    {
     "data": {
      "text/plain": [
       "Wasmachine                148\n",
       "Was-droogcombinatie         7\n",
       "Vrijstaande wasmachine      1\n",
       "Wasser/droger               1\n",
       "Name: Type apparaat, dtype: int64"
      ]
     },
     "execution_count": 1228,
     "metadata": {},
     "output_type": "execute_result"
    }
   ],
   "source": [
    "df[\"Type apparaat\"].value_counts()"
   ]
  },
  {
   "cell_type": "code",
   "execution_count": 1229,
   "metadata": {},
   "outputs": [],
   "source": [
    "df[\"Type apparaat\"] = df[\"Type apparaat\"].apply(lambda x: \"Was-droogcombinatie\" if x == \"Wasser/droger\" else x)"
   ]
  },
  {
   "cell_type": "code",
   "execution_count": 1230,
   "metadata": {},
   "outputs": [
    {
     "data": {
      "text/plain": [
       "Wasmachine                148\n",
       "Was-droogcombinatie         8\n",
       "Vrijstaande wasmachine      1\n",
       "Name: Type apparaat, dtype: int64"
      ]
     },
     "execution_count": 1230,
     "metadata": {},
     "output_type": "execute_result"
    }
   ],
   "source": [
    "df[\"Type apparaat\"].value_counts()"
   ]
  },
  {
   "cell_type": "code",
   "execution_count": 1231,
   "metadata": {},
   "outputs": [
    {
     "data": {
      "text/plain": [
       "Roestvrij staal         88\n",
       "Inox                    37\n",
       "Kunststof               18\n",
       "RVS                      4\n",
       "Roestvrijstaal           3\n",
       "INOX                     2\n",
       "Roestvaststaal (RVS)     1\n",
       "waveTrommel              1\n",
       "Roestvaststaal           1\n",
       "Name: Trommelmateriaal, dtype: int64"
      ]
     },
     "execution_count": 1231,
     "metadata": {},
     "output_type": "execute_result"
    }
   ],
   "source": [
    "df[\"Trommelmateriaal\"].value_counts()"
   ]
  },
  {
   "cell_type": "code",
   "execution_count": 1232,
   "metadata": {},
   "outputs": [],
   "source": [
    "df[\"Trommelmateriaal\"] = df[\"Trommelmateriaal\"].apply(lambda x: \"Inox\" if x != \"Kunststof\" else x)"
   ]
  },
  {
   "cell_type": "code",
   "execution_count": 1233,
   "metadata": {},
   "outputs": [
    {
     "data": {
      "text/plain": [
       "Inox         139\n",
       "Kunststof     18\n",
       "Name: Trommelmateriaal, dtype: int64"
      ]
     },
     "execution_count": 1233,
     "metadata": {},
     "output_type": "execute_result"
    }
   ],
   "source": [
    "df[\"Trommelmateriaal\"].value_counts()"
   ]
  },
  {
   "cell_type": "code",
   "execution_count": 1234,
   "metadata": {},
   "outputs": [
    {
     "data": {
      "text/plain": [
       "2.0     155\n",
       "10.0      2\n",
       "Name: Fabrieksgarantie, dtype: int64"
      ]
     },
     "execution_count": 1234,
     "metadata": {},
     "output_type": "execute_result"
    }
   ],
   "source": [
    "df[\"Fabrieksgarantie\"].value_counts()"
   ]
  },
  {
   "cell_type": "code",
   "execution_count": 1235,
   "metadata": {},
   "outputs": [
    {
     "name": "stdout",
     "output_type": "stream",
     "text": [
      "<class 'pandas.core.frame.DataFrame'>\n",
      "RangeIndex: 157 entries, 0 to 156\n",
      "Data columns (total 19 columns):\n",
      " #   Column                                          Non-Null Count  Dtype  \n",
      "---  ------                                          --------------  -----  \n",
      " 0   Unnamed: 0                                      157 non-null    int64  \n",
      " 1   Brand                                           157 non-null    object \n",
      " 2   Price                                           157 non-null    int64  \n",
      " 3   Vulgewicht wassen                               157 non-null    float64\n",
      " 4   Type apparaat                                   157 non-null    object \n",
      " 5   Type belading                                   157 non-null    object \n",
      " 6   Volume centrifugeren                            157 non-null    float64\n",
      " 7   Aantal programma’s                              157 non-null    float64\n",
      " 8   Trommelmateriaal                                157 non-null    object \n",
      " 9   Kleur (basic)                                   157 non-null    object \n",
      " 10  Fabrieksgarantie                                157 non-null    float64\n",
      " 11  Energie-efficiëntieklasse (EU 2017/1369)        146 non-null    object \n",
      " 12  EU Energy Efficiency Scale (EU 2017/1369)       141 non-null    object \n",
      " 13  Energieverbruik per 100 cycli                   157 non-null    float64\n",
      " 14  Aantal toeren per minuut (nominale capaciteit)  157 non-null    float64\n",
      " 15  Programmaduur wassen                            105 non-null    object \n",
      " 16  Inhoud trommel                                  157 non-null    float64\n",
      " 17  size                                            157 non-null    float64\n",
      " 18  all_properties                                  157 non-null    int64  \n",
      "dtypes: float64(8), int64(3), object(8)\n",
      "memory usage: 23.4+ KB\n"
     ]
    }
   ],
   "source": [
    "df.info()"
   ]
  },
  {
   "cell_type": "code",
   "execution_count": 1236,
   "metadata": {},
   "outputs": [
    {
     "data": {
      "text/plain": [
       "A    61\n",
       "C    34\n",
       "B    22\n",
       "D    17\n",
       "E    11\n",
       "F     1\n",
       "Name: Energie-efficiëntieklasse (EU 2017/1369), dtype: int64"
      ]
     },
     "execution_count": 1236,
     "metadata": {},
     "output_type": "execute_result"
    }
   ],
   "source": [
    "df[\"Energie-efficiëntieklasse (EU 2017/1369)\"].value_counts()"
   ]
  },
  {
   "cell_type": "code",
   "execution_count": 1237,
   "metadata": {},
   "outputs": [
    {
     "data": {
      "text/plain": [
       "A-G    141\n",
       "Name: EU Energy Efficiency Scale (EU 2017/1369), dtype: int64"
      ]
     },
     "execution_count": 1237,
     "metadata": {},
     "output_type": "execute_result"
    }
   ],
   "source": [
    "df[\"EU Energy Efficiency Scale (EU 2017/1369)\"].value_counts()"
   ]
  },
  {
   "cell_type": "code",
   "execution_count": 1238,
   "metadata": {},
   "outputs": [],
   "source": [
    "df.drop(\"EU Energy Efficiency Scale (EU 2017/1369)\",inplace=True,axis=1)"
   ]
  },
  {
   "cell_type": "code",
   "execution_count": 1239,
   "metadata": {},
   "outputs": [],
   "source": [
    "#def get_dummies_(text):\n",
    " #   text = text.strip()\n",
    "  #  if np.isnan(text) or text == \"Nee\":\n",
    "   #     return 0\n",
    "    #else:\n",
    "     #   return 1"
   ]
  },
  {
   "cell_type": "code",
   "execution_count": 1240,
   "metadata": {},
   "outputs": [
    {
     "name": "stdout",
     "output_type": "stream",
     "text": [
      "<class 'pandas.core.frame.DataFrame'>\n",
      "RangeIndex: 157 entries, 0 to 156\n",
      "Data columns (total 18 columns):\n",
      " #   Column                                          Non-Null Count  Dtype  \n",
      "---  ------                                          --------------  -----  \n",
      " 0   Unnamed: 0                                      157 non-null    int64  \n",
      " 1   Brand                                           157 non-null    object \n",
      " 2   Price                                           157 non-null    int64  \n",
      " 3   Vulgewicht wassen                               157 non-null    float64\n",
      " 4   Type apparaat                                   157 non-null    object \n",
      " 5   Type belading                                   157 non-null    object \n",
      " 6   Volume centrifugeren                            157 non-null    float64\n",
      " 7   Aantal programma’s                              157 non-null    float64\n",
      " 8   Trommelmateriaal                                157 non-null    object \n",
      " 9   Kleur (basic)                                   157 non-null    object \n",
      " 10  Fabrieksgarantie                                157 non-null    float64\n",
      " 11  Energie-efficiëntieklasse (EU 2017/1369)        146 non-null    object \n",
      " 12  Energieverbruik per 100 cycli                   157 non-null    float64\n",
      " 13  Aantal toeren per minuut (nominale capaciteit)  157 non-null    float64\n",
      " 14  Programmaduur wassen                            105 non-null    object \n",
      " 15  Inhoud trommel                                  157 non-null    float64\n",
      " 16  size                                            157 non-null    float64\n",
      " 17  all_properties                                  157 non-null    int64  \n",
      "dtypes: float64(8), int64(3), object(7)\n",
      "memory usage: 22.2+ KB\n"
     ]
    }
   ],
   "source": [
    "df.info()"
   ]
  },
  {
   "cell_type": "code",
   "execution_count": 1241,
   "metadata": {},
   "outputs": [],
   "source": [
    "df_energy_nan = df[pd.isnull(df[\"Energie-efficiëntieklasse (EU 2017/1369)\"])]"
   ]
  },
  {
   "cell_type": "code",
   "execution_count": 1242,
   "metadata": {},
   "outputs": [
    {
     "name": "stdout",
     "output_type": "stream",
     "text": [
      "<class 'pandas.core.frame.DataFrame'>\n",
      "RangeIndex: 157 entries, 0 to 156\n",
      "Data columns (total 18 columns):\n",
      " #   Column                                          Non-Null Count  Dtype  \n",
      "---  ------                                          --------------  -----  \n",
      " 0   Unnamed: 0                                      157 non-null    int64  \n",
      " 1   Brand                                           157 non-null    object \n",
      " 2   Price                                           157 non-null    int64  \n",
      " 3   Vulgewicht wassen                               157 non-null    float64\n",
      " 4   Type apparaat                                   157 non-null    object \n",
      " 5   Type belading                                   157 non-null    object \n",
      " 6   Volume centrifugeren                            157 non-null    float64\n",
      " 7   Aantal programma’s                              157 non-null    float64\n",
      " 8   Trommelmateriaal                                157 non-null    object \n",
      " 9   Kleur (basic)                                   157 non-null    object \n",
      " 10  Fabrieksgarantie                                157 non-null    float64\n",
      " 11  Energie-efficiëntieklasse (EU 2017/1369)        146 non-null    object \n",
      " 12  Energieverbruik per 100 cycli                   157 non-null    float64\n",
      " 13  Aantal toeren per minuut (nominale capaciteit)  157 non-null    float64\n",
      " 14  Programmaduur wassen                            105 non-null    object \n",
      " 15  Inhoud trommel                                  157 non-null    float64\n",
      " 16  size                                            157 non-null    float64\n",
      " 17  all_properties                                  157 non-null    int64  \n",
      "dtypes: float64(8), int64(3), object(7)\n",
      "memory usage: 22.2+ KB\n"
     ]
    }
   ],
   "source": [
    "df.info()"
   ]
  },
  {
   "cell_type": "code",
   "execution_count": 1243,
   "metadata": {},
   "outputs": [
    {
     "data": {
      "text/plain": [
       "03:38    10\n",
       "03:37     9\n",
       "03:20     9\n",
       "03:48     6\n",
       "03:47     5\n",
       "3:40      5\n",
       "03:19     5\n",
       "03:29     4\n",
       "03:25     3\n",
       "03:44     3\n",
       "3:59      3\n",
       "03:58     3\n",
       "03:30     3\n",
       "3:25      3\n",
       "03:35     3\n",
       "03:40     3\n",
       "03:39     2\n",
       "03:27     2\n",
       "3:48      2\n",
       "3:30      2\n",
       "03:09     2\n",
       "04:00     1\n",
       "02:40     1\n",
       "03:59     1\n",
       "03:28     1\n",
       "01:45     1\n",
       "4:00      1\n",
       "3:38      1\n",
       "3:20      1\n",
       "02:05     1\n",
       "03:08     1\n",
       "02:59     1\n",
       "3:50      1\n",
       "03:55     1\n",
       "02:48     1\n",
       "03:06     1\n",
       "3:37      1\n",
       "02:10     1\n",
       "1:13      1\n",
       "Name: Programmaduur wassen, dtype: int64"
      ]
     },
     "execution_count": 1243,
     "metadata": {},
     "output_type": "execute_result"
    }
   ],
   "source": [
    "df[\"Programmaduur wassen\"].value_counts()"
   ]
  },
  {
   "cell_type": "code",
   "execution_count": 1244,
   "metadata": {},
   "outputs": [],
   "source": [
    "from datetime import datetime\n",
    "def calculating_hour_to_minutes(date_time_str):\n",
    "    date_time_obj = datetime.strptime(date_time_str, '%H:%M')\n",
    "    value = float(date_time_obj.hour)*60+float(date_time_obj.minute)\n",
    "    return value\n",
    "df['Programmaduur wassen'] = df['Programmaduur wassen'].apply(lambda x : 210 if pd.isnull(x) else calculating_hour_to_minutes(str(x)))"
   ]
  },
  {
   "cell_type": "code",
   "execution_count": 1245,
   "metadata": {},
   "outputs": [
    {
     "data": {
      "text/plain": [
       "210.0    57\n",
       "218.0    11\n",
       "217.0    10\n",
       "200.0    10\n",
       "228.0     8\n",
       "220.0     8\n",
       "205.0     6\n",
       "227.0     5\n",
       "199.0     5\n",
       "209.0     4\n",
       "239.0     4\n",
       "224.0     3\n",
       "215.0     3\n",
       "238.0     3\n",
       "240.0     2\n",
       "207.0     2\n",
       "219.0     2\n",
       "189.0     2\n",
       "230.0     1\n",
       "235.0     1\n",
       "179.0     1\n",
       "188.0     1\n",
       "73.0      1\n",
       "125.0     1\n",
       "186.0     1\n",
       "130.0     1\n",
       "105.0     1\n",
       "208.0     1\n",
       "160.0     1\n",
       "168.0     1\n",
       "Name: Programmaduur wassen, dtype: int64"
      ]
     },
     "execution_count": 1245,
     "metadata": {},
     "output_type": "execute_result"
    }
   ],
   "source": [
    "df['Programmaduur wassen'].value_counts()"
   ]
  },
  {
   "cell_type": "code",
   "execution_count": 1246,
   "metadata": {},
   "outputs": [
    {
     "name": "stdout",
     "output_type": "stream",
     "text": [
      "<class 'pandas.core.frame.DataFrame'>\n",
      "RangeIndex: 157 entries, 0 to 156\n",
      "Data columns (total 18 columns):\n",
      " #   Column                                          Non-Null Count  Dtype  \n",
      "---  ------                                          --------------  -----  \n",
      " 0   Unnamed: 0                                      157 non-null    int64  \n",
      " 1   Brand                                           157 non-null    object \n",
      " 2   Price                                           157 non-null    int64  \n",
      " 3   Vulgewicht wassen                               157 non-null    float64\n",
      " 4   Type apparaat                                   157 non-null    object \n",
      " 5   Type belading                                   157 non-null    object \n",
      " 6   Volume centrifugeren                            157 non-null    float64\n",
      " 7   Aantal programma’s                              157 non-null    float64\n",
      " 8   Trommelmateriaal                                157 non-null    object \n",
      " 9   Kleur (basic)                                   157 non-null    object \n",
      " 10  Fabrieksgarantie                                157 non-null    float64\n",
      " 11  Energie-efficiëntieklasse (EU 2017/1369)        146 non-null    object \n",
      " 12  Energieverbruik per 100 cycli                   157 non-null    float64\n",
      " 13  Aantal toeren per minuut (nominale capaciteit)  157 non-null    float64\n",
      " 14  Programmaduur wassen                            157 non-null    float64\n",
      " 15  Inhoud trommel                                  157 non-null    float64\n",
      " 16  size                                            157 non-null    float64\n",
      " 17  all_properties                                  157 non-null    int64  \n",
      "dtypes: float64(9), int64(3), object(6)\n",
      "memory usage: 22.2+ KB\n"
     ]
    }
   ],
   "source": [
    "df.info()"
   ]
  },
  {
   "cell_type": "code",
   "execution_count": 1247,
   "metadata": {},
   "outputs": [
    {
     "data": {
      "text/plain": [
       "Voorlader     151\n",
       "Bovenlader      6\n",
       "Name: Type belading, dtype: int64"
      ]
     },
     "execution_count": 1247,
     "metadata": {},
     "output_type": "execute_result"
    }
   ],
   "source": [
    "df[\"Type belading\"].value_counts()"
   ]
  },
  {
   "cell_type": "code",
   "execution_count": 1248,
   "metadata": {},
   "outputs": [],
   "source": [
    "df = pd.get_dummies(df, columns = [\"Type apparaat\", \"Type belading\", \"Trommelmateriaal\", \"Kleur (basic)\",\"Energie-efficiëntieklasse (EU 2017/1369)\",\"Brand\"], drop_first = True)"
   ]
  },
  {
   "cell_type": "code",
   "execution_count": 1249,
   "metadata": {},
   "outputs": [],
   "source": [
    "df = df.dropna()"
   ]
  },
  {
   "cell_type": "code",
   "execution_count": 1250,
   "metadata": {},
   "outputs": [],
   "source": [
    "df.drop(\"Inhoud trommel\",inplace=True,axis=1)"
   ]
  },
  {
   "cell_type": "code",
   "execution_count": 1259,
   "metadata": {},
   "outputs": [
    {
     "name": "stdout",
     "output_type": "stream",
     "text": [
      "<class 'pandas.core.frame.DataFrame'>\n",
      "Int64Index: 157 entries, 0 to 156\n",
      "Data columns (total 35 columns):\n",
      " #   Column                                          Non-Null Count  Dtype  \n",
      "---  ------                                          --------------  -----  \n",
      " 0   Unnamed: 0                                      157 non-null    float64\n",
      " 1   Price                                           157 non-null    float64\n",
      " 2   Vulgewicht wassen                               157 non-null    float64\n",
      " 3   Volume centrifugeren                            157 non-null    float64\n",
      " 4   Aantal programma’s                              157 non-null    float64\n",
      " 5   Fabrieksgarantie                                157 non-null    float64\n",
      " 6   Energieverbruik per 100 cycli                   157 non-null    float64\n",
      " 7   Aantal toeren per minuut (nominale capaciteit)  157 non-null    float64\n",
      " 8   Programmaduur wassen                            157 non-null    float64\n",
      " 9   size                                            157 non-null    float64\n",
      " 10  all_properties                                  157 non-null    float64\n",
      " 11  Type apparaat_Was-droogcombinatie               157 non-null    float64\n",
      " 12  Type apparaat_Wasmachine                        157 non-null    float64\n",
      " 13  Type belading_Voorlader                         157 non-null    float64\n",
      " 14  Trommelmateriaal_Kunststof                      157 non-null    float64\n",
      " 15  Kleur (basic)_Wit                               157 non-null    float64\n",
      " 16  Kleur (basic)_Zwart                             157 non-null    float64\n",
      " 17  Energie-efficiëntieklasse (EU 2017/1369)_B      157 non-null    float64\n",
      " 18  Energie-efficiëntieklasse (EU 2017/1369)_C      157 non-null    float64\n",
      " 19  Energie-efficiëntieklasse (EU 2017/1369)_D      157 non-null    float64\n",
      " 20  Energie-efficiëntieklasse (EU 2017/1369)_E      157 non-null    float64\n",
      " 21  Energie-efficiëntieklasse (EU 2017/1369)_F      157 non-null    float64\n",
      " 22  Brand_BEKO                                      157 non-null    float64\n",
      " 23  Brand_BOSCH                                     157 non-null    float64\n",
      " 24  Brand_EVERGLADES                                157 non-null    float64\n",
      " 25  Brand_HAIER                                     157 non-null    float64\n",
      " 26  Brand_INVENTUM                                  157 non-null    float64\n",
      " 27  Brand_KOENIC                                    157 non-null    float64\n",
      " 28  Brand_LG                                        157 non-null    float64\n",
      " 29  Brand_MIELE                                     157 non-null    float64\n",
      " 30  Brand_OK.                                       157 non-null    float64\n",
      " 31  Brand_SAMSUNG                                   157 non-null    float64\n",
      " 32  Brand_SHARP                                     157 non-null    float64\n",
      " 33  Brand_SIEMENS                                   157 non-null    float64\n",
      " 34  Brand_WHIRLPOOL                                 157 non-null    float64\n",
      "dtypes: float64(35)\n",
      "memory usage: 44.2 KB\n"
     ]
    }
   ],
   "source": [
    "df.info()"
   ]
  },
  {
   "cell_type": "code",
   "execution_count": 1252,
   "metadata": {},
   "outputs": [],
   "source": [
    "df = df.astype(\"float\")"
   ]
  },
  {
   "cell_type": "code",
   "execution_count": 1253,
   "metadata": {},
   "outputs": [
    {
     "name": "stdout",
     "output_type": "stream",
     "text": [
      "<class 'pandas.core.frame.DataFrame'>\n",
      "Int64Index: 157 entries, 0 to 156\n",
      "Data columns (total 35 columns):\n",
      " #   Column                                          Non-Null Count  Dtype  \n",
      "---  ------                                          --------------  -----  \n",
      " 0   Unnamed: 0                                      157 non-null    float64\n",
      " 1   Price                                           157 non-null    float64\n",
      " 2   Vulgewicht wassen                               157 non-null    float64\n",
      " 3   Volume centrifugeren                            157 non-null    float64\n",
      " 4   Aantal programma’s                              157 non-null    float64\n",
      " 5   Fabrieksgarantie                                157 non-null    float64\n",
      " 6   Energieverbruik per 100 cycli                   157 non-null    float64\n",
      " 7   Aantal toeren per minuut (nominale capaciteit)  157 non-null    float64\n",
      " 8   Programmaduur wassen                            157 non-null    float64\n",
      " 9   size                                            157 non-null    float64\n",
      " 10  all_properties                                  157 non-null    float64\n",
      " 11  Type apparaat_Was-droogcombinatie               157 non-null    float64\n",
      " 12  Type apparaat_Wasmachine                        157 non-null    float64\n",
      " 13  Type belading_Voorlader                         157 non-null    float64\n",
      " 14  Trommelmateriaal_Kunststof                      157 non-null    float64\n",
      " 15  Kleur (basic)_Wit                               157 non-null    float64\n",
      " 16  Kleur (basic)_Zwart                             157 non-null    float64\n",
      " 17  Energie-efficiëntieklasse (EU 2017/1369)_B      157 non-null    float64\n",
      " 18  Energie-efficiëntieklasse (EU 2017/1369)_C      157 non-null    float64\n",
      " 19  Energie-efficiëntieklasse (EU 2017/1369)_D      157 non-null    float64\n",
      " 20  Energie-efficiëntieklasse (EU 2017/1369)_E      157 non-null    float64\n",
      " 21  Energie-efficiëntieklasse (EU 2017/1369)_F      157 non-null    float64\n",
      " 22  Brand_BEKO                                      157 non-null    float64\n",
      " 23  Brand_BOSCH                                     157 non-null    float64\n",
      " 24  Brand_EVERGLADES                                157 non-null    float64\n",
      " 25  Brand_HAIER                                     157 non-null    float64\n",
      " 26  Brand_INVENTUM                                  157 non-null    float64\n",
      " 27  Brand_KOENIC                                    157 non-null    float64\n",
      " 28  Brand_LG                                        157 non-null    float64\n",
      " 29  Brand_MIELE                                     157 non-null    float64\n",
      " 30  Brand_OK.                                       157 non-null    float64\n",
      " 31  Brand_SAMSUNG                                   157 non-null    float64\n",
      " 32  Brand_SHARP                                     157 non-null    float64\n",
      " 33  Brand_SIEMENS                                   157 non-null    float64\n",
      " 34  Brand_WHIRLPOOL                                 157 non-null    float64\n",
      "dtypes: float64(35)\n",
      "memory usage: 44.2 KB\n"
     ]
    }
   ],
   "source": [
    "df.info()"
   ]
  },
  {
   "cell_type": "code",
   "execution_count": 1260,
   "metadata": {},
   "outputs": [],
   "source": [
    "df.to_csv(\"Media_Markt_Float_Values.csv\")"
   ]
  }
 ],
 "metadata": {
  "kernelspec": {
   "display_name": "Python 3 (ipykernel)",
   "language": "python",
   "name": "python3"
  },
  "language_info": {
   "codemirror_mode": {
    "name": "ipython",
    "version": 3
   },
   "file_extension": ".py",
   "mimetype": "text/x-python",
   "name": "python",
   "nbconvert_exporter": "python",
   "pygments_lexer": "ipython3",
   "version": "3.9.7"
  }
 },
 "nbformat": 4,
 "nbformat_minor": 4
}
