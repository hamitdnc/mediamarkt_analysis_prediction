{
 "cells": [
  {
   "cell_type": "code",
   "execution_count": 56,
   "id": "115283ec",
   "metadata": {},
   "outputs": [],
   "source": [
    "from bs4 import BeautifulSoup\n",
    "import requests\n",
    "import time, os\n",
    "import re\n",
    "from selenium import webdriver\n",
    "from selenium.webdriver.common.keys import Keys\n",
    "from selenium.webdriver.common.by import By\n",
    "import warnings\n",
    "warnings.filterwarnings(action='ignore')\n",
    "from selenium.webdriver.support.ui import WebDriverWait\n",
    "from selenium.webdriver.common.by import By\n",
    "from selenium.webdriver.support.ui import WebDriverWait\n",
    "from selenium.webdriver.support import expected_conditions as EC"
   ]
  },
  {
   "cell_type": "code",
   "execution_count": 57,
   "id": "061bd53a",
   "metadata": {},
   "outputs": [],
   "source": [
    "# Folder path should be where you downloaded your chromedriver.exe file\n",
    "chromedriver = r\"C:/Users/Hamit_DNCAcc/DSMay22/Project2_Selenium/chromedriver.exe\"\n",
    "url = r\"https://www.mediamarkt.nl/\"\n",
    "os.environ[\"webdriver.chrome.driver\"] = chromedriver"
   ]
  },
  {
   "cell_type": "code",
   "execution_count": 58,
   "id": "71b52d78",
   "metadata": {},
   "outputs": [],
   "source": [
    "links = {\"search_word\":\"wasmachines\"}"
   ]
  },
  {
   "cell_type": "code",
   "execution_count": 59,
   "id": "e9aee97d",
   "metadata": {},
   "outputs": [],
   "source": [
    "driver = webdriver.Chrome(chromedriver)\n",
    "driver.get(url)\n",
    "#def open_a_website_with_url(chromedriver,url):"
   ]
  },
  {
   "cell_type": "code",
   "execution_count": 60,
   "id": "62a39230",
   "metadata": {},
   "outputs": [],
   "source": [
    "#Selenium functions\n",
    "def search_via_xpath(xpath,search_word):\n",
    "    # Search Bar XPATH\n",
    "    search_box = driver.find_element(By.XPATH, xpath)\n",
    "\n",
    "    search_box.clear()\n",
    "\n",
    "    search_box.send_keys(search_word)\n",
    "\n",
    "    search_box.send_keys(Keys.RETURN)\n",
    "    \n",
    "def click_via_css(css_selector):\n",
    "    click = driver.find_element(By.CSS_SELECTOR, css_selector)\n",
    "    click.click()\n",
    "\n",
    "def click_via_xpath(xpath_selector):\n",
    "    click = driver.find_element(By.XPATH, xpath_selector)\n",
    "    click.click()\n",
    "\n",
    "def find_elementexist_via_css_selector(css_selector):\n",
    "    try:\n",
    "        driver.find_element(By.CSS_SELECTOR, css_selector)\n",
    "        print(\"element found\")\n",
    "        return 1\n",
    "    except:\n",
    "        print(\"element not found\")\n",
    "        return 0\n",
    "\n",
    "def full_screen():\n",
    "    driver.maximize_window()\n",
    "    \n",
    "def get_text_css_selector(css_selector):\n",
    "    search_box = driver.find_element(By.CSS_SELECTOR, css_selector)\n",
    "    return search_box.text\n",
    "\n",
    "def scroll_down_web_page(number_of_scroll):\n",
    "    scroll_counter = 0\n",
    "    \n",
    "    SCROLL_PAUSE_TIME = 1.0\n",
    "    #https://stackoverflow.com/questions/20986631/how-can-i-scroll-a-web-page-using-selenium-webdriver-in-python\n",
    "    # Get scroll height\n",
    "    last_height = driver.execute_script(\"return document.body.scrollHeight\")\n",
    "\n",
    "    while scroll_counter<number_of_scroll:\n",
    "        scroll_counter = scroll_counter+1\n",
    "        # Scroll down to bottom\n",
    "        driver.execute_script(\"window.scrollTo(0, document.body.scrollHeight);\")\n",
    "\n",
    "        # Wait to load page\n",
    "        time.sleep(SCROLL_PAUSE_TIME)\n",
    "\n",
    "        # Calculate new scroll height and compare with last scroll height\n",
    "        new_height = driver.execute_script(\"return document.body.scrollHeight\")\n",
    "        if new_height == last_height:\n",
    "            break\n",
    "        last_height = new_height"
   ]
  },
  {
   "cell_type": "code",
   "execution_count": 61,
   "id": "bda6bf99",
   "metadata": {},
   "outputs": [],
   "source": [
    "#General functions\n",
    "def get_numbers_by_regex(text):\n",
    "    text = text.strip(\"(\")\n",
    "    text = text.strip(\")\")\n",
    "    text = re.findall(r'\\d+',text)\n",
    "    return int(text[0])       "
   ]
  },
  {
   "cell_type": "code",
   "execution_count": 62,
   "id": "597918cc",
   "metadata": {},
   "outputs": [],
   "source": [
    "full_screen()"
   ]
  },
  {
   "cell_type": "code",
   "execution_count": 64,
   "id": "2c4ff156",
   "metadata": {},
   "outputs": [
    {
     "name": "stdout",
     "output_type": "stream",
     "text": [
      "element not found\n",
      "element not found\n",
      "element not found\n",
      "element not found\n",
      "element not found\n"
     ]
    }
   ],
   "source": [
    "for count in range(0,5):\n",
    "    cookie_exist = find_elementexist_via_css_selector(\"#pwa-consent-layer-accept-all-button\")\n",
    "    if cookie_exist:\n",
    "        click_cookie = click_via_css(\"#pwa-consent-layer-accept-all-button\")\n",
    "        click_cookie\n",
    "        break\n",
    "    time.sleep(1)"
   ]
  },
  {
   "cell_type": "code",
   "execution_count": 65,
   "id": "728967e6",
   "metadata": {},
   "outputs": [],
   "source": [
    "search_via_xpath(\"/html/body/div[1]/div[3]/div[1]/div[2]/header/div/div[1]/div[3]/div/div/div[1]/input\",\"wasmachine\")"
   ]
  },
  {
   "cell_type": "code",
   "execution_count": 66,
   "id": "0b1fd03d",
   "metadata": {},
   "outputs": [],
   "source": [
    "full_screen()"
   ]
  },
  {
   "cell_type": "code",
   "execution_count": 67,
   "id": "488f5851",
   "metadata": {},
   "outputs": [],
   "source": [
    "text = get_text_css_selector(\"#mms-app-root > main > div.StyledGrid-fs0zc2-0.hnyHws > div > div.StyledCell-sc-1wk5bje-0.inOEaY > div.StyledHead-h0srjn-0.cEAsIb > div.StyledHeadline-h0srjn-3.dOSxNU > div > span\")"
   ]
  },
  {
   "cell_type": "code",
   "execution_count": 68,
   "id": "f8ce17d2",
   "metadata": {},
   "outputs": [
    {
     "data": {
      "text/plain": [
       "168"
      ]
     },
     "execution_count": 68,
     "metadata": {},
     "output_type": "execute_result"
    }
   ],
   "source": [
    "number_of_scroll = get_numbers_by_regex(text)\n",
    "number_of_scroll"
   ]
  },
  {
   "cell_type": "code",
   "execution_count": 70,
   "id": "72e90d3e",
   "metadata": {},
   "outputs": [
    {
     "name": "stdout",
     "output_type": "stream",
     "text": [
      "element not found\n",
      "element not found\n",
      "element not found\n",
      "element not found\n",
      "element not found\n"
     ]
    }
   ],
   "source": [
    "for count in range(0,5):\n",
    "    cookie_exist = find_elementexist_via_css_selector(\"#mms-app-root > main > div.StyledGrid-fs0zc2-0.hnyHws > div > div.StyledCell-sc-1wk5bje-0.inOEaY > div.Paging-hvvgwa-0.dmRvCm > button\")\n",
    "    if cookie_exist:\n",
    "        click_cookie = click_via_css(\"#mms-app-root > main > div.StyledGrid-fs0zc2-0.hnyHws > div > div.StyledCell-sc-1wk5bje-0.inOEaY > div.Paging-hvvgwa-0.dmRvCm > button\")\n",
    "        click_cookie\n",
    "        break"
   ]
  },
  {
   "cell_type": "code",
   "execution_count": 71,
   "id": "4ee58c07",
   "metadata": {},
   "outputs": [
    {
     "data": {
      "text/plain": [
       "['https://www.mediamarkt.nl/nl/category/wasmachines-2.html?page=0',\n",
       " 'https://www.mediamarkt.nl/nl/category/wasmachines-2.html?page=1',\n",
       " 'https://www.mediamarkt.nl/nl/category/wasmachines-2.html?page=2',\n",
       " 'https://www.mediamarkt.nl/nl/category/wasmachines-2.html?page=3',\n",
       " 'https://www.mediamarkt.nl/nl/category/wasmachines-2.html?page=4',\n",
       " 'https://www.mediamarkt.nl/nl/category/wasmachines-2.html?page=5',\n",
       " 'https://www.mediamarkt.nl/nl/category/wasmachines-2.html?page=6',\n",
       " 'https://www.mediamarkt.nl/nl/category/wasmachines-2.html?page=7',\n",
       " 'https://www.mediamarkt.nl/nl/category/wasmachines-2.html?page=8',\n",
       " 'https://www.mediamarkt.nl/nl/category/wasmachines-2.html?page=9',\n",
       " 'https://www.mediamarkt.nl/nl/category/wasmachines-2.html?page=10',\n",
       " 'https://www.mediamarkt.nl/nl/category/wasmachines-2.html?page=11',\n",
       " 'https://www.mediamarkt.nl/nl/category/wasmachines-2.html?page=12',\n",
       " 'https://www.mediamarkt.nl/nl/category/wasmachines-2.html?page=13',\n",
       " 'https://www.mediamarkt.nl/nl/category/wasmachines-2.html?page=14',\n",
       " 'https://www.mediamarkt.nl/nl/category/wasmachines-2.html?page=15']"
      ]
     },
     "execution_count": 71,
     "metadata": {},
     "output_type": "execute_result"
    }
   ],
   "source": [
    "link_categories = []\n",
    "for num in range(0,int(number_of_scroll/10)):\n",
    "    link_categories.append(f\"https://www.mediamarkt.nl/nl/category/wasmachines-2.html?page={num}\")\n",
    "link_categories"
   ]
  },
  {
   "cell_type": "code",
   "execution_count": 72,
   "id": "91c2c91c",
   "metadata": {},
   "outputs": [],
   "source": [
    "links_product = []\n",
    "substring = \"product\"\n",
    "for cat in link_categories:\n",
    "    driver.get(cat)\n",
    "    time.sleep(5)\n",
    "    elems = driver.find_elements(By.XPATH,\"//a[@href]\")\n",
    "    for elem in elems:\n",
    "        if substring in elem.get_attribute(\"href\"):\n",
    "            links_product.append(elem.get_attribute(\"href\"))      "
   ]
  },
  {
   "cell_type": "code",
   "execution_count": 73,
   "id": "83ef3b53",
   "metadata": {},
   "outputs": [
    {
     "data": {
      "text/plain": [
       "['https://www.mediamarkt.nl/nl/product/_miele-wcd-330-wcs-powerwash-2-0-1654256.html',\n",
       " 'https://www.mediamarkt.nl/nl/product/_sharp-esnfb814cwabx-1721812.html',\n",
       " 'https://www.mediamarkt.nl/nl/product/_beko-wtv8814mmc1-1660890.html',\n",
       " 'https://www.mediamarkt.nl/nl/product/_siemens-wm14ut75nl-iq500-isensoric-1662130.html',\n",
       " 'https://www.mediamarkt.nl/nl/product/_bosch-wan28276nl-serie-4-ecosilence-dive-1662131.html',\n",
       " 'https://www.mediamarkt.nl/nl/product/_samsung-autodose-5000-serie-ww80t534aaw-1672437.html',\n",
       " 'https://www.mediamarkt.nl/nl/product/_beko-wtv8741bscdos1-1668828.html',\n",
       " 'https://www.mediamarkt.nl/nl/product/_ok-owm5126d-1689257.html',\n",
       " 'https://www.mediamarkt.nl/nl/product/_aeg-l8fens96ev-%C3%B6komix-universaldose-1712357.html',\n",
       " 'https://www.mediamarkt.nl/nl/product/_ok-owm7116e-1699170.html',\n",
       " 'https://www.mediamarkt.nl/nl/product/_koenic-kwm8136ainv-1718797.html',\n",
       " 'https://www.mediamarkt.nl/nl/product/_samsung-addwash-5000-serie-ww90t554aat-1672438.html',\n",
       " 'https://www.mediamarkt.nl/nl/product/_miele-wcd-330-wcs-powerwash-2-0-1654256.html',\n",
       " 'https://www.mediamarkt.nl/nl/product/_sharp-esnfb814cwabx-1721812.html',\n",
       " 'https://www.mediamarkt.nl/nl/product/_beko-wtv8814mmc1-1660890.html',\n",
       " 'https://www.mediamarkt.nl/nl/product/_siemens-wm14ut75nl-iq500-isensoric-1662130.html',\n",
       " 'https://www.mediamarkt.nl/nl/product/_bosch-wan28276nl-serie-4-ecosilence-dive-1662131.html',\n",
       " 'https://www.mediamarkt.nl/nl/product/_samsung-autodose-5000-serie-ww80t534aaw-1672437.html',\n",
       " 'https://www.mediamarkt.nl/nl/product/_beko-wtv8741bscdos1-1668828.html',\n",
       " 'https://www.mediamarkt.nl/nl/product/_ok-owm5126d-1689257.html',\n",
       " 'https://www.mediamarkt.nl/nl/product/_aeg-l8fens96ev-%C3%B6komix-universaldose-1712357.html',\n",
       " 'https://www.mediamarkt.nl/nl/product/_ok-owm7116e-1699170.html',\n",
       " 'https://www.mediamarkt.nl/nl/product/_koenic-kwm8136ainv-1718797.html',\n",
       " 'https://www.mediamarkt.nl/nl/product/_samsung-addwash-5000-serie-ww90t554aat-1672438.html',\n",
       " 'https://www.mediamarkt.nl/nl/product/_samsung-ecobubble-5000-serie-ww80ta049ah-1672435.html',\n",
       " 'https://www.mediamarkt.nl/nl/product/_samsung-addwash-6000-serie-ww10t654ale-1672440.html',\n",
       " 'https://www.mediamarkt.nl/nl/product/_samsung-ecobubble-5000-serie-ww90ta049ae-1672436.html',\n",
       " 'https://www.mediamarkt.nl/nl/product/_samsung-addwash-6000-serie-ww90t656ale-1672439.html',\n",
       " 'https://www.mediamarkt.nl/nl/product/_sharp-esnfa814bwbbx-1719051.html',\n",
       " 'https://www.mediamarkt.nl/nl/product/_miele-ww-610-wcs-1675716.html',\n",
       " 'https://www.mediamarkt.nl/nl/product/_aeg-l7fens96e-1701767.html',\n",
       " 'https://www.mediamarkt.nl/nl/product/_miele-wca-030-wcs-1683822.html',\n",
       " 'https://www.mediamarkt.nl/nl/product/_beko-wtv7714mm1-1675205.html',\n",
       " 'https://www.mediamarkt.nl/nl/product/_aeg-l6fb84m-prosense-1701768.html',\n",
       " 'https://www.mediamarkt.nl/nl/product/_siemens-wm14n075nl-1664420.html',\n",
       " 'https://www.mediamarkt.nl/nl/product/_miele-wcg-670-wcs-twindos-1654259.html',\n",
       " 'https://www.mediamarkt.nl/nl/product/_haier-hw90-b14959u1-1699520.html',\n",
       " 'https://www.mediamarkt.nl/nl/product/_aeg-l6fbn9eco-prosense-1714457.html',\n",
       " 'https://www.mediamarkt.nl/nl/product/_samsung-ecobubble-5000-serie-ww71ta049te-1672434.html',\n",
       " 'https://www.mediamarkt.nl/nl/product/_beko-wtv8716xwwst-1731917.html',\n",
       " 'https://www.mediamarkt.nl/nl/product/_bosch-wau28s70nl-1662135.html',\n",
       " 'https://www.mediamarkt.nl/nl/product/_samsung-quickdrive-8000-serie-ww90t986ase-1672445.html',\n",
       " 'https://www.mediamarkt.nl/nl/product/_samsung-autodose-6000-serie-ww80t634alh-1672795.html',\n",
       " 'https://www.mediamarkt.nl/nl/product/_samsung-quickdrive-7000-serie-ww90t734awh-1672442.html',\n",
       " 'https://www.mediamarkt.nl/nl/product/_samsung-quickdrive-7000-serie-wd10t754abt-1672470.html',\n",
       " 'https://www.mediamarkt.nl/nl/product/_samsung-quickdrive-7000-serie-ww10t754abt-1672443.html',\n",
       " 'https://www.mediamarkt.nl/nl/product/_lg-f4wv708s0e-ai-dd-1701538.html',\n",
       " 'https://www.mediamarkt.nl/nl/product/_miele-wcg-370-wcs-powerwash-2-0-1654258.html',\n",
       " 'https://www.mediamarkt.nl/nl/product/_samsung-ecobubble-5000-serie-wd80ta049be-1672467.html',\n",
       " 'https://www.mediamarkt.nl/nl/product/_aeg-l7wb86gw-dualsense-1521672.html',\n",
       " 'https://www.mediamarkt.nl/nl/product/_whirlpool-tdlr-7221bs-bx-n-1681025.html',\n",
       " 'https://www.mediamarkt.nl/nl/product/_aeg-l6fbnauto-prosense-1714455.html',\n",
       " 'https://www.mediamarkt.nl/nl/product/_haier-hw80-b14959u1-1699519.html',\n",
       " 'https://www.mediamarkt.nl/nl/product/_bosch-wgg24405nl-serie-6-activewater-plus-1721615.html',\n",
       " 'https://www.mediamarkt.nl/nl/product/_bosch-wau28p75nl-1669902.html',\n",
       " 'https://www.mediamarkt.nl/nl/product/_beko-wtv8740a1-1706914.html',\n",
       " 'https://www.mediamarkt.nl/nl/product/_bosch-wau28r75nl-serie-6-activewater-plus-1669903.html',\n",
       " 'https://www.mediamarkt.nl/nl/product/_miele-wcr-770-wps-1585078.html',\n",
       " 'https://www.mediamarkt.nl/nl/product/_aeg-l6fb86mv-1705422.html',\n",
       " 'https://www.mediamarkt.nl/nl/product/_bosch-wau28u00nl-serie-6-activewater-plus-1679510.html',\n",
       " 'https://www.mediamarkt.nl/nl/product/_inventum-vwm9001b-1716428.html',\n",
       " 'https://www.mediamarkt.nl/nl/product/_lg-f4wv308s4b-ai-dd-1722169.html',\n",
       " 'https://www.mediamarkt.nl/nl/product/_samsung-autodose-6000-serie-wd80t634abh-1672468.html',\n",
       " 'https://www.mediamarkt.nl/nl/product/_siemens-wm14us70nl-iq500-intelligentdosing-1691345.html',\n",
       " 'https://www.mediamarkt.nl/nl/product/_samsung-autodose-5000-serie-wd10t534abw-1672469.html',\n",
       " 'https://www.mediamarkt.nl/nl/product/_miele-wcd-030-wcs-1706928.html',\n",
       " 'https://www.mediamarkt.nl/nl/product/_lg-f4wv308s3e-ai-dd-1701537.html',\n",
       " 'https://www.mediamarkt.nl/nl/product/_samsung-quickdrive-8000-serie-ww80t936ash-1672444.html',\n",
       " 'https://www.mediamarkt.nl/nl/product/_bosch-waj28076nl-1669683.html',\n",
       " 'https://www.mediamarkt.nl/nl/product/_inventum-vwm8001w-1716425.html',\n",
       " 'https://www.mediamarkt.nl/nl/product/_samsung-ecobubble-5000-serie-wd70ta049be-1672466.html',\n",
       " 'https://www.mediamarkt.nl/nl/product/_bosch-wan28005nl-1662133.html',\n",
       " 'https://www.mediamarkt.nl/nl/product/_siemens-wm14vmh0nl-iq700-powerspeed-1693548.html',\n",
       " 'https://www.mediamarkt.nl/nl/product/_bosch-wgg256m8nl-serie-6-activewater-plus-1722672.html',\n",
       " 'https://www.mediamarkt.nl/nl/product/_haier-hw80-bp16636n-1699516.html',\n",
       " 'https://www.mediamarkt.nl/nl/product/_lg-gc3v508s1-turbowash-59-1727856.html',\n",
       " 'https://www.mediamarkt.nl/nl/product/_miele-wci-870-wcs-powerwash-2-0-twindos-1654260.html',\n",
       " 'https://www.mediamarkt.nl/nl/product/_samsung-quickdrive-8000-serie-wd90t984ase-1672471.html',\n",
       " 'https://www.mediamarkt.nl/nl/product/_beko-wtv10725xcw1-1713437.html',\n",
       " 'https://www.mediamarkt.nl/nl/product/_aeg-l6tbn62k-1705485.html',\n",
       " 'https://www.mediamarkt.nl/nl/product/_whirlpool-ffbbe-7448-bv-f-1702254.html',\n",
       " 'https://www.mediamarkt.nl/nl/product/_beko-wtv81484csbn1-1666521.html',\n",
       " 'https://www.mediamarkt.nl/nl/product/_aeg-l7fbn86gs-1710208.html',\n",
       " 'https://www.mediamarkt.nl/nl/product/_bosch-waxh2e71nl-serie-8-i-dos-1673031.html',\n",
       " 'https://www.mediamarkt.nl/nl/product/_aeg-l9fens96-softwater-1642556.html',\n",
       " 'https://www.mediamarkt.nl/nl/product/_aeg-l8fens94e-%C3%B6komix-1712358.html',\n",
       " 'https://www.mediamarkt.nl/nl/product/_aeg-l6fbmaxi-1646215.html',\n",
       " 'https://www.mediamarkt.nl/nl/product/_beko-wtv9716xwwst-1731914.html',\n",
       " 'https://www.mediamarkt.nl/nl/product/_bosch-waj28001nl-1669685.html',\n",
       " 'https://www.mediamarkt.nl/nl/product/_aeg-l7fenq96-prosteam-autodose-1618139.html',\n",
       " 'https://www.mediamarkt.nl/nl/product/_siemens-wm14uph5nl-iq500-home-connect-1729581.html',\n",
       " 'https://www.mediamarkt.nl/nl/product/_miele-wcd-670-wcs-twindos-1678204.html',\n",
       " 'https://www.mediamarkt.nl/nl/product/_aeg-l6tbn62g-1712362.html',\n",
       " 'https://www.mediamarkt.nl/nl/product/_bosch-wal28ph7nl-1706401.html',\n",
       " 'https://www.mediamarkt.nl/nl/product/_inventum-vwm9001w-1716427.html',\n",
       " 'https://www.mediamarkt.nl/nl/product/_whirlpool-tdlr-7220ls-eu-n-1699814.html',\n",
       " 'https://www.mediamarkt.nl/nl/product/_lg-f4wv912a2e-1704768.html',\n",
       " 'https://www.mediamarkt.nl/nl/product/_haier-hw100-b14636n-1699518.html',\n",
       " 'https://www.mediamarkt.nl/nl/product/_bosch-waxh2k76nl-serie-8-i-dos-1709708.html',\n",
       " 'https://www.mediamarkt.nl/nl/product/_beko-wte12744xdos1-1712770.html',\n",
       " 'https://www.mediamarkt.nl/nl/product/_siemens-wm14vmh7nl-iq700-powerspeed-1691344.html',\n",
       " 'https://www.mediamarkt.nl/nl/product/_sharp-esnfb914cwabx-1721813.html',\n",
       " 'https://www.mediamarkt.nl/nl/product/_lg-f4wm309we-steam-1725311.html',\n",
       " 'https://www.mediamarkt.nl/nl/product/_whirlpool-ffbbe-8468-bev-f-1702253.html',\n",
       " 'https://www.mediamarkt.nl/nl/product/_lg-twinwash-mini-fh8g1mini-1495022.html',\n",
       " 'https://www.mediamarkt.nl/nl/product/_everglades-evwm71402ag-1722348.html',\n",
       " 'https://www.mediamarkt.nl/nl/product/_aeg-l6fbn7400-prosense-1712360.html',\n",
       " 'https://www.mediamarkt.nl/nl/product/_lg-f4v709p1e-ai-dd-1679070.html',\n",
       " 'https://www.mediamarkt.nl/nl/product/_bosch-wav28k70nl-serie-8-i-dos-1734393.html',\n",
       " 'https://www.mediamarkt.nl/nl/product/_bosch-wax32k75nl-serie-8-i-dos-1734392.html',\n",
       " 'https://www.mediamarkt.nl/nl/product/_siemens-wm16xk75nl-1734401.html',\n",
       " 'https://www.mediamarkt.nl/nl/product/_siemens-wd4hu541nl-iq700-home-connect-1734404.html',\n",
       " 'https://www.mediamarkt.nl/nl/product/_samsung-quickdrive-7000-serie-ww80t754abt-1672441.html',\n",
       " 'https://www.mediamarkt.nl/nl/product/_miele-wcf-370-wcs-powerwash-2-0-1678205.html',\n",
       " 'https://www.mediamarkt.nl/nl/product/_lg-f6wv71s2ta-1711507.html',\n",
       " 'https://www.mediamarkt.nl/nl/product/_beko-wtv91484csbn1-1666522.html',\n",
       " 'https://www.mediamarkt.nl/nl/product/_aeg-l7fbn84gw-prosteam-1712359.html',\n",
       " 'https://www.mediamarkt.nl/nl/product/_beko-wte10746cht1-1699124.html',\n",
       " 'https://www.mediamarkt.nl/nl/product/_lg-f4wv309s4e-ai-dd-1699208.html',\n",
       " 'https://www.mediamarkt.nl/nl/product/_bosch-wau28t00nl-serie-6-activewater-plus-1679518.html',\n",
       " 'https://www.mediamarkt.nl/nl/product/_bosch-wgg04407nl-serie-4-activewater-plus-1731909.html',\n",
       " 'https://www.mediamarkt.nl/nl/product/_aeg-l6tb73g-prosense-1555552.html',\n",
       " 'https://www.mediamarkt.nl/nl/product/_whirlpool-w6-w845wb-be-1699810.html',\n",
       " 'https://www.mediamarkt.nl/nl/product/_haier-hw90-bp14636n-1699517.html',\n",
       " 'https://www.mediamarkt.nl/nl/product/_bosch-wav28eh7nl-homeprofessional-8-i-dos-1690065.html',\n",
       " 'https://www.mediamarkt.nl/nl/product/_aeg-l6fbxxl-prosense-1714456.html',\n",
       " 'https://www.mediamarkt.nl/nl/product/_everglades-evwm91402ag-1722349.html',\n",
       " 'https://www.mediamarkt.nl/nl/product/_aeg-l6vapor-1715995.html',\n",
       " 'https://www.mediamarkt.nl/nl/product/_bosch-wan28205nl-1662132.html',\n",
       " 'https://www.mediamarkt.nl/nl/product/_siemens-wm6hxm76nl-iq700-powerspeed-1709711.html',\n",
       " 'https://www.mediamarkt.nl/nl/product/_miele-ww-650-wcs-1675717.html',\n",
       " 'https://www.mediamarkt.nl/nl/product/_bosch-wav28kh7nl-serie-8-i-dos-1690850.html',\n",
       " 'https://www.mediamarkt.nl/nl/product/_lg-f4wv310s6e-ai-dd-1706096.html',\n",
       " 'https://www.mediamarkt.nl/nl/product/_lg-lc1r7n2-ai-dd-1679064.html',\n",
       " 'https://www.mediamarkt.nl/nl/product/_beko-wtv8814mmco-1722551.html',\n",
       " 'https://www.mediamarkt.nl/nl/product/_aeg-l6fbn84gq-prosense-autodose-1626022.html',\n",
       " 'https://www.mediamarkt.nl/nl/product/_bosch-wan28075nl-1680481.html',\n",
       " 'https://www.mediamarkt.nl/nl/product/_siemens-wg44g2m7nl-iq500-isensoric-1709712.html',\n",
       " 'https://www.mediamarkt.nl/nl/product/_lg-f4v909p2e-1679071.html',\n",
       " 'https://www.mediamarkt.nl/nl/product/_siemens-wm14uu00nl-iq500-isensoric-1662129.html',\n",
       " 'https://www.mediamarkt.nl/nl/product/_bosch-wav28mh0nl-serie-8-4d-wash-system-1690655.html',\n",
       " 'https://www.mediamarkt.nl/nl/product/_siemens-wm14n205nl-1679485.html',\n",
       " 'https://www.mediamarkt.nl/nl/product/_aeg-l7fens96ad-1706804.html',\n",
       " 'https://www.mediamarkt.nl/nl/product/_lg-f6wv910p2e-ai-dd-1679063.html',\n",
       " 'https://www.mediamarkt.nl/nl/product/_beko-wtv8725xcw1-1713435.html',\n",
       " 'https://www.mediamarkt.nl/nl/product/_siemens-wg44g205nl-iq500-variospeed-1721620.html',\n",
       " 'https://www.mediamarkt.nl/nl/product/_bosch-wgg14407nl-serie-6-activewater-plus-1721629.html',\n",
       " 'https://www.mediamarkt.nl/nl/product/_siemens-wg44g005nl-iq300-variospeed-1731908.html',\n",
       " 'https://www.mediamarkt.nl/nl/product/_whirlpool-ffbbe-8448-wev-1679928.html',\n",
       " 'https://www.mediamarkt.nl/nl/product/_beko-wtv9725xcw1-1713436.html',\n",
       " 'https://www.mediamarkt.nl/nl/product/_bosch-wgg14400nl-serie-6-activewater-plus-1721631.html',\n",
       " 'https://www.mediamarkt.nl/nl/product/_beko-wtv7714mmo%C2%A0%C2%A0%C2%A0%C2%A0%C2%A0%C2%A0%C2%A0%C2%A0-%C2%A0%C2%A0-1722549.html',\n",
       " 'https://www.mediamarkt.nl/nl/product/_bosch-waj28010nl-1669684.html',\n",
       " 'https://www.mediamarkt.nl/nl/product/_beko-wtv71483csb1-1674882.html',\n",
       " 'https://www.mediamarkt.nl/nl/product/_whirlpool-ffsbe-7438-we-f-1699813.html',\n",
       " 'https://www.mediamarkt.nl/nl/product/_whirlpool-ffbbe-8638-bev-f-1699811.html',\n",
       " 'https://www.mediamarkt.nl/nl/product/_bosch-wau28ph5nl-serie-6-i-dos-1722218.html',\n",
       " 'https://www.mediamarkt.nl/nl/product/_lg-f4wn509s0-1623204.html',\n",
       " 'https://www.mediamarkt.nl/nl/product/_bosch-wau28s00nl-1662136.html',\n",
       " 'https://www.mediamarkt.nl/nl/product/_bosch-waxh2m70nl-serie-8-4d-wash-system-1665857.html',\n",
       " 'https://www.mediamarkt.nl/nl/product/_bosch-wgg24400nl-serie-6-activewater-plus-1721630.html',\n",
       " 'https://www.mediamarkt.nl/nl/product/_bosch-wgg256a7nl-serie-6-i-dos-1721637.html',\n",
       " 'https://www.mediamarkt.nl/nl/product/_bosch-wgg244a0nl-serie-6-i-dos-1721638.html',\n",
       " 'https://www.mediamarkt.nl/nl/product/_aeg-l6fbn8600-1701769.html',\n",
       " 'https://www.mediamarkt.nl/nl/product/_siemens-wm14n005nl-1662127.html',\n",
       " 'https://www.mediamarkt.nl/nl/product/_siemens-wm6hxk76nl-iq700-intelligentdosing-1709710.html',\n",
       " 'https://www.mediamarkt.nl/nl/product/_lg-f4j5vn3we-1675728.html',\n",
       " 'https://www.mediamarkt.nl/nl/product/_siemens-wg44g107nl-iq500-variospeed-1721625.html',\n",
       " 'https://www.mediamarkt.nl/nl/product/_bosch-wau28p00nl-1675725.html',\n",
       " 'https://www.mediamarkt.nl/nl/product/_siemens-wm14ur70nl-iq500-isensoric-1682339.html',\n",
       " 'https://www.mediamarkt.nl/nl/product/_siemens-wg44g2a5nl-iq500-intelligentdosing-1722892.html',\n",
       " 'https://www.mediamarkt.nl/nl/product/_miele-wch-870-wcs-powerwash-2-0-1706927.html',\n",
       " 'https://www.mediamarkt.nl/nl/product/_siemens-wm14uq00nl-iq500-isensoric-1674867.html',\n",
       " 'https://www.mediamarkt.nl/nl/product/_siemens-wm14vkh7nl-iq700-intelligentdosing-1690851.html',\n",
       " 'https://www.mediamarkt.nl/nl/product/_siemens-wm14vkh5nl-iq700-intelligentdosing-1693549.html',\n",
       " 'https://www.mediamarkt.nl/nl/product/_bosch-wgg244m7nl-serie-6-activewater-plus-1706400.html',\n",
       " 'https://www.mediamarkt.nl/nl/product/_siemens-wm6hxk70nl-intelligentdosing-1679773.html',\n",
       " 'https://www.mediamarkt.nl/nl/product/_siemens-wm6hxk75nl-1679777.html',\n",
       " 'https://www.mediamarkt.nl/nl/product/_bosch-waxh2m71nl-serie-8-4d-wash-system-1709709.html',\n",
       " 'https://www.mediamarkt.nl/nl/product/_bosch-wau28rh1nl-serie-6-homeconnect-1721628.html']"
      ]
     },
     "execution_count": 73,
     "metadata": {},
     "output_type": "execute_result"
    }
   ],
   "source": [
    "links_product"
   ]
  },
  {
   "cell_type": "code",
   "execution_count": 74,
   "id": "342c4d99",
   "metadata": {},
   "outputs": [],
   "source": [
    "links_product = list(dict.fromkeys(links_product))"
   ]
  },
  {
   "cell_type": "code",
   "execution_count": 75,
   "id": "21f044b6",
   "metadata": {},
   "outputs": [
    {
     "data": {
      "text/plain": [
       "168"
      ]
     },
     "execution_count": 75,
     "metadata": {},
     "output_type": "execute_result"
    }
   ],
   "source": [
    "len(links_product)"
   ]
  },
  {
   "cell_type": "code",
   "execution_count": 76,
   "id": "32bee70a",
   "metadata": {},
   "outputs": [],
   "source": [
    "full_screen()"
   ]
  },
  {
   "cell_type": "code",
   "execution_count": 81,
   "id": "c68ab970",
   "metadata": {},
   "outputs": [],
   "source": [
    "try:\n",
    "    css_selector = \"#features > div.StyledFoldable-sc-1e6f7m3-0.bnTrpE > div > div > div > div > button > span.StyledIconWrapper-sc-1drhx1h-3.gzalTO\"\n",
    "    click_via_css(css_selector)\n",
    "except Exception:\n",
    "    print(\"error\")"
   ]
  },
  {
   "cell_type": "code",
   "execution_count": 82,
   "id": "77a52976",
   "metadata": {},
   "outputs": [
    {
     "data": {
      "text/plain": [
       "[<table class=\"StyledTable-sc-1lcy5op-0 guVeyR\"><thead class=\"StyledTableHead-iazyh2-0 kmVCXi\"><tr class=\"StyledTableRow-sc-1enz63a-0 bXSuKd\"><th class=\"StyledDataCell-y8xttg-0 bCBRvy\"><span class=\"BaseTypo-sc-1jga2g7-0 izkVco StyledInfoTypo-sc-1jga2g7-1 aaECK\" color=\"#000\">Technische eigenschappen</span></th><th class=\"StyledDataCell-y8xttg-0 gMkAby\"></th></tr></thead><tbody class=\"StyledTableBody-v8xzh9-0 gIYkFT\"><tr class=\"StyledTableRow-sc-1enz63a-0 bXSuKd\"><td class=\"StyledDataCell-y8xttg-0 hylWZJ\"><span class=\"BaseTypo-sc-1jga2g7-0 izkVco StyledInfoTypo-sc-1jga2g7-1 cmQNoU\" color=\"#000\">Vulgewicht wassen</span></td><td class=\"StyledDataCell-y8xttg-0 izdyJt StyledTableCell-ea56b7-2 jCWWgG\">9 kg</td></tr><tr class=\"StyledTableRow-sc-1enz63a-0 bXSuKd\"><td class=\"StyledDataCell-y8xttg-0 hylWZJ\"><span class=\"BaseTypo-sc-1jga2g7-0 izkVco StyledInfoTypo-sc-1jga2g7-1 cmQNoU\" color=\"#000\">Type apparaat</span></td><td class=\"StyledDataCell-y8xttg-0 izdyJt StyledTableCell-ea56b7-2 jCWWgG\">Wasmachine</td></tr><tr class=\"StyledTableRow-sc-1enz63a-0 bXSuKd\"><td class=\"StyledDataCell-y8xttg-0 hylWZJ\"><span class=\"BaseTypo-sc-1jga2g7-0 izkVco StyledInfoTypo-sc-1jga2g7-1 cmQNoU\" color=\"#000\">Type belading</span></td><td class=\"StyledDataCell-y8xttg-0 izdyJt StyledTableCell-ea56b7-2 jCWWgG\">Voorlader</td></tr><tr class=\"StyledTableRow-sc-1enz63a-0 bXSuKd\"><td class=\"StyledDataCell-y8xttg-0 hylWZJ\"><span class=\"BaseTypo-sc-1jga2g7-0 izkVco StyledInfoTypo-sc-1jga2g7-1 cmQNoU\" color=\"#000\">Soort apparaat</span></td><td class=\"StyledDataCell-y8xttg-0 izdyJt StyledTableCell-ea56b7-2 jCWWgG\">Vrijstaand</td></tr><tr class=\"StyledTableRow-sc-1enz63a-0 bXSuKd\"><td class=\"StyledDataCell-y8xttg-0 hylWZJ\"><span class=\"BaseTypo-sc-1jga2g7-0 izkVco StyledInfoTypo-sc-1jga2g7-1 cmQNoU\" color=\"#000\">Volume centrifugeren</span></td><td class=\"StyledDataCell-y8xttg-0 izdyJt StyledTableCell-ea56b7-2 jCWWgG\">72 dB(A)</td></tr><tr class=\"StyledTableRow-sc-1enz63a-0 bXSuKd\"><td class=\"StyledDataCell-y8xttg-0 hylWZJ\"><span class=\"BaseTypo-sc-1jga2g7-0 izkVco StyledInfoTypo-sc-1jga2g7-1 cmQNoU\" color=\"#000\">Bediening</span></td><td class=\"StyledDataCell-y8xttg-0 izdyJt StyledTableCell-ea56b7-2 jCWWgG\">Elektronisch</td></tr></tbody></table>,\n",
       " <table class=\"StyledTable-sc-1lcy5op-0 guVeyR\"><thead class=\"StyledTableHead-iazyh2-0 kmVCXi\"><tr class=\"StyledTableRow-sc-1enz63a-0 bXSuKd\"><th class=\"StyledDataCell-y8xttg-0 bCBRvy\"><span class=\"BaseTypo-sc-1jga2g7-0 izkVco StyledInfoTypo-sc-1jga2g7-1 aaECK\" color=\"#000\">Programma's</span></th><th class=\"StyledDataCell-y8xttg-0 gMkAby\"></th></tr></thead><tbody class=\"StyledTableBody-v8xzh9-0 gIYkFT\"><tr class=\"StyledTableRow-sc-1enz63a-0 bXSuKd\"><td class=\"StyledDataCell-y8xttg-0 hylWZJ\"><span class=\"BaseTypo-sc-1jga2g7-0 izkVco StyledInfoTypo-sc-1jga2g7-1 cmQNoU\" color=\"#000\">Programma's</span></td><td class=\"StyledDataCell-y8xttg-0 izdyJt StyledTableCell-ea56b7-2 jCWWgG\">Programma fijne was, Programma kreukherstellend, Programma witte-/bonte was, Wol-handwasprogramma</td></tr><tr class=\"StyledTableRow-sc-1enz63a-0 bXSuKd\"><td class=\"StyledDataCell-y8xttg-0 hylWZJ\"><span class=\"BaseTypo-sc-1jga2g7-0 izkVco StyledInfoTypo-sc-1jga2g7-1 cmQNoU\" color=\"#000\">Koude was</span></td><td class=\"StyledDataCell-y8xttg-0 izdyJt StyledTableCell-ea56b7-2 jCWWgG\">Ja</td></tr><tr class=\"StyledTableRow-sc-1enz63a-0 bXSuKd\"><td class=\"StyledDataCell-y8xttg-0 hylWZJ\"><span class=\"BaseTypo-sc-1jga2g7-0 izkVco StyledInfoTypo-sc-1jga2g7-1 cmQNoU\" color=\"#000\">Stoomfunctie</span></td><td class=\"StyledDataCell-y8xttg-0 izdyJt StyledTableCell-ea56b7-2 jCWWgG\">Nee</td></tr></tbody></table>,\n",
       " <table class=\"StyledTable-sc-1lcy5op-0 guVeyR\"><thead class=\"StyledTableHead-iazyh2-0 kmVCXi\"><tr class=\"StyledTableRow-sc-1enz63a-0 bXSuKd\"><th class=\"StyledDataCell-y8xttg-0 bCBRvy\"><span class=\"BaseTypo-sc-1jga2g7-0 izkVco StyledInfoTypo-sc-1jga2g7-1 aaECK\" color=\"#000\">Uitvoering</span></th><th class=\"StyledDataCell-y8xttg-0 gMkAby\"></th></tr></thead><tbody class=\"StyledTableBody-v8xzh9-0 gIYkFT\"><tr class=\"StyledTableRow-sc-1enz63a-0 bXSuKd\"><td class=\"StyledDataCell-y8xttg-0 hylWZJ\"><span class=\"BaseTypo-sc-1jga2g7-0 izkVco StyledInfoTypo-sc-1jga2g7-1 cmQNoU\" color=\"#000\">Antikreukfunctie</span></td><td class=\"StyledDataCell-y8xttg-0 izdyJt StyledTableCell-ea56b7-2 jCWWgG\">Ja</td></tr><tr class=\"StyledTableRow-sc-1enz63a-0 bXSuKd\"><td class=\"StyledDataCell-y8xttg-0 hylWZJ\"><span class=\"BaseTypo-sc-1jga2g7-0 izkVco StyledInfoTypo-sc-1jga2g7-1 cmQNoU\" color=\"#000\">Automatische dosering</span></td><td class=\"StyledDataCell-y8xttg-0 izdyJt StyledTableCell-ea56b7-2 jCWWgG\">Ja</td></tr><tr class=\"StyledTableRow-sc-1enz63a-0 bXSuKd\"><td class=\"StyledDataCell-y8xttg-0 hylWZJ\"><span class=\"BaseTypo-sc-1jga2g7-0 izkVco StyledInfoTypo-sc-1jga2g7-1 cmQNoU\" color=\"#000\">Beladingsherkenning</span></td><td class=\"StyledDataCell-y8xttg-0 izdyJt StyledTableCell-ea56b7-2 jCWWgG\">Ja</td></tr><tr class=\"StyledTableRow-sc-1enz63a-0 bXSuKd\"><td class=\"StyledDataCell-y8xttg-0 hylWZJ\"><span class=\"BaseTypo-sc-1jga2g7-0 izkVco StyledInfoTypo-sc-1jga2g7-1 cmQNoU\" color=\"#000\">Overige kenmerken</span></td><td class=\"StyledDataCell-y8xttg-0 izdyJt StyledTableCell-ea56b7-2 jCWWgG\">Demo-programma</td></tr><tr class=\"StyledTableRow-sc-1enz63a-0 bXSuKd\"><td class=\"StyledDataCell-y8xttg-0 hylWZJ\"><span class=\"BaseTypo-sc-1jga2g7-0 izkVco StyledInfoTypo-sc-1jga2g7-1 cmQNoU\" color=\"#000\">Vuilherkenning</span></td><td class=\"StyledDataCell-y8xttg-0 izdyJt StyledTableCell-ea56b7-2 jCWWgG\">Ja</td></tr><tr class=\"StyledTableRow-sc-1enz63a-0 bXSuKd\"><td class=\"StyledDataCell-y8xttg-0 hylWZJ\"><span class=\"BaseTypo-sc-1jga2g7-0 izkVco StyledInfoTypo-sc-1jga2g7-1 cmQNoU\" color=\"#000\">Balanscontrole</span></td><td class=\"StyledDataCell-y8xttg-0 izdyJt StyledTableCell-ea56b7-2 jCWWgG\">Ja</td></tr><tr class=\"StyledTableRow-sc-1enz63a-0 bXSuKd\"><td class=\"StyledDataCell-y8xttg-0 hylWZJ\"><span class=\"BaseTypo-sc-1jga2g7-0 izkVco StyledInfoTypo-sc-1jga2g7-1 cmQNoU\" color=\"#000\">Trommelmateriaal</span></td><td class=\"StyledDataCell-y8xttg-0 izdyJt StyledTableCell-ea56b7-2 jCWWgG\">Inox</td></tr><tr class=\"StyledTableRow-sc-1enz63a-0 bXSuKd\"><td class=\"StyledDataCell-y8xttg-0 hylWZJ\"><span class=\"BaseTypo-sc-1jga2g7-0 izkVco StyledInfoTypo-sc-1jga2g7-1 cmQNoU\" color=\"#000\">Inhoud trommel</span></td><td class=\"StyledDataCell-y8xttg-0 izdyJt StyledTableCell-ea56b7-2 jCWWgG\">63 l</td></tr><tr class=\"StyledTableRow-sc-1enz63a-0 bXSuKd\"><td class=\"StyledDataCell-y8xttg-0 hylWZJ\"><span class=\"BaseTypo-sc-1jga2g7-0 izkVco StyledInfoTypo-sc-1jga2g7-1 cmQNoU\" color=\"#000\">Deur opent naar</span></td><td class=\"StyledDataCell-y8xttg-0 izdyJt StyledTableCell-ea56b7-2 jCWWgG\">Links</td></tr><tr class=\"StyledTableRow-sc-1enz63a-0 bXSuKd\"><td class=\"StyledDataCell-y8xttg-0 hylWZJ\"><span class=\"BaseTypo-sc-1jga2g7-0 izkVco StyledInfoTypo-sc-1jga2g7-1 cmQNoU\" color=\"#000\">Kinderbeveiliging</span></td><td class=\"StyledDataCell-y8xttg-0 izdyJt StyledTableCell-ea56b7-2 jCWWgG\">Ja</td></tr><tr class=\"StyledTableRow-sc-1enz63a-0 bXSuKd\" id=\"pdp-features-last-always-visible\"><td class=\"StyledDataCell-y8xttg-0 hylWZJ\"><span class=\"BaseTypo-sc-1jga2g7-0 izkVco StyledInfoTypo-sc-1jga2g7-1 cmQNoU\" color=\"#000\">Binnenverlichting</span></td><td class=\"StyledDataCell-y8xttg-0 izdyJt StyledTableCell-ea56b7-2 jCWWgG\">Ja</td></tr><tr class=\"StyledTableRow-sc-1enz63a-0 bXSuKd\"><td class=\"StyledDataCell-y8xttg-0 hylWZJ\"><span class=\"BaseTypo-sc-1jga2g7-0 izkVco StyledInfoTypo-sc-1jga2g7-1 cmQNoU\" color=\"#000\">Te verbinden met app</span></td><td class=\"StyledDataCell-y8xttg-0 izdyJt StyledTableCell-ea56b7-2 jCWWgG\">Nee</td></tr><tr class=\"StyledTableRow-sc-1enz63a-0 bXSuKd\"><td class=\"StyledDataCell-y8xttg-0 hylWZJ\"><span class=\"BaseTypo-sc-1jga2g7-0 izkVco StyledInfoTypo-sc-1jga2g7-1 cmQNoU\" color=\"#000\">Overstroombeveiliging</span></td><td class=\"StyledDataCell-y8xttg-0 izdyJt StyledTableCell-ea56b7-2 jCWWgG\">Ja</td></tr><tr class=\"StyledTableRow-sc-1enz63a-0 bXSuKd\"><td class=\"StyledDataCell-y8xttg-0 hylWZJ\"><span class=\"BaseTypo-sc-1jga2g7-0 izkVco StyledInfoTypo-sc-1jga2g7-1 cmQNoU\" color=\"#000\">Koolborstelloze motor</span></td><td class=\"StyledDataCell-y8xttg-0 izdyJt StyledTableCell-ea56b7-2 jCWWgG\">Ja</td></tr></tbody></table>,\n",
       " <table class=\"StyledTable-sc-1lcy5op-0 guVeyR\"><thead class=\"StyledTableHead-iazyh2-0 kmVCXi\"><tr class=\"StyledTableRow-sc-1enz63a-0 bXSuKd\"><th class=\"StyledDataCell-y8xttg-0 bCBRvy\"><span class=\"BaseTypo-sc-1jga2g7-0 izkVco StyledInfoTypo-sc-1jga2g7-1 aaECK\" color=\"#000\">Weergave/besturing</span></th><th class=\"StyledDataCell-y8xttg-0 gMkAby\"></th></tr></thead><tbody class=\"StyledTableBody-v8xzh9-0 gIYkFT\"><tr class=\"StyledTableRow-sc-1enz63a-0 bXSuKd\"><td class=\"StyledDataCell-y8xttg-0 hylWZJ\"><span class=\"BaseTypo-sc-1jga2g7-0 izkVco StyledInfoTypo-sc-1jga2g7-1 cmQNoU\" color=\"#000\">Bedieningselementen</span></td><td class=\"StyledDataCell-y8xttg-0 izdyJt StyledTableCell-ea56b7-2 jCWWgG\">Digitale indicatie, Drukknoppen, LCD</td></tr><tr class=\"StyledTableRow-sc-1enz63a-0 bXSuKd\"><td class=\"StyledDataCell-y8xttg-0 hylWZJ\"><span class=\"BaseTypo-sc-1jga2g7-0 izkVco StyledInfoTypo-sc-1jga2g7-1 cmQNoU\" color=\"#000\">Resttijdindicatie</span></td><td class=\"StyledDataCell-y8xttg-0 izdyJt StyledTableCell-ea56b7-2 jCWWgG\">Ja</td></tr><tr class=\"StyledTableRow-sc-1enz63a-0 bXSuKd\"><td class=\"StyledDataCell-y8xttg-0 hylWZJ\"><span class=\"BaseTypo-sc-1jga2g7-0 izkVco StyledInfoTypo-sc-1jga2g7-1 cmQNoU\" color=\"#000\">Instelbare starttijd</span></td><td class=\"StyledDataCell-y8xttg-0 izdyJt StyledTableCell-ea56b7-2 jCWWgG\">Ja</td></tr></tbody></table>,\n",
       " <table class=\"StyledTable-sc-1lcy5op-0 guVeyR\"><thead class=\"StyledTableHead-iazyh2-0 kmVCXi\"><tr class=\"StyledTableRow-sc-1enz63a-0 bXSuKd\"><th class=\"StyledDataCell-y8xttg-0 bCBRvy\"><span class=\"BaseTypo-sc-1jga2g7-0 izkVco StyledInfoTypo-sc-1jga2g7-1 aaECK\" color=\"#000\">Algemene eigenschappen</span></th><th class=\"StyledDataCell-y8xttg-0 gMkAby\"></th></tr></thead><tbody class=\"StyledTableBody-v8xzh9-0 gIYkFT\"><tr class=\"StyledTableRow-sc-1enz63a-0 bXSuKd\"><td class=\"StyledDataCell-y8xttg-0 hylWZJ\"><span class=\"BaseTypo-sc-1jga2g7-0 izkVco StyledInfoTypo-sc-1jga2g7-1 cmQNoU\" color=\"#000\">Afmetingen (B x H x D)</span></td><td class=\"StyledDataCell-y8xttg-0 izdyJt StyledTableCell-ea56b7-2 jCWWgG\">59.8 cm x 84.5 cm x 59 cm</td></tr><tr class=\"StyledTableRow-sc-1enz63a-0 bXSuKd\"><td class=\"StyledDataCell-y8xttg-0 hylWZJ\"><span class=\"BaseTypo-sc-1jga2g7-0 izkVco StyledInfoTypo-sc-1jga2g7-1 cmQNoU\" color=\"#000\">Kleur</span></td><td class=\"StyledDataCell-y8xttg-0 izdyJt StyledTableCell-ea56b7-2 jCWWgG\">Wit</td></tr><tr class=\"StyledTableRow-sc-1enz63a-0 bXSuKd\"><td class=\"StyledDataCell-y8xttg-0 hylWZJ\"><span class=\"BaseTypo-sc-1jga2g7-0 izkVco StyledInfoTypo-sc-1jga2g7-1 cmQNoU\" color=\"#000\">Kleur (basic)</span></td><td class=\"StyledDataCell-y8xttg-0 izdyJt StyledTableCell-ea56b7-2 jCWWgG\">Wit</td></tr><tr class=\"StyledTableRow-sc-1enz63a-0 bXSuKd\"><td class=\"StyledDataCell-y8xttg-0 hylWZJ\"><span class=\"BaseTypo-sc-1jga2g7-0 izkVco StyledInfoTypo-sc-1jga2g7-1 cmQNoU\" color=\"#000\">Afneembaar werkblad</span></td><td class=\"StyledDataCell-y8xttg-0 izdyJt StyledTableCell-ea56b7-2 jCWWgG\">Nee</td></tr><tr class=\"StyledTableRow-sc-1enz63a-0 bXSuKd\"><td class=\"StyledDataCell-y8xttg-0 hylWZJ\"><span class=\"BaseTypo-sc-1jga2g7-0 izkVco StyledInfoTypo-sc-1jga2g7-1 cmQNoU\" color=\"#000\">Hoogte</span></td><td class=\"StyledDataCell-y8xttg-0 izdyJt StyledTableCell-ea56b7-2 jCWWgG\">84.5 cm</td></tr><tr class=\"StyledTableRow-sc-1enz63a-0 bXSuKd\"><td class=\"StyledDataCell-y8xttg-0 hylWZJ\"><span class=\"BaseTypo-sc-1jga2g7-0 izkVco StyledInfoTypo-sc-1jga2g7-1 cmQNoU\" color=\"#000\">Breedte</span></td><td class=\"StyledDataCell-y8xttg-0 izdyJt StyledTableCell-ea56b7-2 jCWWgG\">59.8 cm</td></tr><tr class=\"StyledTableRow-sc-1enz63a-0 bXSuKd\"><td class=\"StyledDataCell-y8xttg-0 hylWZJ\"><span class=\"BaseTypo-sc-1jga2g7-0 izkVco StyledInfoTypo-sc-1jga2g7-1 cmQNoU\" color=\"#000\">Diepte</span></td><td class=\"StyledDataCell-y8xttg-0 izdyJt StyledTableCell-ea56b7-2 jCWWgG\">59 cm</td></tr><tr class=\"StyledTableRow-sc-1enz63a-0 bXSuKd\"><td class=\"StyledDataCell-y8xttg-0 hylWZJ\"><span class=\"BaseTypo-sc-1jga2g7-0 izkVco StyledInfoTypo-sc-1jga2g7-1 cmQNoU\" color=\"#000\">Diepte bij geopende deur (90°)</span></td><td class=\"StyledDataCell-y8xttg-0 izdyJt StyledTableCell-ea56b7-2 jCWWgG\">106.3 cm</td></tr><tr class=\"StyledTableRow-sc-1enz63a-0 bXSuKd\"><td class=\"StyledDataCell-y8xttg-0 hylWZJ\"><span class=\"BaseTypo-sc-1jga2g7-0 izkVco StyledInfoTypo-sc-1jga2g7-1 cmQNoU\" color=\"#000\">Verstelbare poten</span></td><td class=\"StyledDataCell-y8xttg-0 izdyJt StyledTableCell-ea56b7-2 jCWWgG\">Ja - alleen voorin</td></tr><tr class=\"StyledTableRow-sc-1enz63a-0 bXSuKd\"><td class=\"StyledDataCell-y8xttg-0 hylWZJ\"><span class=\"BaseTypo-sc-1jga2g7-0 izkVco StyledInfoTypo-sc-1jga2g7-1 cmQNoU\" color=\"#000\">Lengte aansluitkabel</span></td><td class=\"StyledDataCell-y8xttg-0 izdyJt StyledTableCell-ea56b7-2 jCWWgG\">1.6 m</td></tr><tr class=\"StyledTableRow-sc-1enz63a-0 bXSuKd\"><td class=\"StyledDataCell-y8xttg-0 hylWZJ\"><span class=\"BaseTypo-sc-1jga2g7-0 izkVco StyledInfoTypo-sc-1jga2g7-1 cmQNoU\" color=\"#000\">Gewicht</span></td><td class=\"StyledDataCell-y8xttg-0 izdyJt StyledTableCell-ea56b7-2 jCWWgG\">0</td></tr><tr class=\"StyledTableRow-sc-1enz63a-0 bXSuKd\"><td class=\"StyledDataCell-y8xttg-0 hylWZJ\"><span class=\"BaseTypo-sc-1jga2g7-0 izkVco StyledInfoTypo-sc-1jga2g7-1 cmQNoU\" color=\"#000\">Verpakkingsinhoud</span></td><td class=\"StyledDataCell-y8xttg-0 izdyJt StyledTableCell-ea56b7-2 jCWWgG\">Wasmachine, aanvoerslang, afvoerslang en een gebruikershandleiding</td></tr><tr class=\"StyledTableRow-sc-1enz63a-0 bXSuKd\"><td class=\"StyledDataCell-y8xttg-0 hylWZJ\"><span class=\"BaseTypo-sc-1jga2g7-0 izkVco StyledInfoTypo-sc-1jga2g7-1 cmQNoU\" color=\"#000\">Fabrieksgarantie</span></td><td class=\"StyledDataCell-y8xttg-0 izdyJt StyledTableCell-ea56b7-2 jCWWgG\">2 jaar</td></tr><tr class=\"StyledTableRow-sc-1enz63a-0 bXSuKd\"><td class=\"StyledDataCell-y8xttg-0 hylWZJ\"><span class=\"BaseTypo-sc-1jga2g7-0 izkVco StyledInfoTypo-sc-1jga2g7-1 cmQNoU\" color=\"#000\">Aanvullende garantie-informatie</span></td><td class=\"StyledDataCell-y8xttg-0 izdyJt StyledTableCell-ea56b7-2 jCWWgG\"><a class=\"StyledLinkAnchor-sc-1drhx1h-0 fPNbQX\" href=\"Geen aanvullende garantie-informatie\" rel=\"noopener noreferrer\" target=\"_blank\"><span class=\"BaseTypo-sc-1jga2g7-0 izkVco StyledInfoTypo-sc-1jga2g7-1 fctszp Text-sc-1drhx1h-4 gruBya\" color=\"#272422\">Geen aanvullende garantie-informatie</span></a></td></tr><tr class=\"StyledTableRow-sc-1enz63a-0 bXSuKd\"><td class=\"StyledDataCell-y8xttg-0 hylWZJ\"><span class=\"BaseTypo-sc-1jga2g7-0 izkVco StyledInfoTypo-sc-1jga2g7-1 cmQNoU\" color=\"#000\">Manufacturer Part Number (MPN)</span></td><td class=\"StyledDataCell-y8xttg-0 izdyJt StyledTableCell-ea56b7-2 jCWWgG\">WAU28P00NL</td></tr></tbody></table>,\n",
       " <table class=\"StyledTable-sc-1lcy5op-0 guVeyR\"><thead class=\"StyledTableHead-iazyh2-0 kmVCXi\"><tr class=\"StyledTableRow-sc-1enz63a-0 bXSuKd\"><th class=\"StyledDataCell-y8xttg-0 bCBRvy\"><span class=\"BaseTypo-sc-1jga2g7-0 izkVco StyledInfoTypo-sc-1jga2g7-1 aaECK\" color=\"#000\">Energieverbruik data (EU 2017/1369)</span></th><th class=\"StyledDataCell-y8xttg-0 gMkAby\"></th></tr></thead><tbody class=\"StyledTableBody-v8xzh9-0 gIYkFT\"><tr class=\"StyledTableRow-sc-1enz63a-0 bXSuKd\"><td class=\"StyledDataCell-y8xttg-0 hylWZJ\"><span class=\"BaseTypo-sc-1jga2g7-0 izkVco StyledInfoTypo-sc-1jga2g7-1 cmQNoU\" color=\"#000\">Energie-efficiëntieklasse (EU 2017/1369)</span></td><td class=\"StyledDataCell-y8xttg-0 izdyJt StyledTableCell-ea56b7-2 jCWWgG\">C</td></tr><tr class=\"StyledTableRow-sc-1enz63a-0 bXSuKd\"><td class=\"StyledDataCell-y8xttg-0 hylWZJ\"><span class=\"BaseTypo-sc-1jga2g7-0 izkVco StyledInfoTypo-sc-1jga2g7-1 cmQNoU\" color=\"#000\">EU Energy Efficiency Scale (EU 2017/1369)</span></td><td class=\"StyledDataCell-y8xttg-0 izdyJt StyledTableCell-ea56b7-2 jCWWgG\">A-G</td></tr><tr class=\"StyledTableRow-sc-1enz63a-0 bXSuKd\"><td class=\"StyledDataCell-y8xttg-0 hylWZJ\"><span class=\"BaseTypo-sc-1jga2g7-0 izkVco StyledInfoTypo-sc-1jga2g7-1 cmQNoU\" color=\"#000\">Vulgewicht wassen</span></td><td class=\"StyledDataCell-y8xttg-0 izdyJt StyledTableCell-ea56b7-2 jCWWgG\">9 kg</td></tr><tr class=\"StyledTableRow-sc-1enz63a-0 bXSuKd\"><td class=\"StyledDataCell-y8xttg-0 hylWZJ\"><span class=\"BaseTypo-sc-1jga2g7-0 izkVco StyledInfoTypo-sc-1jga2g7-1 cmQNoU\" color=\"#000\">Energieverbruik per 100 cycli</span></td><td class=\"StyledDataCell-y8xttg-0 izdyJt StyledTableCell-ea56b7-2 jCWWgG\">66 kWh</td></tr><tr class=\"StyledTableRow-sc-1enz63a-0 bXSuKd\"><td class=\"StyledDataCell-y8xttg-0 hylWZJ\"><span class=\"BaseTypo-sc-1jga2g7-0 izkVco StyledInfoTypo-sc-1jga2g7-1 cmQNoU\" color=\"#000\">Aantal toeren per minuut (nominale capaciteit)</span></td><td class=\"StyledDataCell-y8xttg-0 izdyJt StyledTableCell-ea56b7-2 jCWWgG\">1400 rpm</td></tr><tr class=\"StyledTableRow-sc-1enz63a-0 bXSuKd\"><td class=\"StyledDataCell-y8xttg-0 hylWZJ\"><span class=\"BaseTypo-sc-1jga2g7-0 izkVco StyledInfoTypo-sc-1jga2g7-1 cmQNoU\" color=\"#000\">Centrifuge-efficiëntieklasse (EU 2017/1369)</span></td><td class=\"StyledDataCell-y8xttg-0 izdyJt StyledTableCell-ea56b7-2 jCWWgG\">B</td></tr><tr class=\"StyledTableRow-sc-1enz63a-0 bXSuKd\"><td class=\"StyledDataCell-y8xttg-0 hylWZJ\"><span class=\"BaseTypo-sc-1jga2g7-0 izkVco StyledInfoTypo-sc-1jga2g7-1 cmQNoU\" color=\"#000\">Programmaduur wassen</span></td><td class=\"StyledDataCell-y8xttg-0 izdyJt StyledTableCell-ea56b7-2 jCWWgG\">03:37</td></tr><tr class=\"StyledTableRow-sc-1enz63a-0 bXSuKd\"><td class=\"StyledDataCell-y8xttg-0 hylWZJ\"><span class=\"BaseTypo-sc-1jga2g7-0 izkVco StyledInfoTypo-sc-1jga2g7-1 cmQNoU\" color=\"#000\">Volume centrifugeren</span></td><td class=\"StyledDataCell-y8xttg-0 izdyJt StyledTableCell-ea56b7-2 jCWWgG\">72 dB(A)</td></tr><tr class=\"StyledTableRow-sc-1enz63a-0 bXSuKd\"><td class=\"StyledDataCell-y8xttg-0 hylWZJ\"><span class=\"BaseTypo-sc-1jga2g7-0 izkVco StyledInfoTypo-sc-1jga2g7-1 cmQNoU\" color=\"#000\">Geluidsniveauklasse centrifugeren (EU 2017/1369)</span></td><td class=\"StyledDataCell-y8xttg-0 izdyJt StyledTableCell-ea56b7-2 jCWWgG\">A</td></tr></tbody></table>,\n",
       " <table class=\"StyledTable-sc-1lcy5op-0 guVeyR\"><thead class=\"StyledTableHead-iazyh2-0 kmVCXi\"><tr class=\"StyledTableRow-sc-1enz63a-0 bXSuKd\"><th class=\"StyledDataCell-y8xttg-0 bCBRvy\"><span class=\"BaseTypo-sc-1jga2g7-0 izkVco StyledInfoTypo-sc-1jga2g7-1 aaECK\" color=\"#000\">Updatebeleid</span></th><th class=\"StyledDataCell-y8xttg-0 gMkAby\"></th></tr></thead><tbody class=\"StyledTableBody-v8xzh9-0 gIYkFT\"><tr class=\"StyledTableRow-sc-1enz63a-0 bXSuKd\"><td class=\"StyledDataCell-y8xttg-0 hylWZJ\"><span class=\"BaseTypo-sc-1jga2g7-0 izkVco StyledInfoTypo-sc-1jga2g7-1 cmQNoU\" color=\"#000\">Software-updates vanuit fabrikant</span></td><td class=\"StyledDataCell-y8xttg-0 izdyJt StyledTableCell-ea56b7-2 jCWWgG\">Onbekend</td></tr><tr class=\"StyledTableRow-sc-1enz63a-0 bXSuKd\"><td class=\"StyledDataCell-y8xttg-0 hylWZJ\"><span class=\"BaseTypo-sc-1jga2g7-0 izkVco StyledInfoTypo-sc-1jga2g7-1 cmQNoU\" color=\"#000\">Aanvullende update-informatie</span></td><td class=\"StyledDataCell-y8xttg-0 izdyJt StyledTableCell-ea56b7-2 jCWWgG\">Onbekend</td></tr><tr class=\"StyledTableRow-sc-1enz63a-0 bXSuKd\"><td class=\"StyledDataCell-y8xttg-0 hylWZJ\"><span class=\"BaseTypo-sc-1jga2g7-0 izkVco StyledInfoTypo-sc-1jga2g7-1 cmQNoU\" color=\"#000\">Update policy</span></td><td class=\"StyledDataCell-y8xttg-0 izdyJt StyledTableCell-ea56b7-2 jCWWgG\">Onbekend</td></tr></tbody></table>,\n",
       " <table aria-label=\"financing table\" class=\"StyledTable-sc-1lcy5op-0 guVeyR\"><thead class=\"StyledTableHead-iazyh2-0 kmVCXi StyledTableHead-krk4a0-2 kpNdgB\"><tr class=\"StyledTableRow-sc-1enz63a-0 bXSuKd\"><th class=\"StyledDataCell-y8xttg-0 Vzspn\"><span class=\"BaseTypo-sc-1jga2g7-0 izkVco StyledInfoTypo-sc-1jga2g7-1 aaECK\" color=\"#000\">Totale kredietbedrag</span></th><th class=\"StyledDataCell-y8xttg-0 Vzspn\"><span class=\"BaseTypo-sc-1jga2g7-0 izkVco StyledInfoTypo-sc-1jga2g7-1 ioFxaQ\">Debet rentevoet op jaarbasis (vast)</span></th><th class=\"StyledDataCell-y8xttg-0 Vzspn\"><span class=\"BaseTypo-sc-1jga2g7-0 izkVco StyledInfoTypo-sc-1jga2g7-1 ioFxaQ\">Jaarlijks kosten­percentage</span></th><th class=\"StyledDataCell-y8xttg-0 Vzspn\"><span class=\"BaseTypo-sc-1jga2g7-0 izkVco StyledInfoTypo-sc-1jga2g7-1 aaECK\" color=\"#000\">Termijnbedrag per maand</span></th><th class=\"StyledDataCell-y8xttg-0 Vzspn\"><span class=\"BaseTypo-sc-1jga2g7-0 izkVco StyledInfoTypo-sc-1jga2g7-1 aaECK\" color=\"#000\">Duur krediet­overeenkomst</span></th><th class=\"StyledDataCell-y8xttg-0 Vzspn\"><span class=\"BaseTypo-sc-1jga2g7-0 izkVco StyledInfoTypo-sc-1jga2g7-1 aaECK\" color=\"#000\">Totaal door de consument te betalen bedrag</span></th></tr></thead><tbody class=\"StyledTableBody-v8xzh9-0 gIYkFT\"><tr class=\"StyledTableRow-sc-1enz63a-0 bPNXOx StyledTableRow-krk4a0-3 huVVcM\"><td class=\"StyledDataCell-y8xttg-0 Vzspn\"><span class=\"BaseTypo-sc-1jga2g7-0 izkVco StyledInfoTypo-sc-1jga2g7-1 gWeijh StyledColumnName-krk4a0-4 efzGHE\">Totale kredietbedrag</span><span>€ 849,99</span></td><td class=\"StyledDataCell-y8xttg-0 Vzspn\"><span class=\"BaseTypo-sc-1jga2g7-0 izkVco StyledInfoTypo-sc-1jga2g7-1 gWeijh StyledColumnName-krk4a0-4 efzGHE\">Debet rentevoet op jaarbasis (vast)</span><span>10%</span></td><td class=\"StyledDataCell-y8xttg-0 Vzspn\"><span class=\"BaseTypo-sc-1jga2g7-0 izkVco StyledInfoTypo-sc-1jga2g7-1 gWeijh StyledColumnName-krk4a0-4 efzGHE\">Jaarlijks kosten­percentage</span><span>10%</span></td><td class=\"StyledDataCell-y8xttg-0 Vzspn\"><span class=\"BaseTypo-sc-1jga2g7-0 izkVco StyledInfoTypo-sc-1jga2g7-1 gWeijh StyledColumnName-krk4a0-4 efzGHE\">Termijnbedrag per maand</span><span>€ 17,88</span></td><td class=\"StyledDataCell-y8xttg-0 Vzspn\"><span class=\"BaseTypo-sc-1jga2g7-0 izkVco StyledInfoTypo-sc-1jga2g7-1 gWeijh StyledColumnName-krk4a0-4 efzGHE\">Duur krediet­overeenkomst</span><span>60 Maanden</span></td><td class=\"StyledDataCell-y8xttg-0 Vzspn\"><span class=\"BaseTypo-sc-1jga2g7-0 izkVco StyledInfoTypo-sc-1jga2g7-1 gWeijh StyledColumnName-krk4a0-4 efzGHE\">Totaal door de consument te betalen bedrag</span><span>€ 1.072,80</span></td></tr></tbody></table>]"
      ]
     },
     "execution_count": 82,
     "metadata": {},
     "output_type": "execute_result"
    }
   ],
   "source": [
    "soup = BeautifulSoup(driver.page_source, 'lxml')\n",
    "#driver.quit()\n",
    "\n",
    "tab_data = soup.select('table')\n",
    "tab_data"
   ]
  },
  {
   "cell_type": "code",
   "execution_count": 127,
   "id": "94b135c8",
   "metadata": {
    "scrolled": true
   },
   "outputs": [
    {
     "name": "stdout",
     "output_type": "stream",
     "text": [
      "Technische eigenschappen\n",
      "Vulgewicht wassen 9 kg\n",
      "Type apparaat Wasmachine\n",
      "Type belading Voorlader\n",
      "Soort apparaat Vrijstaand\n",
      "Volume centrifugeren 72 dB(A)\n",
      "Bediening Elektronisch\n",
      "Programma's\n",
      "Programma's Programma fijne was, Programma kreukherstellend, Programma witte-/bonte was, Wol-handwasprogramma\n",
      "Koude was Ja\n",
      "Stoomfunctie Nee\n",
      "Uitvoering\n",
      "Antikreukfunctie Ja\n",
      "Automatische dosering Ja\n",
      "Beladingsherkenning Ja\n",
      "Overige kenmerken Demo-programma\n",
      "Vuilherkenning Ja\n",
      "Balanscontrole Ja\n",
      "Trommelmateriaal Inox\n",
      "Inhoud trommel 63 l\n",
      "Deur opent naar Links\n",
      "Kinderbeveiliging Ja\n",
      "Binnenverlichting Ja\n",
      "Te verbinden met app Nee\n",
      "Overstroombeveiliging Ja\n",
      "Koolborstelloze motor Ja\n",
      "Weergave/besturing\n",
      "Bedieningselementen Digitale indicatie, Drukknoppen, LCD\n",
      "Resttijdindicatie Ja\n",
      "Instelbare starttijd Ja\n",
      "Algemene eigenschappen\n",
      "Afmetingen (B x H x D) 59.8 cm x 84.5 cm x 59 cm\n",
      "Kleur Wit\n",
      "Kleur (basic) Wit\n",
      "Afneembaar werkblad Nee\n",
      "Hoogte 84.5 cm\n",
      "Breedte 59.8 cm\n",
      "Diepte 59 cm\n",
      "Diepte bij geopende deur (90°) 106.3 cm\n",
      "Verstelbare poten Ja - alleen voorin\n",
      "Lengte aansluitkabel 1.6 m\n",
      "Gewicht 0\n",
      "Verpakkingsinhoud Wasmachine, aanvoerslang, afvoerslang en een gebruikershandleiding\n",
      "Fabrieksgarantie 2 jaar\n",
      "Aanvullende garantie-informatie\n",
      "Geen aanvullende garantie-informatie\n",
      "Manufacturer Part Number (MPN) WAU28P00NL\n",
      "Energieverbruik data (EU 2017/1369)\n",
      "Energie-efficiëntieklasse (EU 2017/1369) C\n",
      "EU Energy Efficiency Scale (EU 2017/1369) A-G\n",
      "Vulgewicht wassen 9 kg\n",
      "Energieverbruik per 100 cycli 66 kWh\n",
      "Aantal toeren per minuut (nominale capaciteit) 1400 rpm\n",
      "Centrifuge-efficiëntieklasse (EU 2017/1369) B\n",
      "Programmaduur wassen 03:37\n",
      "Volume centrifugeren 72 dB(A)\n",
      "Geluidsniveauklasse centrifugeren (EU 2017/1369) A\n",
      "Updatebeleid\n",
      "Software-updates vanuit fabrikant Onbekend\n",
      "Aanvullende update-informatie Onbekend\n",
      "Update policy Onbekend\n",
      "Toon geen details\n"
     ]
    }
   ],
   "source": [
    "l0=driver.find_elements(By.CSS_SELECTOR,\"#features > div.StyledFoldable-sc-1e6f7m3-0.bnTrpE\")\n",
    "for i in l0 :\n",
    "    print (i.text)"
   ]
  },
  {
   "cell_type": "code",
   "execution_count": 147,
   "id": "4cecefab",
   "metadata": {},
   "outputs": [
    {
     "name": "stdout",
     "output_type": "stream",
     "text": [
      "Vulgewicht wassen\n",
      "Programma's\n",
      "Antikreukfunctie\n",
      "Bedieningselementen\n",
      "Afmetingen (B x H x D)\n",
      "Energie-efficiëntieklasse (EU 2017/1369)\n",
      "Software-updates vanuit fabrikant\n"
     ]
    }
   ],
   "source": [
    "for i in range(1,30):\n",
    "    for j in range(1,30):\n",
    "        try:\n",
    "            css = \"#features > div.StyledFoldable-sc-1e6f7m3-0.bnTrpE > div > div > div > div > table:nth-child(\"+str(i)+\") > tbody > tr:nth-child(\"+str(j)+\") > td.StyledDataCell-y8xttg-0.hylWZJ> span\"\n",
    "            l1=driver.find_elements(By.CSS_SELECTOR,css)\n",
    "            for i in l1 :\n",
    "                print (i.text)\n",
    "        except:\n",
    "            pass  \n",
    "#features > div.StyledFoldable-sc-1e6f7m3-0.bnTrpE > div > div > div > div > table:nth-child(1) > tbody > tr:nth-child(2) > td.StyledDataCell-y8xttg-0.hylWZJ > span"
   ]
  },
  {
   "cell_type": "code",
   "execution_count": 126,
   "id": "9ef11832",
   "metadata": {},
   "outputs": [
    {
     "name": "stdout",
     "output_type": "stream",
     "text": [
      "Vulgewicht wassen 9 kg\n",
      "Type apparaat Wasmachine\n",
      "Type belading Voorlader\n",
      "Soort apparaat Vrijstaand\n",
      "Volume centrifugeren 72 dB(A)\n",
      "Bediening Elektronisch\n"
     ]
    }
   ],
   "source": [
    "l0=driver.find_elements(By.CSS_SELECTOR,\"#features > div.StyledFoldable-sc-1e6f7m3-0.bnTrpE > div > div > div > div > table:nth-child(1) > tbody\")\n",
    "for i in l0 :\n",
    "    print (i.text)"
   ]
  },
  {
   "cell_type": "code",
   "execution_count": 132,
   "id": "b61257c1",
   "metadata": {},
   "outputs": [
    {
     "name": "stdout",
     "output_type": "stream",
     "text": [
      "Vulgewicht wassen\n"
     ]
    }
   ],
   "source": [
    "l1=driver.find_elements(By.CSS_SELECTOR,\"#features > div.StyledFoldable-sc-1e6f7m3-0.bnTrpE > div > div > div > div > table:nth-child(1) > tbody > tr:nth-child(1) > td.StyledDataCell-y8xttg-0.hylWZJ\")\n",
    "for i in l1 :\n",
    "    print (i.text)"
   ]
  },
  {
   "cell_type": "code",
   "execution_count": 125,
   "id": "ff00207e",
   "metadata": {},
   "outputs": [
    {
     "name": "stdout",
     "output_type": "stream",
     "text": [
      "9 kg\n"
     ]
    }
   ],
   "source": [
    "l2=driver.find_elements(By.CSS_SELECTOR,\"#features > div.StyledFoldable-sc-1e6f7m3-0.bnTrpE > div > div > div > div > table:nth-child(1) > tbody > tr:nth-child(1) > td.StyledDataCell-y8xttg-0.izdyJt.StyledTableCell-ea56b7-2.jCWWgG\")\n",
    "for i in l2 :\n",
    "    print (i.text)"
   ]
  },
  {
   "cell_type": "code",
   "execution_count": null,
   "id": "67084e3c",
   "metadata": {},
   "outputs": [],
   "source": []
  }
 ],
 "metadata": {
  "kernelspec": {
   "display_name": "Python 3 (ipykernel)",
   "language": "python",
   "name": "python3"
  },
  "language_info": {
   "codemirror_mode": {
    "name": "ipython",
    "version": 3
   },
   "file_extension": ".py",
   "mimetype": "text/x-python",
   "name": "python",
   "nbconvert_exporter": "python",
   "pygments_lexer": "ipython3",
   "version": "3.9.7"
  }
 },
 "nbformat": 4,
 "nbformat_minor": 5
}
